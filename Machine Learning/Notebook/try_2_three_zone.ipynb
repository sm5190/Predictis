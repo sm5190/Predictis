{
 "cells": [
  {
   "cell_type": "code",
   "execution_count": 2,
   "metadata": {},
   "outputs": [],
   "source": [
    "import pandas as pd\n"
   ]
  },
  {
   "cell_type": "code",
   "execution_count": 2,
   "metadata": {},
   "outputs": [
    {
     "name": "stdout",
     "output_type": "stream",
     "text": [
      "    age  sex   cp trestbps chol fbs restecg thalach exang oldpeak slope   ca  \\\n",
      "0  63.0  1.0  1.0      145  233   1       2     150     0     2.3     3  0.0   \n",
      "1  67.0  1.0  4.0      160  286   0       2     108     1     1.5     2  3.0   \n",
      "2  67.0  1.0  4.0      120  229   0       2     129     1     2.6     2  2.0   \n",
      "3  37.0  1.0  3.0      130  250   0       0     187     0     3.5     3  0.0   \n",
      "4  41.0  0.0  2.0      130  204   0       2     172     0     1.4     1  0.0   \n",
      "\n",
      "  thal  num  \n",
      "0  6.0    0  \n",
      "1  3.0    2  \n",
      "2  7.0    1  \n",
      "3  3.0    0  \n",
      "4  3.0    0  \n"
     ]
    }
   ],
   "source": [
    "column_names = [\"age\", \"sex\", \"cp\",\"trestbps\",\"chol\",\"fbs\",\"restecg\",\"thalach\",\"exang\",\"oldpeak\",\"slope\",\"ca\",\"thal\",\"num\"]\n",
    "data_list =[]\n",
    "\n",
    "df1 = pd.read_csv(\"/Users/Asus/Desktop/IDP/IDP_3-2 finals/Algorithm/processed.cleveland.data\", names = column_names)\n",
    "df2 = pd.read_csv(\"/Users/Asus/Desktop/IDP/IDP_3-2 finals/Algorithm/processed.hungarian.data\", names = column_names)\n",
    "df3 = pd.read_csv(\"/Users/Asus/Desktop/IDP/IDP_3-2 finals/Algorithm/processed.switzerland.data\", names = column_names)\n",
    "df4 = pd.read_csv(\"/Users/Asus/Desktop/IDP/IDP_3-2 finals/Algorithm/processed.va.data\", names = column_names)\n",
    "df5=pd.read_csv(\"/Users/Asus/Desktop/IDP/IDP_3-2 finals/Algorithm/heart.csv\")\n",
    "\n",
    "df1_1= df1.append(df2)\n",
    "df2_2= df3.append(df4)\n",
    "\n",
    "df_final= df1_1.append(df2_2)\n",
    "df_final=df_final.append(df5)\n",
    "\n",
    "print(df_final.head())"
   ]
  },
  {
   "cell_type": "code",
   "execution_count": 3,
   "metadata": {},
   "outputs": [
    {
     "name": "stdout",
     "output_type": "stream",
     "text": [
      "<class 'pandas.core.frame.DataFrame'>\n",
      "Int64Index: 1223 entries, 0 to 302\n",
      "Data columns (total 14 columns):\n",
      " #   Column    Non-Null Count  Dtype  \n",
      "---  ------    --------------  -----  \n",
      " 0   age       1223 non-null   float64\n",
      " 1   sex       1223 non-null   float64\n",
      " 2   cp        1223 non-null   float64\n",
      " 3   trestbps  1223 non-null   object \n",
      " 4   chol      1223 non-null   object \n",
      " 5   fbs       1223 non-null   object \n",
      " 6   restecg   1223 non-null   object \n",
      " 7   thalach   1223 non-null   object \n",
      " 8   exang     1223 non-null   object \n",
      " 9   oldpeak   1223 non-null   object \n",
      " 10  slope     1223 non-null   object \n",
      " 11  ca        920 non-null    object \n",
      " 12  thal      920 non-null    object \n",
      " 13  num       1223 non-null   int64  \n",
      "dtypes: float64(3), int64(1), object(10)\n",
      "memory usage: 143.3+ KB\n",
      "None\n",
      "(1223, 14)\n"
     ]
    }
   ],
   "source": [
    "print(df_final.info())\n",
    "print(df_final.shape)"
   ]
  },
  {
   "cell_type": "code",
   "execution_count": 4,
   "metadata": {},
   "outputs": [
    {
     "name": "stdout",
     "output_type": "stream",
     "text": [
      "               age          sex           cp          num\n",
      "count  1223.000000  1223.000000  1223.000000  1223.000000\n",
      "mean     53.722813     0.762878     2.684383     0.929681\n",
      "std       9.344604     0.425492     1.373758     1.119662\n",
      "min      28.000000     0.000000     0.000000     0.000000\n",
      "25%      47.000000     1.000000     2.000000     0.000000\n",
      "50%      54.000000     1.000000     3.000000     1.000000\n",
      "75%      60.000000     1.000000     4.000000     2.000000\n",
      "max      77.000000     1.000000     4.000000     4.000000\n"
     ]
    }
   ],
   "source": [
    "print(df_final.describe())"
   ]
  },
  {
   "cell_type": "code",
   "execution_count": 3,
   "metadata": {},
   "outputs": [],
   "source": [
    "import numpy as np\n",
    "import matplotlib.pyplot as plt \n",
    "import pandas as pd\n",
    "import seaborn as sns\n",
    "from sklearn.model_selection import train_test_split\n",
    "from sklearn.preprocessing import StandardScaler\n",
    "from sklearn.neighbors import KNeighborsClassifier\n",
    "from sklearn.metrics import confusion_matrix\n",
    "from sklearn import metrics"
   ]
  },
  {
   "cell_type": "code",
   "execution_count": 6,
   "metadata": {},
   "outputs": [],
   "source": [
    "#\"trestbps\",\"chol\",\"fbs\",\"restecg\",\"thalach\",\"exang\",\"oldpeak\",\"slope\",\"ca\",\"thal\"\n",
    "df_final=df_final.drop(['ca'],axis=1)\n",
    "df_final=df_final.drop(['thal'],axis=1)\n",
    "df_1=df_final[df_final.trestbps!= '?']\n",
    "df_2=df_1[df_1.chol!='?']\n",
    "df_2=df_2[df_2.fbs!='?']\n",
    "df_2=df_2[df_2.restecg!='?']\n",
    "df_2=df_2[df_2.thalach!='?']\n",
    "df_2=df_2[df_2.exang!='?']\n",
    "df_2=df_2[df_2.oldpeak!='?']\n",
    "df_2=df_2[df_2.slope!='?']\n",
    "\n",
    "\n"
   ]
  },
  {
   "cell_type": "code",
   "execution_count": 7,
   "metadata": {},
   "outputs": [
    {
     "name": "stdout",
     "output_type": "stream",
     "text": [
      "              age         sex          cp         num\n",
      "count  808.000000  808.000000  808.000000  808.000000\n",
      "mean    54.602723    0.726485    2.457921    0.887376\n",
      "std      8.878323    0.446039    1.495375    1.023123\n",
      "min     29.000000    0.000000    0.000000    0.000000\n",
      "25%     48.000000    0.000000    1.000000    0.000000\n",
      "50%     55.000000    1.000000    3.000000    1.000000\n",
      "75%     61.000000    1.000000    4.000000    1.000000\n",
      "max     77.000000    1.000000    4.000000    3.000000\n"
     ]
    },
    {
     "data": {
      "text/plain": [
       "0    382\n",
       "1    226\n",
       "2    109\n",
       "3     91\n",
       "Name: num, dtype: int64"
      ]
     },
     "execution_count": 7,
     "metadata": {},
     "output_type": "execute_result"
    }
   ],
   "source": [
    "data = df_2[df_2.num!=4]\n",
    "\n",
    "print(data.describe())\n",
    "data.num.value_counts()"
   ]
  },
  {
   "cell_type": "code",
   "execution_count": 144,
   "metadata": {},
   "outputs": [],
   "source": [
    "#data.to_csv('three.csv', encoding='utf-8')"
   ]
  },
  {
   "cell_type": "code",
   "execution_count": 254,
   "metadata": {},
   "outputs": [],
   "source": [
    "from sklearn.preprocessing import StandardScaler\n",
    "from sklearn.preprocessing import MinMaxScaler\n",
    "from sklearn.preprocessing import RobustScaler"
   ]
  },
  {
   "cell_type": "code",
   "execution_count": 594,
   "metadata": {},
   "outputs": [],
   "source": [
    "d=pd.read_csv('/Users/Asus/Desktop/IDP/IDP_3-2 finals/Algorithm/Datasets/three.csv',index_col=0)\n",
    "#Desktop/IDP/IDP_3-2 finals/Algorithm/Datasets/three.csv"
   ]
  },
  {
   "cell_type": "code",
   "execution_count": 595,
   "metadata": {},
   "outputs": [
    {
     "data": {
      "text/plain": [
       "0    382\n",
       "1    226\n",
       "2    200\n",
       "Name: num, dtype: int64"
      ]
     },
     "execution_count": 595,
     "metadata": {},
     "output_type": "execute_result"
    }
   ],
   "source": [
    "d.num.value_counts()"
   ]
  },
  {
   "cell_type": "code",
   "execution_count": 596,
   "metadata": {},
   "outputs": [],
   "source": [
    "X = d.drop(['num'], axis=1)\n",
    "y = d['num']"
   ]
  },
  {
   "cell_type": "code",
   "execution_count": 597,
   "metadata": {},
   "outputs": [],
   "source": [
    "X_train, X_test, y_train, y_test =  train_test_split(X,y,test_size = 0.35, random_state=42)"
   ]
  },
  {
   "cell_type": "code",
   "execution_count": 598,
   "metadata": {},
   "outputs": [],
   "source": [
    "#X.to_csv('X_train.csv', encoding='utf-8')"
   ]
  },
  {
   "cell_type": "code",
   "execution_count": 599,
   "metadata": {},
   "outputs": [],
   "source": [
    "sc_X = RobustScaler()\n",
    "X_train = sc_X.fit_transform(X_train)\n",
    "X_test = sc_X.transform(X_test)"
   ]
  },
  {
   "cell_type": "code",
   "execution_count": 600,
   "metadata": {},
   "outputs": [
    {
     "name": "stdout",
     "output_type": "stream",
     "text": [
      "Accuracy: 0.64\n"
     ]
    }
   ],
   "source": [
    "classifier = KNeighborsClassifier(n_neighbors =17)\n",
    "classifier = classifier.fit(X_train,y_train)\n",
    "#prediction\n",
    "y_pred = classifier.predict(X_test)\n",
    "accuracy = metrics.accuracy_score(y_test, y_pred)\n",
    "print('Accuracy: {:.2f}'.format(accuracy))\n"
   ]
  },
  {
   "cell_type": "code",
   "execution_count": 651,
   "metadata": {},
   "outputs": [],
   "source": [
    "classifier_man = KNeighborsClassifier(n_neighbors = 28, metric = 'manhattan', p = 1)\n",
    "classifier_man = classifier_man.fit(X_train,y_train)\n",
    "y_pred = classifier_man.predict(X_test)"
   ]
  },
  {
   "cell_type": "code",
   "execution_count": 652,
   "metadata": {},
   "outputs": [
    {
     "name": "stdout",
     "output_type": "stream",
     "text": [
      "Accuracy: 0.64\n"
     ]
    }
   ],
   "source": [
    "accuracy = metrics.accuracy_score(y_test, y_pred)\n",
    "print('Accuracy: {:.2f}'.format(accuracy))"
   ]
  },
  {
   "cell_type": "code",
   "execution_count": 637,
   "metadata": {},
   "outputs": [
    {
     "data": {
      "image/png": "[encoded data removed]",
      "text/plain": [
       "<Figure size 432x288 with 2 Axes>"
      ]
     },
     "metadata": {
      "needs_background": "light"
     },
     "output_type": "display_data"
    }
   ],
   "source": [
    "from sklearn.metrics import plot_confusion_matrix\n",
    "plot_confusion_matrix(classifier_man, X_test, y_test)  \n",
    "plt.show() "
   ]
  },
  {
   "cell_type": "code",
   "execution_count": 657,
   "metadata": {},
   "outputs": [],
   "source": [
    "from sklearn.preprocessing import StandardScaler\n",
    "from sklearn.preprocessing import MinMaxScaler\n",
    "from sklearn.preprocessing import RobustScaler\n",
    "from sklearn.metrics import accuracy_score\n",
    "from sklearn.model_selection import train_test_split\n",
    "from sklearn.metrics import roc_auc_score\n"
   ]
  },
  {
   "cell_type": "code",
   "execution_count": 658,
   "metadata": {},
   "outputs": [],
   "source": [
    "df_model = d.copy()#Rescaling features age, trestbps, chol, thalach, oldpeak.\n",
    "scaler =RobustScaler()\n",
    "features = [['age','trestbps', 'chol', 'thalach', 'oldpeak']]\n",
    "for feature in features:\n",
    "    df_model[feature] = scaler.fit_transform(df_model[feature])"
   ]
  },
  {
   "cell_type": "code",
   "execution_count": 659,
   "metadata": {},
   "outputs": [],
   "source": [
    "X = df_model.drop(['num'], axis=1)\n",
    "y = df_model['num']"
   ]
  },
  {
   "cell_type": "code",
   "execution_count": 660,
   "metadata": {},
   "outputs": [],
   "source": [
    "X_train, X_test, y_train, y_test =  train_test_split(X,y,test_size = 0.2, random_state=42)"
   ]
  },
  {
   "cell_type": "code",
   "execution_count": 666,
   "metadata": {},
   "outputs": [],
   "source": [
    "f_c = KNeighborsClassifier(n_neighbors =33, metric = 'manhattan', p = 1)\n",
    "f_c = f_c.fit(X_train,y_train)\n",
    "y_pred = f_c.predict(X_test)"
   ]
  },
  {
   "cell_type": "code",
   "execution_count": 667,
   "metadata": {},
   "outputs": [
    {
     "name": "stdout",
     "output_type": "stream",
     "text": [
      "0.6604938271604939\n"
     ]
    }
   ],
   "source": [
    "print(accuracy_score(y_test, y_pred))\n"
   ]
  },
  {
   "cell_type": "code",
   "execution_count": 668,
   "metadata": {},
   "outputs": [],
   "source": [
    "from sklearn.model_selection import cross_val_score\n",
    "knn_scores=[]\n",
    "for k in range(1,41):\n",
    "    f_c = KNeighborsClassifier(n_neighbors = k, metric = 'manhattan', p = 2)\n",
    "    score=cross_val_score(f_c,X,y,cv=10)\n",
    "    knn_scores.append(score.mean())"
   ]
  },
  {
   "cell_type": "code",
   "execution_count": 611,
   "metadata": {},
   "outputs": [
    {
     "data": {
      "text/plain": [
       "[0.4874691358024691,\n",
       " 0.5171296296296296,\n",
       " 0.5121296296296296,\n",
       " 0.5306790123456789,\n",
       " 0.5369753086419753,\n",
       " 0.5418672839506172,\n",
       " 0.5394135802469135,\n",
       " 0.5641820987654322,\n",
       " 0.5579938271604938,\n",
       " 0.5765740740740741,\n",
       " 0.5877469135802469,\n",
       " 0.5877314814814815,\n",
       " 0.5753703703703704,\n",
       " 0.577854938271605,\n",
       " 0.5753086419753087,\n",
       " 0.581574074074074,\n",
       " 0.580324074074074,\n",
       " 0.5865123456790123,\n",
       " 0.5865432098765432,\n",
       " 0.5926851851851851,\n",
       " 0.5839814814814814,\n",
       " 0.5852160493827159,\n",
       " 0.5864351851851851,\n",
       " 0.5889506172839506,\n",
       " 0.590108024691358,\n",
       " 0.5987808641975307,\n",
       " 0.5913580246913581,\n",
       " 0.5962808641975308,\n",
       " 0.5888888888888889,\n",
       " 0.5962654320987654,\n",
       " 0.5950462962962962,\n",
       " 0.591327160493827,\n",
       " 0.5975308641975309,\n",
       " 0.591327160493827,\n",
       " 0.5888734567901234,\n",
       " 0.5938425925925925,\n",
       " 0.5962808641975309,\n",
       " 0.5900617283950618,\n",
       " 0.5937808641975308,\n",
       " 0.5888425925925926]"
      ]
     },
     "execution_count": 611,
     "metadata": {},
     "output_type": "execute_result"
    }
   ],
   "source": [
    "knn_scores\n"
   ]
  },
  {
   "cell_type": "code",
   "execution_count": 644,
   "metadata": {},
   "outputs": [
    {
     "data": {
      "image/png": "[encoded data removed]",
      "text/plain": [
       "<Figure size 432x288 with 2 Axes>"
      ]
     },
     "metadata": {
      "needs_background": "light"
     },
     "output_type": "display_data"
    }
   ],
   "source": [
    "from sklearn.metrics import plot_confusion_matrix\n",
    "plot_confusion_matrix(f_c, X_test, y_test)  \n",
    "plt.show() "
   ]
  },
  {
   "cell_type": "code",
   "execution_count": 711,
   "metadata": {},
   "outputs": [],
   "source": [
    "from sklearn.neighbors import KNeighborsClassifier\n",
    "model = KNeighborsClassifier(algorithm='auto', leaf_size=1, metric='minkowski',\n",
    " metric_params=None, n_jobs=1, n_neighbors=33, p=1,\n",
    " weights='uniform')\n",
    "model.fit(X_train, y_train)\n",
    "y_pred = model.predict(X_test)"
   ]
  },
  {
   "cell_type": "code",
   "execution_count": 712,
   "metadata": {},
   "outputs": [
    {
     "name": "stdout",
     "output_type": "stream",
     "text": [
      "0.6604938271604939\n"
     ]
    }
   ],
   "source": [
    "print(accuracy_score(y_test, y_pred))"
   ]
  },
  {
   "cell_type": "code",
   "execution_count": 713,
   "metadata": {},
   "outputs": [
    {
     "data": {
      "image/png": "[encoded data removed]",
      "text/plain": [
       "<Figure size 432x288 with 2 Axes>"
      ]
     },
     "metadata": {
      "needs_background": "light"
     },
     "output_type": "display_data"
    }
   ],
   "source": [
    "from sklearn.metrics import plot_confusion_matrix\n",
    "plot_confusion_matrix(model, X_test, y_test)  \n",
    "plt.show() "
   ]
  },
  {
   "cell_type": "code",
   "execution_count": 670,
   "metadata": {},
   "outputs": [
    {
     "name": "stdout",
     "output_type": "stream",
     "text": [
      "Best leaf_size: 1\n",
      "Best p: 1\n",
      "Best n_neighbors: 28\n",
      "0.6358024691358025\n"
     ]
    }
   ],
   "source": [
    "#List Hyperparameters to tune\n",
    "from sklearn.model_selection import GridSearchCV\n",
    "leaf_size = list(range(1,50))\n",
    "n_neighbors = list(range(1,50))\n",
    "p=[1,2]#convert to dictionary\n",
    "hyperparameters = dict(leaf_size=leaf_size, n_neighbors=n_neighbors, p=p)#Making model\n",
    "clf = GridSearchCV(f_c, hyperparameters, cv=10)\n",
    "best_model = clf.fit(X_train,y_train)#Best Hyperparameters Value\n",
    "print('Best leaf_size:', best_model.best_estimator_.get_params()['leaf_size'])\n",
    "print('Best p:', best_model.best_estimator_.get_params()['p'])\n",
    "print('Best n_neighbors:', best_model.best_estimator_.get_params()['n_neighbors'])#Predict testing set\n",
    "y_pred = best_model.predict(X_test)#Check performance using accuracy\n",
    "print(accuracy_score(y_test, y_pred))"
   ]
  },
  {
   "cell_type": "code",
   "execution_count": null,
   "metadata": {},
   "outputs": [],
   "source": [
    "cm"
   ]
  },
  {
   "cell_type": "code",
   "execution_count": 681,
   "metadata": {},
   "outputs": [
    {
     "data": {
      "text/plain": [
       "0.5604012345679013"
      ]
     },
     "execution_count": 681,
     "metadata": {},
     "output_type": "execute_result"
    }
   ],
   "source": [
    "from sklearn.ensemble import RandomForestClassifier\n",
    "rf=RandomForestClassifier(n_estimators=21)\n",
    "rf = rf.fit(X_train,y_train)\n",
    "score=cross_val_score(rf,X,y,cv=10)\n",
    "score.mean()"
   ]
  },
  {
   "cell_type": "code",
   "execution_count": 613,
   "metadata": {},
   "outputs": [],
   "source": [
    "rf_scores=[]\n",
    "for k in range(1,30):\n",
    "    rf=RandomForestClassifier(n_estimators=k)\n",
    "    score=cross_val_score(rf,X,y,cv=10)\n",
    "    rf_scores.append(score.mean())"
   ]
  },
  {
   "cell_type": "code",
   "execution_count": 614,
   "metadata": {},
   "outputs": [
    {
     "data": {
      "text/plain": [
       "[0.5109567901234568,\n",
       " 0.5208179012345678,\n",
       " 0.5382407407407407,\n",
       " 0.5369598765432099,\n",
       " 0.5159567901234567,\n",
       " 0.5914043209876543,\n",
       " 0.5220061728395062,\n",
       " 0.5616975308641975,\n",
       " 0.5642283950617284,\n",
       " 0.5641666666666667,\n",
       " 0.5654475308641975,\n",
       " 0.5628858024691358,\n",
       " 0.5714969135802468,\n",
       " 0.5567746913580247,\n",
       " 0.5493364197530864,\n",
       " 0.5480864197530864,\n",
       " 0.5629012345679012,\n",
       " 0.5580092592592591,\n",
       " 0.5578549382716049,\n",
       " 0.5826234567901234,\n",
       " 0.5777932098765431,\n",
       " 0.5665432098765433,\n",
       " 0.5690895061728396,\n",
       " 0.5739351851851852,\n",
       " 0.559212962962963,\n",
       " 0.5716203703703704,\n",
       " 0.5653086419753086,\n",
       " 0.5741203703703703,\n",
       " 0.5851234567901235]"
      ]
     },
     "execution_count": 614,
     "metadata": {},
     "output_type": "execute_result"
    }
   ],
   "source": [
    "rf_scores"
   ]
  },
  {
   "cell_type": "code",
   "execution_count": 682,
   "metadata": {},
   "outputs": [
    {
     "data": {
      "image/png": "[encoded data removed]",
      "text/plain": [
       "<Figure size 432x288 with 2 Axes>"
      ]
     },
     "metadata": {
      "needs_background": "light"
     },
     "output_type": "display_data"
    }
   ],
   "source": [
    "from sklearn.metrics import plot_confusion_matrix\n",
    "plot_confusion_matrix(rf, X_test, y_test)  \n",
    "plt.show() "
   ]
  },
  {
   "cell_type": "code",
   "execution_count": null,
   "metadata": {},
   "outputs": [],
   "source": [
    "from sklearn.svm import SVC\n",
    "from sklearn.metrics import plot_confusion_matrix\n",
    "\n",
    "\n",
    "\n",
    "clf = SVC(random_state=0)\n",
    "clf.fit(X_train, y_train)\n",
    "\n",
    "y_pred = clf.predict(X_test)\n",
    "accuracy = metrics.accuracy_score(y_test, y_pred)\n",
    "print('Accuracy: {:.2f}'.format(accuracy))\n",
    "\n",
    "SVC(random_state=0)\n",
    "plot_confusion_matrix(clf, X_test, y_test)  \n",
    "plt.show() "
   ]
  },
  {
   "cell_type": "code",
   "execution_count": 719,
   "metadata": {},
   "outputs": [
    {
     "name": "stdout",
     "output_type": "stream",
     "text": [
      "0.6358024691358025\n"
     ]
    }
   ],
   "source": [
    "from sklearn.ensemble import GradientBoostingClassifier\n",
    "model = GradientBoostingClassifier()\n",
    "model.fit(X_train, y_train)\n",
    "\n",
    "y_pred = model.predict(X_test)\n",
    "\n",
    "print(accuracy_score(y_test, y_pred))"
   ]
  },
  {
   "cell_type": "code",
   "execution_count": 87,
   "metadata": {},
   "outputs": [],
   "source": [
    "import pickle\n"
   ]
  },
  {
   "cell_type": "code",
   "execution_count": 88,
   "metadata": {},
   "outputs": [],
   "source": [
    "with open(\"model1_predictis\",'wb')as f:\n",
    "    pickle.dump(classifier,f)"
   ]
  },
  {
   "cell_type": "code",
   "execution_count": null,
   "metadata": {},
   "outputs": [],
   "source": [
    "GradientBoostingClassifier(criterion=’friedman_mse’, init=None,\n",
    " learning_rate=0.1, loss=’deviance’, max_depth=3,\n",
    " max_features=None, max_leaf_nodes=None,\n",
    " min_impurity_split=1e-07, min_samples_leaf=1,\n",
    " min_samples_split=2, min_weight_fraction_leaf=0.0,\n",
    " n_estimators=100, presort=’auto’, random_state=None,\n",
    " subsample=1.0, verbose=0, warm_start=False)"
   ]
  },
  {
   "cell_type": "code",
   "execution_count": null,
   "metadata": {},
   "outputs": [],
   "source": []
  }
 ],
 "metadata": {
  "kernelspec": {
   "display_name": "Python 3",
   "language": "python",
   "name": "python3"
  },
  "language_info": {
   "codemirror_mode": {
    "name": "ipython",
    "version": 3
   },
   "file_extension": ".py",
   "mimetype": "text/x-python",
   "name": "python",
   "nbconvert_exporter": "python",
   "pygments_lexer": "ipython3",
   "version": "3.8.5"
  }
 },
 "nbformat": 4,
 "nbformat_minor": 4
}
