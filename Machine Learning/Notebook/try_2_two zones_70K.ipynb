{
 "cells": [
  {
   "cell_type": "code",
   "execution_count": 2,
   "metadata": {},
   "outputs": [],
   "source": [
    "import pandas as pd\n"
   ]
  },
  {
   "cell_type": "code",
   "execution_count": 2,
   "metadata": {},
   "outputs": [
    {
     "name": "stdout",
     "output_type": "stream",
     "text": [
      "    age  sex   cp trestbps chol fbs restecg thalach exang oldpeak slope   ca  \\\n",
      "0  63.0  1.0  1.0      145  233   1       2     150     0     2.3     3  0.0   \n",
      "1  67.0  1.0  4.0      160  286   0       2     108     1     1.5     2  3.0   \n",
      "2  67.0  1.0  4.0      120  229   0       2     129     1     2.6     2  2.0   \n",
      "3  37.0  1.0  3.0      130  250   0       0     187     0     3.5     3  0.0   \n",
      "4  41.0  0.0  2.0      130  204   0       2     172     0     1.4     1  0.0   \n",
      "\n",
      "  thal  num  \n",
      "0  6.0    0  \n",
      "1  3.0    2  \n",
      "2  7.0    1  \n",
      "3  3.0    0  \n",
      "4  3.0    0  \n"
     ]
    }
   ],
   "source": [
    "column_names = [\"age\", \"sex\", \"cp\",\"trestbps\",\"chol\",\"fbs\",\"restecg\",\"thalach\",\"exang\",\"oldpeak\",\"slope\",\"ca\",\"thal\",\"num\"]\n",
    "data_list =[]\n",
    "\n",
    "df1 = pd.read_csv(\"/Users/Asus/Desktop/IDP/IDP_3-2 finals/Algorithm/processed.cleveland.data\", names = column_names)\n",
    "df2 = pd.read_csv(\"/Users/Asus/Desktop/IDP/IDP_3-2 finals/Algorithm/processed.hungarian.data\", names = column_names)\n",
    "df3 = pd.read_csv(\"/Users/Asus/Desktop/IDP/IDP_3-2 finals/Algorithm/processed.switzerland.data\", names = column_names)\n",
    "df4 = pd.read_csv(\"/Users/Asus/Desktop/IDP/IDP_3-2 finals/Algorithm/processed.va.data\", names = column_names)\n",
    "df5=pd.read_csv(\"/Users/Asus/Desktop/IDP/IDP_3-2 finals/Algorithm/heart.csv\")\n",
    "\n",
    "df1_1= df1.append(df2)\n",
    "df2_2= df3.append(df4)\n",
    "\n",
    "df_final= df1_1.append(df2_2)\n",
    "df_final=df_final.append(df5)\n",
    "\n",
    "print(df_final.head())"
   ]
  },
  {
   "cell_type": "code",
   "execution_count": 3,
   "metadata": {},
   "outputs": [
    {
     "name": "stdout",
     "output_type": "stream",
     "text": [
      "<class 'pandas.core.frame.DataFrame'>\n",
      "Int64Index: 1223 entries, 0 to 302\n",
      "Data columns (total 14 columns):\n",
      " #   Column    Non-Null Count  Dtype  \n",
      "---  ------    --------------  -----  \n",
      " 0   age       1223 non-null   float64\n",
      " 1   sex       1223 non-null   float64\n",
      " 2   cp        1223 non-null   float64\n",
      " 3   trestbps  1223 non-null   object \n",
      " 4   chol      1223 non-null   object \n",
      " 5   fbs       1223 non-null   object \n",
      " 6   restecg   1223 non-null   object \n",
      " 7   thalach   1223 non-null   object \n",
      " 8   exang     1223 non-null   object \n",
      " 9   oldpeak   1223 non-null   object \n",
      " 10  slope     1223 non-null   object \n",
      " 11  ca        920 non-null    object \n",
      " 12  thal      920 non-null    object \n",
      " 13  num       1223 non-null   int64  \n",
      "dtypes: float64(3), int64(1), object(10)\n",
      "memory usage: 143.3+ KB\n",
      "None\n",
      "(1223, 14)\n"
     ]
    }
   ],
   "source": [
    "print(df_final.info())\n",
    "print(df_final.shape)"
   ]
  },
  {
   "cell_type": "code",
   "execution_count": 4,
   "metadata": {},
   "outputs": [
    {
     "name": "stdout",
     "output_type": "stream",
     "text": [
      "               age          sex           cp          num\n",
      "count  1223.000000  1223.000000  1223.000000  1223.000000\n",
      "mean     53.722813     0.762878     2.684383     0.929681\n",
      "std       9.344604     0.425492     1.373758     1.119662\n",
      "min      28.000000     0.000000     0.000000     0.000000\n",
      "25%      47.000000     1.000000     2.000000     0.000000\n",
      "50%      54.000000     1.000000     3.000000     1.000000\n",
      "75%      60.000000     1.000000     4.000000     2.000000\n",
      "max      77.000000     1.000000     4.000000     4.000000\n"
     ]
    }
   ],
   "source": [
    "print(df_final.describe())"
   ]
  },
  {
   "cell_type": "code",
   "execution_count": 12,
   "metadata": {},
   "outputs": [],
   "source": [
    "import numpy as np\n",
    "import matplotlib.pyplot as plt \n",
    "import pandas as pd\n",
    "import seaborn as sns\n",
    "from sklearn.model_selection import train_test_split\n",
    "from sklearn.preprocessing import StandardScaler\n",
    "from sklearn.neighbors import KNeighborsClassifier\n",
    "from sklearn.metrics import confusion_matrix\n",
    "from sklearn import metrics"
   ]
  },
  {
   "cell_type": "code",
   "execution_count": 6,
   "metadata": {},
   "outputs": [],
   "source": [
    "#\"trestbps\",\"chol\",\"fbs\",\"restecg\",\"thalach\",\"exang\",\"oldpeak\",\"slope\",\"ca\",\"thal\"\n",
    "df_final=df_final.drop(['ca'],axis=1)\n",
    "df_final=df_final.drop(['thal'],axis=1)\n",
    "df_1=df_final[df_final.trestbps!= '?']\n",
    "df_2=df_1[df_1.chol!='?']\n",
    "df_2=df_2[df_2.fbs!='?']\n",
    "df_2=df_2[df_2.restecg!='?']\n",
    "df_2=df_2[df_2.thalach!='?']\n",
    "df_2=df_2[df_2.exang!='?']\n",
    "df_2=df_2[df_2.oldpeak!='?']\n",
    "df_2=df_2[df_2.slope!='?']\n",
    "\n",
    "\n"
   ]
  },
  {
   "cell_type": "code",
   "execution_count": 7,
   "metadata": {},
   "outputs": [
    {
     "name": "stdout",
     "output_type": "stream",
     "text": [
      "              age         sex          cp         num\n",
      "count  808.000000  808.000000  808.000000  808.000000\n",
      "mean    54.602723    0.726485    2.457921    0.887376\n",
      "std      8.878323    0.446039    1.495375    1.023123\n",
      "min     29.000000    0.000000    0.000000    0.000000\n",
      "25%     48.000000    0.000000    1.000000    0.000000\n",
      "50%     55.000000    1.000000    3.000000    1.000000\n",
      "75%     61.000000    1.000000    4.000000    1.000000\n",
      "max     77.000000    1.000000    4.000000    3.000000\n"
     ]
    },
    {
     "data": {
      "text/plain": [
       "0    382\n",
       "1    226\n",
       "2    109\n",
       "3     91\n",
       "Name: num, dtype: int64"
      ]
     },
     "execution_count": 7,
     "metadata": {},
     "output_type": "execute_result"
    }
   ],
   "source": [
    "data = df_2[df_2.num!=4]\n",
    "\n",
    "print(data.describe())\n",
    "data.num.value_counts()"
   ]
  },
  {
   "cell_type": "code",
   "execution_count": 144,
   "metadata": {},
   "outputs": [],
   "source": [
    "#data.to_csv('three.csv', encoding='utf-8')"
   ]
  },
  {
   "cell_type": "code",
   "execution_count": 8,
   "metadata": {},
   "outputs": [],
   "source": [
    "d=pd.read_csv('/Users/Asus/Desktop/IDP/IDP_3-2 finals/Algorithm/archive/cardio_train.csv',index_col=0,sep=';')\n",
    "#Desktop/IDP/IDP_3-2 finals/Algorithm/archive/cardio_train.csv"
   ]
  },
  {
   "cell_type": "code",
   "execution_count": 28,
   "metadata": {},
   "outputs": [
    {
     "data": {
      "text/html": [
       "<div>\n",
       "<style scoped>\n",
       "    .dataframe tbody tr th:only-of-type {\n",
       "        vertical-align: middle;\n",
       "    }\n",
       "\n",
       "    .dataframe tbody tr th {\n",
       "        vertical-align: top;\n",
       "    }\n",
       "\n",
       "    .dataframe thead th {\n",
       "        text-align: right;\n",
       "    }\n",
       "</style>\n",
       "<table border=\"1\" class=\"dataframe\">\n",
       "  <thead>\n",
       "    <tr style=\"text-align: right;\">\n",
       "      <th></th>\n",
       "      <th>age</th>\n",
       "      <th>gender</th>\n",
       "      <th>height</th>\n",
       "      <th>weight</th>\n",
       "      <th>ap_hi</th>\n",
       "      <th>ap_lo</th>\n",
       "      <th>cholesterol</th>\n",
       "      <th>gluc</th>\n",
       "      <th>smoke</th>\n",
       "      <th>alco</th>\n",
       "      <th>active</th>\n",
       "      <th>cardio</th>\n",
       "    </tr>\n",
       "    <tr>\n",
       "      <th>id</th>\n",
       "      <th></th>\n",
       "      <th></th>\n",
       "      <th></th>\n",
       "      <th></th>\n",
       "      <th></th>\n",
       "      <th></th>\n",
       "      <th></th>\n",
       "      <th></th>\n",
       "      <th></th>\n",
       "      <th></th>\n",
       "      <th></th>\n",
       "      <th></th>\n",
       "    </tr>\n",
       "  </thead>\n",
       "  <tbody>\n",
       "    <tr>\n",
       "      <th>0</th>\n",
       "      <td>18393</td>\n",
       "      <td>2</td>\n",
       "      <td>168</td>\n",
       "      <td>62.0</td>\n",
       "      <td>110</td>\n",
       "      <td>80</td>\n",
       "      <td>1</td>\n",
       "      <td>1</td>\n",
       "      <td>0</td>\n",
       "      <td>0</td>\n",
       "      <td>1</td>\n",
       "      <td>0</td>\n",
       "    </tr>\n",
       "    <tr>\n",
       "      <th>1</th>\n",
       "      <td>20228</td>\n",
       "      <td>1</td>\n",
       "      <td>156</td>\n",
       "      <td>85.0</td>\n",
       "      <td>140</td>\n",
       "      <td>90</td>\n",
       "      <td>3</td>\n",
       "      <td>1</td>\n",
       "      <td>0</td>\n",
       "      <td>0</td>\n",
       "      <td>1</td>\n",
       "      <td>1</td>\n",
       "    </tr>\n",
       "    <tr>\n",
       "      <th>2</th>\n",
       "      <td>18857</td>\n",
       "      <td>1</td>\n",
       "      <td>165</td>\n",
       "      <td>64.0</td>\n",
       "      <td>130</td>\n",
       "      <td>70</td>\n",
       "      <td>3</td>\n",
       "      <td>1</td>\n",
       "      <td>0</td>\n",
       "      <td>0</td>\n",
       "      <td>0</td>\n",
       "      <td>1</td>\n",
       "    </tr>\n",
       "    <tr>\n",
       "      <th>3</th>\n",
       "      <td>17623</td>\n",
       "      <td>2</td>\n",
       "      <td>169</td>\n",
       "      <td>82.0</td>\n",
       "      <td>150</td>\n",
       "      <td>100</td>\n",
       "      <td>1</td>\n",
       "      <td>1</td>\n",
       "      <td>0</td>\n",
       "      <td>0</td>\n",
       "      <td>1</td>\n",
       "      <td>1</td>\n",
       "    </tr>\n",
       "    <tr>\n",
       "      <th>4</th>\n",
       "      <td>17474</td>\n",
       "      <td>1</td>\n",
       "      <td>156</td>\n",
       "      <td>56.0</td>\n",
       "      <td>100</td>\n",
       "      <td>60</td>\n",
       "      <td>1</td>\n",
       "      <td>1</td>\n",
       "      <td>0</td>\n",
       "      <td>0</td>\n",
       "      <td>0</td>\n",
       "      <td>0</td>\n",
       "    </tr>\n",
       "  </tbody>\n",
       "</table>\n",
       "</div>"
      ],
      "text/plain": [
       "      age  gender  height  weight  ap_hi  ap_lo  cholesterol  gluc  smoke  \\\n",
       "id                                                                          \n",
       "0   18393       2     168    62.0    110     80            1     1      0   \n",
       "1   20228       1     156    85.0    140     90            3     1      0   \n",
       "2   18857       1     165    64.0    130     70            3     1      0   \n",
       "3   17623       2     169    82.0    150    100            1     1      0   \n",
       "4   17474       1     156    56.0    100     60            1     1      0   \n",
       "\n",
       "    alco  active  cardio  \n",
       "id                        \n",
       "0      0       1       0  \n",
       "1      0       1       1  \n",
       "2      0       0       1  \n",
       "3      0       1       1  \n",
       "4      0       0       0  "
      ]
     },
     "execution_count": 28,
     "metadata": {},
     "output_type": "execute_result"
    }
   ],
   "source": [
    "d.describe()\n",
    "d.head()"
   ]
  },
  {
   "cell_type": "code",
   "execution_count": 9,
   "metadata": {},
   "outputs": [
    {
     "data": {
      "text/plain": [
       "0    35021\n",
       "1    34979\n",
       "Name: cardio, dtype: int64"
      ]
     },
     "execution_count": 9,
     "metadata": {},
     "output_type": "execute_result"
    }
   ],
   "source": [
    "d.cardio.value_counts()"
   ]
  },
  {
   "cell_type": "code",
   "execution_count": 10,
   "metadata": {},
   "outputs": [],
   "source": [
    "X = d.drop(['cardio'], axis=1)\n",
    "y = d['cardio']"
   ]
  },
  {
   "cell_type": "code",
   "execution_count": null,
   "metadata": {},
   "outputs": [],
   "source": [
    "X_train, X_test, y_train, y_test =  train_test_split(X,y,test_size = 0.25, random_state=42)"
   ]
  },
  {
   "cell_type": "code",
   "execution_count": 171,
   "metadata": {},
   "outputs": [],
   "source": [
    "#X.to_csv('X_train.csv', encoding='utf-8')"
   ]
  },
  {
   "cell_type": "code",
   "execution_count": 14,
   "metadata": {},
   "outputs": [],
   "source": [
    "sc_X = StandardScaler()\n",
    "X_train = sc_X.fit_transform(X_train)\n",
    "X_test = sc_X.transform(X_test)"
   ]
  },
  {
   "cell_type": "code",
   "execution_count": 15,
   "metadata": {},
   "outputs": [],
   "source": [
    "#classifier = KNeighborsClassifier(n_neighbors =17)\n",
    "#classifier = classifier.fit(X_train,y_train)\n",
    "#prediction\n",
    "#y_pred = classifier.predict(X_test)\n",
    "\n"
   ]
  },
  {
   "cell_type": "code",
   "execution_count": 40,
   "metadata": {},
   "outputs": [],
   "source": [
    "classifier = KNeighborsClassifier(n_neighbors = 20, metric = 'minkowski', p = 2)\n",
    "classifier = classifier.fit(X_train,y_train)\n",
    "y_pred = classifier.predict(X_test)\n"
   ]
  },
  {
   "cell_type": "code",
   "execution_count": 32,
   "metadata": {},
   "outputs": [
    {
     "name": "stdout",
     "output_type": "stream",
     "text": [
      "Accuracy: 0.67\n"
     ]
    }
   ],
   "source": [
    "accuracy = metrics.accuracy_score(y_test, y_pred)\n",
    "print('Accuracy: {:.2f}'.format(accuracy))"
   ]
  },
  {
   "cell_type": "code",
   "execution_count": 41,
   "metadata": {},
   "outputs": [
    {
     "data": {
      "image/png": "[encoded data removed]",
      "text/plain": [
       "<Figure size 432x288 with 2 Axes>"
      ]
     },
     "metadata": {
      "needs_background": "light"
     },
     "output_type": "display_data"
    }
   ],
   "source": [
    "from sklearn.metrics import plot_confusion_matrix\n",
    "plot_confusion_matrix(classifier, X_test, y_test)  \n",
    "plt.show() "
   ]
  },
  {
   "cell_type": "code",
   "execution_count": 36,
   "metadata": {},
   "outputs": [],
   "source": [
    "from sklearn.model_selection import cross_val_score\n",
    "knn_scores=[]\n",
    "for k in range(1,21):\n",
    "    classifier = KNeighborsClassifier(n_neighbors =k)\n",
    "    score=cross_val_score(classifier,X,y,cv=10)\n",
    "    knn_scores.append(score.mean())"
   ]
  },
  {
   "cell_type": "code",
   "execution_count": 37,
   "metadata": {},
   "outputs": [
    {
     "data": {
      "text/plain": [
       "[0.629357142857143,\n",
       " 0.6331285714285715,\n",
       " 0.6656571428571428,\n",
       " 0.6686571428571428,\n",
       " 0.6831285714285714,\n",
       " 0.6858428571428572,\n",
       " 0.6921428571428573,\n",
       " 0.6939857142857143,\n",
       " 0.6981285714285715,\n",
       " 0.6988428571428571,\n",
       " 0.7014714285714286,\n",
       " 0.7034714285714286,\n",
       " 0.7046285714285714,\n",
       " 0.7060285714285714,\n",
       " 0.7075142857142857,\n",
       " 0.7077285714285715,\n",
       " 0.7085571428571429,\n",
       " 0.7094857142857143,\n",
       " 0.7098714285714285,\n",
       " 0.7094142857142858]"
      ]
     },
     "execution_count": 37,
     "metadata": {},
     "output_type": "execute_result"
    }
   ],
   "source": [
    "knn_scores\n"
   ]
  },
  {
   "cell_type": "code",
   "execution_count": 179,
   "metadata": {},
   "outputs": [],
   "source": [
    "#confusion matrix\n",
    "from sklearn.metrics import confusion_matrix\n",
    "cm = confusion_matrix(y_test, y_pred)"
   ]
  },
  {
   "cell_type": "code",
   "execution_count": 180,
   "metadata": {},
   "outputs": [
    {
     "data": {
      "text/plain": [
       "array([[79, 16,  4],\n",
       "       [23, 25,  7],\n",
       "       [15, 16, 17]], dtype=int64)"
      ]
     },
     "execution_count": 180,
     "metadata": {},
     "output_type": "execute_result"
    }
   ],
   "source": [
    "cm"
   ]
  },
  {
   "cell_type": "code",
   "execution_count": 42,
   "metadata": {},
   "outputs": [
    {
     "data": {
      "text/plain": [
       "0.7118428571428571"
      ]
     },
     "execution_count": 42,
     "metadata": {},
     "output_type": "execute_result"
    }
   ],
   "source": [
    "from sklearn.ensemble import RandomForestClassifier\n",
    "rf=RandomForestClassifier(n_estimators=31)\n",
    "rf = rf.fit(X_train,y_train)\n",
    "score=cross_val_score(rf,X,y,cv=10)\n",
    "score.mean()"
   ]
  },
  {
   "cell_type": "code",
   "execution_count": 25,
   "metadata": {},
   "outputs": [],
   "source": [
    "rf_scores=[]\n",
    "for k in range(1,50):\n",
    "    rf=RandomForestClassifier(n_estimators=k)\n",
    "    score=cross_val_score(rf,X,y,cv=10)\n",
    "    rf_scores.append(score.mean())"
   ]
  },
  {
   "cell_type": "code",
   "execution_count": 26,
   "metadata": {},
   "outputs": [
    {
     "data": {
      "text/plain": [
       "[0.6382142857142857,\n",
       " 0.6405285714285714,\n",
       " 0.6700714285714285,\n",
       " 0.6758857142857143,\n",
       " 0.684542857142857,\n",
       " 0.6872714285714286,\n",
       " 0.6898714285714286,\n",
       " 0.6958714285714286,\n",
       " 0.6977857142857143,\n",
       " 0.6977285714285715,\n",
       " 0.7015,\n",
       " 0.7022142857142857,\n",
       " 0.7023571428571429,\n",
       " 0.7042857142857143,\n",
       " 0.7045714285714286,\n",
       " 0.7066,\n",
       " 0.7049428571428573,\n",
       " 0.7086428571428571,\n",
       " 0.7071428571428572]"
      ]
     },
     "execution_count": 26,
     "metadata": {},
     "output_type": "execute_result"
    }
   ],
   "source": [
    "rf_scores"
   ]
  },
  {
   "cell_type": "code",
   "execution_count": 43,
   "metadata": {},
   "outputs": [
    {
     "data": {
      "image/png": "[encoded data removed]",
      "text/plain": [
       "<Figure size 432x288 with 2 Axes>"
      ]
     },
     "metadata": {
      "needs_background": "light"
     },
     "output_type": "display_data"
    }
   ],
   "source": [
    "from sklearn.metrics import plot_confusion_matrix\n",
    "plot_confusion_matrix(rf, X_test, y_test)  \n",
    "plt.show() "
   ]
  },
  {
   "cell_type": "code",
   "execution_count": 45,
   "metadata": {},
   "outputs": [
    {
     "data": {
      "image/png": "[encoded data removed]",
      "text/plain": [
       "<Figure size 432x288 with 2 Axes>"
      ]
     },
     "metadata": {
      "needs_background": "light"
     },
     "output_type": "display_data"
    }
   ],
   "source": [
    "from sklearn.svm import SVC\n",
    "from sklearn.metrics import plot_confusion_matrix\n",
    "\n",
    "\n",
    "\n",
    "clf = SVC(random_state=42)\n",
    "clf.fit(X_train, y_train)\n",
    "SVC(random_state=42)\n",
    "plot_confusion_matrix(clf, X_test, y_test)  \n",
    "plt.show() "
   ]
  },
  {
   "cell_type": "code",
   "execution_count": 87,
   "metadata": {},
   "outputs": [],
   "source": [
    "import pickle\n"
   ]
  },
  {
   "cell_type": "code",
   "execution_count": 88,
   "metadata": {},
   "outputs": [],
   "source": [
    "with open(\"model1_predictis\",'wb')as f:\n",
    "    pickle.dump(classifier,f)"
   ]
  },
  {
   "cell_type": "code",
   "execution_count": null,
   "metadata": {},
   "outputs": [],
   "source": []
  },
  {
   "cell_type": "code",
   "execution_count": null,
   "metadata": {},
   "outputs": [],
   "source": []
  }
 ],
 "metadata": {
  "kernelspec": {
   "display_name": "Python 3",
   "language": "python",
   "name": "python3"
  },
  "language_info": {
   "codemirror_mode": {
    "name": "ipython",
    "version": 3
   },
   "file_extension": ".py",
   "mimetype": "text/x-python",
   "name": "python",
   "nbconvert_exporter": "python",
   "pygments_lexer": "ipython3",
   "version": "3.8.5"
  }
 },
 "nbformat": 4,
 "nbformat_minor": 4
}
