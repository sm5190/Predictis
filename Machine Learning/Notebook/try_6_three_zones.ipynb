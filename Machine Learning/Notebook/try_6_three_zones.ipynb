{
 "cells": [
  {
   "cell_type": "code",
   "execution_count": 1,
   "metadata": {},
   "outputs": [],
   "source": [
    "import pandas as pd\n"
   ]
  },
  {
   "cell_type": "code",
   "execution_count": 2,
   "metadata": {},
   "outputs": [
    {
     "name": "stdout",
     "output_type": "stream",
     "text": [
      "    age  sex   cp trestbps chol fbs restecg thalach exang oldpeak slope   ca  \\\n",
      "0  63.0  1.0  1.0      145  233   1       2     150     0     2.3     3  0.0   \n",
      "1  67.0  1.0  4.0      160  286   0       2     108     1     1.5     2  3.0   \n",
      "2  67.0  1.0  4.0      120  229   0       2     129     1     2.6     2  2.0   \n",
      "3  37.0  1.0  3.0      130  250   0       0     187     0     3.5     3  0.0   \n",
      "4  41.0  0.0  2.0      130  204   0       2     172     0     1.4     1  0.0   \n",
      "\n",
      "  thal  num  \n",
      "0  6.0    0  \n",
      "1  3.0    2  \n",
      "2  7.0    1  \n",
      "3  3.0    0  \n",
      "4  3.0    0  \n"
     ]
    }
   ],
   "source": [
    "column_names = [\"age\", \"sex\", \"cp\",\"trestbps\",\"chol\",\"fbs\",\"restecg\",\"thalach\",\"exang\",\"oldpeak\",\"slope\",\"ca\",\"thal\",\"num\"]\n",
    "data_list =[]\n",
    "\n",
    "df1 = pd.read_csv(\"/Users/Asus/Desktop/IDP/IDP_3-2 finals/Algorithm/UCI original/processed.cleveland.data\", names = column_names)\n",
    "df2 = pd.read_csv(\"/Users/Asus/Desktop/IDP/IDP_3-2 finals/Algorithm/UCI original/processed.hungarian.data\", names = column_names)\n",
    "df3 = pd.read_csv(\"/Users/Asus/Desktop/IDP/IDP_3-2 finals/Algorithm/UCI original/processed.switzerland.data\", names = column_names)\n",
    "df4 = pd.read_csv(\"/Users/Asus/Desktop/IDP/IDP_3-2 finals/Algorithm/UCI original/processed.va.data\", names = column_names)\n",
    "\n",
    "\n",
    "df1_1= df1.append(df2)\n",
    "df2_2= df3.append(df4)\n",
    "\n",
    "df_final= df1_1.append(df2_2)\n",
    "\n",
    "\n",
    "print(df_final.head())"
   ]
  },
  {
   "cell_type": "code",
   "execution_count": 3,
   "metadata": {},
   "outputs": [
    {
     "name": "stdout",
     "output_type": "stream",
     "text": [
      "<class 'pandas.core.frame.DataFrame'>\n",
      "Int64Index: 920 entries, 0 to 199\n",
      "Data columns (total 14 columns):\n",
      " #   Column    Non-Null Count  Dtype  \n",
      "---  ------    --------------  -----  \n",
      " 0   age       920 non-null    float64\n",
      " 1   sex       920 non-null    float64\n",
      " 2   cp        920 non-null    float64\n",
      " 3   trestbps  920 non-null    object \n",
      " 4   chol      920 non-null    object \n",
      " 5   fbs       920 non-null    object \n",
      " 6   restecg   920 non-null    object \n",
      " 7   thalach   920 non-null    object \n",
      " 8   exang     920 non-null    object \n",
      " 9   oldpeak   920 non-null    object \n",
      " 10  slope     920 non-null    object \n",
      " 11  ca        920 non-null    object \n",
      " 12  thal      920 non-null    object \n",
      " 13  num       920 non-null    int64  \n",
      "dtypes: float64(3), int64(1), object(10)\n",
      "memory usage: 107.8+ KB\n",
      "None\n",
      "(920, 14)\n"
     ]
    }
   ],
   "source": [
    "print(df_final.info())\n",
    "print(df_final.shape)"
   ]
  },
  {
   "cell_type": "code",
   "execution_count": 4,
   "metadata": {},
   "outputs": [
    {
     "name": "stdout",
     "output_type": "stream",
     "text": [
      "              age         sex          cp         num\n",
      "count  920.000000  920.000000  920.000000  920.000000\n",
      "mean    53.510870    0.789130    3.250000    0.995652\n",
      "std      9.424685    0.408148    0.930969    1.142693\n",
      "min     28.000000    0.000000    1.000000    0.000000\n",
      "25%     47.000000    1.000000    3.000000    0.000000\n",
      "50%     54.000000    1.000000    4.000000    1.000000\n",
      "75%     60.000000    1.000000    4.000000    2.000000\n",
      "max     77.000000    1.000000    4.000000    4.000000\n"
     ]
    }
   ],
   "source": [
    "print(df_final.describe())"
   ]
  },
  {
   "cell_type": "code",
   "execution_count": 5,
   "metadata": {},
   "outputs": [],
   "source": [
    "import numpy as np\n",
    "import matplotlib.pyplot as plt \n",
    "import pandas as pd\n",
    "import seaborn as sns\n",
    "from sklearn.model_selection import train_test_split\n",
    "from sklearn.preprocessing import StandardScaler\n",
    "from sklearn.neighbors import KNeighborsClassifier\n",
    "from sklearn.metrics import confusion_matrix\n",
    "from sklearn import metrics"
   ]
  },
  {
   "cell_type": "code",
   "execution_count": 6,
   "metadata": {},
   "outputs": [],
   "source": [
    "df_final =  df_final.replace('?', np.nan) # All data frame\n",
    "df_final.to_csv('df1.csv', encoding='utf-8')\n"
   ]
  },
  {
   "cell_type": "code",
   "execution_count": 7,
   "metadata": {},
   "outputs": [
    {
     "name": "stdout",
     "output_type": "stream",
     "text": [
      "<class 'pandas.core.frame.DataFrame'>\n",
      "Int64Index: 920 entries, 0 to 199\n",
      "Data columns (total 14 columns):\n",
      " #   Column    Non-Null Count  Dtype  \n",
      "---  ------    --------------  -----  \n",
      " 0   age       920 non-null    float64\n",
      " 1   sex       920 non-null    float64\n",
      " 2   cp        920 non-null    float64\n",
      " 3   trestbps  861 non-null    object \n",
      " 4   chol      890 non-null    object \n",
      " 5   fbs       830 non-null    object \n",
      " 6   restecg   918 non-null    object \n",
      " 7   thalach   865 non-null    object \n",
      " 8   exang     865 non-null    object \n",
      " 9   oldpeak   858 non-null    object \n",
      " 10  slope     611 non-null    object \n",
      " 11  ca        309 non-null    object \n",
      " 12  thal      434 non-null    object \n",
      " 13  num       920 non-null    int64  \n",
      "dtypes: float64(3), int64(1), object(10)\n",
      "memory usage: 107.8+ KB\n",
      "None\n",
      "(920, 14)\n"
     ]
    }
   ],
   "source": [
    "print(df_final.info())\n",
    "print(df_final.shape)"
   ]
  },
  {
   "cell_type": "code",
   "execution_count": 123,
   "metadata": {},
   "outputs": [
    {
     "name": "stdout",
     "output_type": "stream",
     "text": [
      "age           0\n",
      "sex           0\n",
      "cp            0\n",
      "trestbps     59\n",
      "chol         30\n",
      "fbs          90\n",
      "restecg       2\n",
      "thalach      55\n",
      "exang        55\n",
      "oldpeak      62\n",
      "slope       309\n",
      "ca          611\n",
      "thal        486\n",
      "num           0\n",
      "dtype: int64\n"
     ]
    }
   ],
   "source": [
    "print(df_final.isnull().sum())\n",
    "\n",
    "\n",
    "from sklearn.impute import SimpleImputer\n",
    "\n",
    "my_imputer = SimpleImputer()\n",
    "dataframe = pd.DataFrame(my_imputer.fit_transform(df_final))\n",
    "dataframe.columns = df_final.columns\n"
   ]
  },
  {
   "cell_type": "code",
   "execution_count": 124,
   "metadata": {},
   "outputs": [
    {
     "name": "stdout",
     "output_type": "stream",
     "text": [
      "age         0\n",
      "sex         0\n",
      "cp          0\n",
      "trestbps    0\n",
      "chol        0\n",
      "fbs         0\n",
      "restecg     0\n",
      "thalach     0\n",
      "exang       0\n",
      "oldpeak     0\n",
      "slope       0\n",
      "ca          0\n",
      "thal        0\n",
      "num         0\n",
      "dtype: int64\n"
     ]
    }
   ],
   "source": [
    "print(dataframe.isnull().sum())"
   ]
  },
  {
   "cell_type": "code",
   "execution_count": 43,
   "metadata": {},
   "outputs": [],
   "source": [
    "#\"trestbps\",\"chol\",\"fbs\",\"restecg\",\"thalach\",\"exang\",\"oldpeak\",\"slope\",\"ca\",\"thal\"\n",
    "\n",
    "\n",
    "\n",
    "\n",
    "\n",
    "\n"
   ]
  },
  {
   "cell_type": "code",
   "execution_count": 125,
   "metadata": {},
   "outputs": [
    {
     "name": "stdout",
     "output_type": "stream",
     "text": [
      "              age         sex          cp    trestbps        chol         fbs  \\\n",
      "count  920.000000  920.000000  920.000000  920.000000  920.000000  920.000000   \n",
      "mean    53.510870    0.789130    3.250000  132.132404  199.130337    0.166265   \n",
      "std      9.424685    0.408148    0.930969   18.443895  108.957634    0.353831   \n",
      "min     28.000000    0.000000    1.000000    0.000000    0.000000    0.000000   \n",
      "25%     47.000000    1.000000    3.000000  120.000000  177.750000    0.000000   \n",
      "50%     54.000000    1.000000    4.000000  130.000000  221.000000    0.000000   \n",
      "75%     60.000000    1.000000    4.000000  140.000000  267.000000    0.000000   \n",
      "max     77.000000    1.000000    4.000000  200.000000  603.000000    1.000000   \n",
      "\n",
      "          restecg     thalach       exang     oldpeak       slope          ca  \\\n",
      "count  920.000000  920.000000  920.000000  920.000000  920.000000  920.000000   \n",
      "mean     0.604575  137.545665    0.389595    0.878788    1.770867    0.676375   \n",
      "std      0.804950   25.138494    0.473114    1.053774    0.504519    0.541667   \n",
      "min      0.000000   60.000000    0.000000   -2.600000    1.000000    0.000000   \n",
      "25%      0.000000  120.000000    0.000000    0.000000    1.770867    0.676375   \n",
      "50%      0.000000  138.000000    0.000000    0.800000    1.770867    0.676375   \n",
      "75%      1.000000  156.000000    1.000000    1.500000    2.000000    0.676375   \n",
      "max      2.000000  202.000000    1.000000    6.200000    3.000000    3.000000   \n",
      "\n",
      "             thal         num  \n",
      "count  920.000000  920.000000  \n",
      "mean     5.087558    0.995652  \n",
      "std      1.317280    1.142693  \n",
      "min      3.000000    0.000000  \n",
      "25%      5.087558    0.000000  \n",
      "50%      5.087558    1.000000  \n",
      "75%      6.000000    2.000000  \n",
      "max      7.000000    4.000000  \n"
     ]
    },
    {
     "data": {
      "text/plain": [
       "0.0    411\n",
       "1.0    265\n",
       "2.0    109\n",
       "3.0    107\n",
       "4.0     28\n",
       "Name: num, dtype: int64"
      ]
     },
     "execution_count": 125,
     "metadata": {},
     "output_type": "execute_result"
    }
   ],
   "source": [
    "\n",
    "\n",
    "print(dataframe.describe())\n",
    "dataframe.num.value_counts()"
   ]
  },
  {
   "cell_type": "code",
   "execution_count": 129,
   "metadata": {},
   "outputs": [],
   "source": [
    "\n",
    "dataframe=dataframe.drop(['ca'], axis=1)\n",
    "dataframe=dataframe.drop(['thal'], axis=1)\n",
    "dataframe.to_csv('pre13.csv', encoding='utf-8')"
   ]
  },
  {
   "cell_type": "code",
   "execution_count": 46,
   "metadata": {},
   "outputs": [],
   "source": [
    "from sklearn.preprocessing import StandardScaler\n",
    "from sklearn.preprocessing import MinMaxScaler\n",
    "from sklearn.preprocessing import RobustScaler"
   ]
  },
  {
   "cell_type": "code",
   "execution_count": null,
   "metadata": {},
   "outputs": [],
   "source": []
  },
  {
   "cell_type": "code",
   "execution_count": 336,
   "metadata": {},
   "outputs": [],
   "source": [
    "d=pd.read_csv('/Users/Asus/Desktop/IDP/IDP_3-2 finals/Algorithm/Notebook/pre13.csv',index_col=0)\n",
    "#Desktop/IDP/IDP_3-2 finals/Algorithm/Datasets/three.csv"
   ]
  },
  {
   "cell_type": "code",
   "execution_count": 337,
   "metadata": {},
   "outputs": [
    {
     "name": "stdout",
     "output_type": "stream",
     "text": [
      "<class 'pandas.core.frame.DataFrame'>\n",
      "Int64Index: 920 entries, 0 to 919\n",
      "Data columns (total 12 columns):\n",
      " #   Column    Non-Null Count  Dtype  \n",
      "---  ------    --------------  -----  \n",
      " 0   age       920 non-null    float64\n",
      " 1   sex       920 non-null    float64\n",
      " 2   cp        920 non-null    float64\n",
      " 3   trestbps  920 non-null    float64\n",
      " 4   chol      920 non-null    float64\n",
      " 5   fbs       920 non-null    float64\n",
      " 6   restecg   920 non-null    float64\n",
      " 7   thalach   920 non-null    float64\n",
      " 8   exang     920 non-null    float64\n",
      " 9   oldpeak   920 non-null    float64\n",
      " 10  slope     920 non-null    float64\n",
      " 11  num       920 non-null    float64\n",
      "dtypes: float64(12)\n",
      "memory usage: 93.4 KB\n"
     ]
    }
   ],
   "source": [
    "d.head()\n",
    "d.info()"
   ]
  },
  {
   "cell_type": "code",
   "execution_count": 338,
   "metadata": {},
   "outputs": [],
   "source": [
    "d.num = d.num.where(d.num < 1, 1)"
   ]
  },
  {
   "cell_type": "code",
   "execution_count": 339,
   "metadata": {},
   "outputs": [
    {
     "data": {
      "text/plain": [
       "1.0    509\n",
       "0.0    411\n",
       "Name: num, dtype: int64"
      ]
     },
     "execution_count": 339,
     "metadata": {},
     "output_type": "execute_result"
    }
   ],
   "source": [
    "d.num.value_counts()"
   ]
  },
  {
   "cell_type": "code",
   "execution_count": 340,
   "metadata": {},
   "outputs": [],
   "source": [
    "X = d.drop(['num'], axis=1).values\n",
    "y = d['num'].values"
   ]
  },
  {
   "cell_type": "code",
   "execution_count": 341,
   "metadata": {},
   "outputs": [],
   "source": [
    "X_train, X_test, y_train, y_test =  train_test_split(X,y,test_size = 0.35, random_state=2021)"
   ]
  },
  {
   "cell_type": "code",
   "execution_count": 342,
   "metadata": {},
   "outputs": [],
   "source": [
    "#X.to_csv('X_train.csv', encoding='utf-8')"
   ]
  },
  {
   "cell_type": "code",
   "execution_count": 343,
   "metadata": {},
   "outputs": [],
   "source": [
    "sc_X = RobustScaler()\n",
    "X_train = sc_X.fit_transform(X_train)\n",
    "X_test = sc_X.transform(X_test)"
   ]
  },
  {
   "cell_type": "code",
   "execution_count": 344,
   "metadata": {},
   "outputs": [
    {
     "name": "stdout",
     "output_type": "stream",
     "text": [
      "Accuracy: 0.80\n"
     ]
    }
   ],
   "source": [
    "classifier = KNeighborsClassifier(n_neighbors =15)\n",
    "classifier = classifier.fit(X_train,y_train)\n",
    "#prediction\n",
    "y_pred = classifier.predict(X_test)\n",
    "accuracy = metrics.accuracy_score(y_test, y_pred)\n",
    "print('Accuracy: {:.2f}'.format(accuracy))\n"
   ]
  },
  {
   "cell_type": "code",
   "execution_count": 345,
   "metadata": {},
   "outputs": [],
   "source": [
    "classifier_man = KNeighborsClassifier(n_neighbors =21, metric = 'manhattan', p = 1)\n",
    "classifier_man = classifier_man.fit(X_train,y_train)\n",
    "y_pred = classifier_man.predict(X_test)"
   ]
  },
  {
   "cell_type": "code",
   "execution_count": 346,
   "metadata": {},
   "outputs": [
    {
     "name": "stdout",
     "output_type": "stream",
     "text": [
      "Accuracy: 0.80\n"
     ]
    }
   ],
   "source": [
    "accuracy = metrics.accuracy_score(y_test, y_pred)\n",
    "print('Accuracy: {:.2f}'.format(accuracy))"
   ]
  },
  {
   "cell_type": "code",
   "execution_count": 347,
   "metadata": {},
   "outputs": [
    {
     "data": {
      "image/png": "[encoded data removed]",
      "text/plain": [
       "<Figure size 432x288 with 2 Axes>"
      ]
     },
     "metadata": {
      "needs_background": "light"
     },
     "output_type": "display_data"
    }
   ],
   "source": [
    "from sklearn.metrics import plot_confusion_matrix\n",
    "plot_confusion_matrix(classifier_man, X_test, y_test)  \n",
    "plt.show() "
   ]
  },
  {
   "cell_type": "code",
   "execution_count": 348,
   "metadata": {},
   "outputs": [
    {
     "name": "stdout",
     "output_type": "stream",
     "text": [
      "Accuracy Score:\n",
      "0.8105590062111802\n"
     ]
    }
   ],
   "source": [
    "from sklearn.naive_bayes import GaussianNB\n",
    "from sklearn import metrics\n",
    "classifier = GaussianNB()\n",
    "classifier.fit(X_train, y_train)\n",
    "y_pred = classifier.predict(X_test)\n",
    "\n",
    "\n",
    "print('Accuracy Score:')\n",
    "print(metrics.accuracy_score(y_test,y_pred))\n",
    "\n"
   ]
  },
  {
   "cell_type": "code",
   "execution_count": null,
   "metadata": {},
   "outputs": [],
   "source": []
  },
  {
   "cell_type": "code",
   "execution_count": 349,
   "metadata": {},
   "outputs": [],
   "source": [
    "from sklearn.preprocessing import StandardScaler\n",
    "from sklearn.preprocessing import MinMaxScaler\n",
    "from sklearn.preprocessing import RobustScaler\n",
    "from sklearn.metrics import accuracy_score\n",
    "from sklearn.model_selection import train_test_split\n",
    "from sklearn.metrics import roc_auc_score\n"
   ]
  },
  {
   "cell_type": "code",
   "execution_count": 382,
   "metadata": {},
   "outputs": [],
   "source": [
    "df_model = d.copy()#Rescaling features age, trestbps, chol, thalach, oldpeak.\n",
    "scaler =RobustScaler()\n",
    "features = [['age','trestbps', 'chol', 'thalach', 'oldpeak']]\n",
    "for feature in features:\n",
    "    df_model[feature] = scaler.fit_transform(df_model[feature])"
   ]
  },
  {
   "cell_type": "code",
   "execution_count": 383,
   "metadata": {},
   "outputs": [],
   "source": [
    "X = df_model.drop(['num'], axis=1).values\n",
    "y = df_model['num'].values"
   ]
  },
  {
   "cell_type": "code",
   "execution_count": 384,
   "metadata": {},
   "outputs": [],
   "source": [
    "X_train, X_test, y_train, y_test =  train_test_split(X,y,test_size = 0.35, random_state=42)"
   ]
  },
  {
   "cell_type": "code",
   "execution_count": 407,
   "metadata": {},
   "outputs": [],
   "source": [
    "f_c = KNeighborsClassifier(n_neighbors =15, metric = 'euclidean', p = 2)\n",
    "f_c = f_c.fit(X_train,y_train)\n",
    "y_pred = f_c.predict(X_test)"
   ]
  },
  {
   "cell_type": "code",
   "execution_count": 408,
   "metadata": {},
   "outputs": [
    {
     "name": "stdout",
     "output_type": "stream",
     "text": [
      "0.84472049689441\n"
     ]
    }
   ],
   "source": [
    "print(accuracy_score(y_test, y_pred))\n"
   ]
  },
  {
   "cell_type": "code",
   "execution_count": 402,
   "metadata": {},
   "outputs": [],
   "source": [
    "from sklearn.model_selection import cross_val_score\n",
    "knn_scores=[]\n",
    "for k in range(1,41):\n",
    "    f_c = KNeighborsClassifier(n_neighbors = k, metric = 'manhattan', p = 2)\n",
    "    score=cross_val_score(f_c,X,y,cv=10)\n",
    "    knn_scores.append(score.mean())"
   ]
  },
  {
   "cell_type": "code",
   "execution_count": 356,
   "metadata": {},
   "outputs": [
    {
     "data": {
      "text/plain": [
       "[0.6945652173913043,\n",
       " 0.6695652173913043,\n",
       " 0.7478260869565216,\n",
       " 0.7402173913043478,\n",
       " 0.7728260869565217,\n",
       " 0.7717391304347827,\n",
       " 0.7913043478260869,\n",
       " 0.7923913043478261,\n",
       " 0.7913043478260869,\n",
       " 0.7869565217391303,\n",
       " 0.791304347826087,\n",
       " 0.7913043478260869,\n",
       " 0.7934782608695652,\n",
       " 0.7934782608695652,\n",
       " 0.7902173913043479,\n",
       " 0.7978260869565217,\n",
       " 0.7934782608695652,\n",
       " 0.7945652173913044,\n",
       " 0.7989130434782609,\n",
       " 0.8010869565217391,\n",
       " 0.7989130434782609,\n",
       " 0.8032608695652174,\n",
       " 0.8010869565217392,\n",
       " 0.8010869565217391,\n",
       " 0.7989130434782608,\n",
       " 0.7989130434782609,\n",
       " 0.8010869565217391,\n",
       " 0.8032608695652174,\n",
       " 0.8043478260869567,\n",
       " 0.8054347826086955,\n",
       " 0.8010869565217392,\n",
       " 0.8021739130434782,\n",
       " 0.8010869565217391,\n",
       " 0.8054347826086957,\n",
       " 0.8032608695652174,\n",
       " 0.8054347826086957,\n",
       " 0.8032608695652174,\n",
       " 0.8,\n",
       " 0.8,\n",
       " 0.7978260869565217]"
      ]
     },
     "execution_count": 356,
     "metadata": {},
     "output_type": "execute_result"
    }
   ],
   "source": [
    "knn_scores\n"
   ]
  },
  {
   "cell_type": "code",
   "execution_count": 409,
   "metadata": {},
   "outputs": [
    {
     "data": {
      "image/png": "[encoded data removed]",
      "text/plain": [
       "<Figure size 432x288 with 2 Axes>"
      ]
     },
     "metadata": {
      "needs_background": "light"
     },
     "output_type": "display_data"
    }
   ],
   "source": [
    "from sklearn.metrics import plot_confusion_matrix\n",
    "plot_confusion_matrix(f_c, X_test, y_test)  \n",
    "plt.show() "
   ]
  },
  {
   "cell_type": "code",
   "execution_count": 411,
   "metadata": {},
   "outputs": [
    {
     "name": "stdout",
     "output_type": "stream",
     "text": [
      "              precision    recall  f1-score   support\n",
      "\n",
      "         0.0       0.80      0.86      0.83       140\n",
      "         1.0       0.88      0.84      0.86       182\n",
      "\n",
      "    accuracy                           0.84       322\n",
      "   macro avg       0.84      0.85      0.84       322\n",
      "weighted avg       0.85      0.84      0.85       322\n",
      "\n"
     ]
    }
   ],
   "source": [
    "cr = classification_report(y_test, y_pred)\n",
    "print(cr) "
   ]
  },
  {
   "cell_type": "code",
   "execution_count": 363,
   "metadata": {},
   "outputs": [],
   "source": [
    "from sklearn.neighbors import KNeighborsClassifier\n",
    "model = KNeighborsClassifier(algorithm='auto', leaf_size=1, metric='manhattan',\n",
    " metric_params=None, n_jobs=1, n_neighbors=14, p=1,\n",
    " weights='uniform')\n",
    "model.fit(X_train, y_train)\n",
    "y_pred = model.predict(X_test)"
   ]
  },
  {
   "cell_type": "code",
   "execution_count": 364,
   "metadata": {},
   "outputs": [
    {
     "name": "stdout",
     "output_type": "stream",
     "text": [
      "0.8385093167701864\n"
     ]
    }
   ],
   "source": [
    "print(accuracy_score(y_test, y_pred))"
   ]
  },
  {
   "cell_type": "code",
   "execution_count": 365,
   "metadata": {},
   "outputs": [
    {
     "data": {
      "image/png": "[encoded data removed]",
      "text/plain": [
       "<Figure size 432x288 with 2 Axes>"
      ]
     },
     "metadata": {
      "needs_background": "light"
     },
     "output_type": "display_data"
    }
   ],
   "source": [
    "from sklearn.metrics import plot_confusion_matrix\n",
    "plot_confusion_matrix(model, X_test, y_test)  \n",
    "plt.show() "
   ]
  },
  {
   "cell_type": "code",
   "execution_count": 366,
   "metadata": {},
   "outputs": [
    {
     "name": "stdout",
     "output_type": "stream",
     "text": [
      "Best leaf_size: 1\n",
      "Best p: 1\n",
      "Best n_neighbors: 18\n",
      "0.8354037267080745\n"
     ]
    }
   ],
   "source": [
    "#List Hyperparameters to tune\n",
    "from sklearn.model_selection import GridSearchCV\n",
    "leaf_size = list(range(1,50))\n",
    "n_neighbors = list(range(1,20))\n",
    "p=[1,2]#convert to dictionary\n",
    "hyperparameters = dict(leaf_size=leaf_size, n_neighbors=n_neighbors, p=p)#Making model\n",
    "clf = GridSearchCV(classifier_man, hyperparameters, cv=10)\n",
    "best_model = clf.fit(X_train,y_train)#Best Hyperparameters Value\n",
    "print('Best leaf_size:', best_model.best_estimator_.get_params()['leaf_size'])\n",
    "print('Best p:', best_model.best_estimator_.get_params()['p'])\n",
    "print('Best n_neighbors:', best_model.best_estimator_.get_params()['n_neighbors'])#Predict testing set\n",
    "y_pred = best_model.predict(X_test)#Check performance using accuracy\n",
    "print(accuracy_score(y_test, y_pred))"
   ]
  },
  {
   "cell_type": "code",
   "execution_count": 358,
   "metadata": {},
   "outputs": [
    {
     "data": {
      "text/plain": [
       "array([[117,  20,   3],\n",
       "       [ 33,  54,   6],\n",
       "       [ 10,  65,  14]], dtype=int64)"
      ]
     },
     "execution_count": 358,
     "metadata": {},
     "output_type": "execute_result"
    }
   ],
   "source": [
    "cm"
   ]
  },
  {
   "cell_type": "code",
   "execution_count": 359,
   "metadata": {},
   "outputs": [
    {
     "data": {
      "text/plain": [
       "0.7619565217391304"
      ]
     },
     "execution_count": 359,
     "metadata": {},
     "output_type": "execute_result"
    }
   ],
   "source": [
    "from sklearn.ensemble import RandomForestClassifier\n",
    "rf=RandomForestClassifier(n_estimators=21)\n",
    "rf = rf.fit(X_train,y_train)\n",
    "score=cross_val_score(rf,X,y,cv=10)\n",
    "score.mean()"
   ]
  },
  {
   "cell_type": "code",
   "execution_count": 360,
   "metadata": {},
   "outputs": [],
   "source": [
    "rf_scores=[]\n",
    "for k in range(1,30):\n",
    "    rf=RandomForestClassifier(n_estimators=k)\n",
    "    score=cross_val_score(rf,X,y,cv=10)\n",
    "    rf_scores.append(score.mean())"
   ]
  },
  {
   "cell_type": "code",
   "execution_count": 361,
   "metadata": {},
   "outputs": [
    {
     "data": {
      "text/plain": [
       "[0.6902173913043478,\n",
       " 0.6608695652173913,\n",
       " 0.7195652173913045,\n",
       " 0.7043478260869566,\n",
       " 0.726086956521739,\n",
       " 0.7282608695652175,\n",
       " 0.7608695652173914,\n",
       " 0.7271739130434783,\n",
       " 0.7369565217391305,\n",
       " 0.7434782608695654,\n",
       " 0.7630434782608696,\n",
       " 0.7423913043478262,\n",
       " 0.7456521739130435,\n",
       " 0.7608695652173914,\n",
       " 0.7695652173913043,\n",
       " 0.75,\n",
       " 0.75,\n",
       " 0.7467391304347826,\n",
       " 0.7576086956521739,\n",
       " 0.7586956521739131,\n",
       " 0.766304347826087,\n",
       " 0.7597826086956522,\n",
       " 0.7630434782608696,\n",
       " 0.7630434782608695,\n",
       " 0.7510869565217392,\n",
       " 0.7608695652173914,\n",
       " 0.7684782608695653,\n",
       " 0.7565217391304347,\n",
       " 0.7619565217391304]"
      ]
     },
     "execution_count": 361,
     "metadata": {},
     "output_type": "execute_result"
    }
   ],
   "source": [
    "rf_scores"
   ]
  },
  {
   "cell_type": "code",
   "execution_count": 362,
   "metadata": {},
   "outputs": [
    {
     "ename": "NotFittedError",
     "evalue": "This RandomForestClassifier instance is not fitted yet. Call 'fit' with appropriate arguments before using this estimator.",
     "output_type": "error",
     "traceback": [
      "\u001b[1;31m---------------------------------------------------------------------------\u001b[0m",
      "\u001b[1;31mNotFittedError\u001b[0m                            Traceback (most recent call last)",
      "\u001b[1;32m<ipython-input-362-a30d15a993fd>\u001b[0m in \u001b[0;36m<module>\u001b[1;34m\u001b[0m\n\u001b[0;32m      1\u001b[0m \u001b[1;32mfrom\u001b[0m \u001b[0msklearn\u001b[0m\u001b[1;33m.\u001b[0m\u001b[0mmetrics\u001b[0m \u001b[1;32mimport\u001b[0m \u001b[0mplot_confusion_matrix\u001b[0m\u001b[1;33m\u001b[0m\u001b[1;33m\u001b[0m\u001b[0m\n\u001b[1;32m----> 2\u001b[1;33m \u001b[0mplot_confusion_matrix\u001b[0m\u001b[1;33m(\u001b[0m\u001b[0mrf\u001b[0m\u001b[1;33m,\u001b[0m \u001b[0mX_test\u001b[0m\u001b[1;33m,\u001b[0m \u001b[0my_test\u001b[0m\u001b[1;33m)\u001b[0m\u001b[1;33m\u001b[0m\u001b[1;33m\u001b[0m\u001b[0m\n\u001b[0m\u001b[0;32m      3\u001b[0m \u001b[0mplt\u001b[0m\u001b[1;33m.\u001b[0m\u001b[0mshow\u001b[0m\u001b[1;33m(\u001b[0m\u001b[1;33m)\u001b[0m\u001b[1;33m\u001b[0m\u001b[1;33m\u001b[0m\u001b[0m\n",
      "\u001b[1;32mE:\\Anaconda\\lib\\site-packages\\sklearn\\utils\\validation.py\u001b[0m in \u001b[0;36minner_f\u001b[1;34m(*args, **kwargs)\u001b[0m\n\u001b[0;32m     70\u001b[0m                           FutureWarning)\n\u001b[0;32m     71\u001b[0m         \u001b[0mkwargs\u001b[0m\u001b[1;33m.\u001b[0m\u001b[0mupdate\u001b[0m\u001b[1;33m(\u001b[0m\u001b[1;33m{\u001b[0m\u001b[0mk\u001b[0m\u001b[1;33m:\u001b[0m \u001b[0marg\u001b[0m \u001b[1;32mfor\u001b[0m \u001b[0mk\u001b[0m\u001b[1;33m,\u001b[0m \u001b[0marg\u001b[0m \u001b[1;32min\u001b[0m \u001b[0mzip\u001b[0m\u001b[1;33m(\u001b[0m\u001b[0msig\u001b[0m\u001b[1;33m.\u001b[0m\u001b[0mparameters\u001b[0m\u001b[1;33m,\u001b[0m \u001b[0margs\u001b[0m\u001b[1;33m)\u001b[0m\u001b[1;33m}\u001b[0m\u001b[1;33m)\u001b[0m\u001b[1;33m\u001b[0m\u001b[1;33m\u001b[0m\u001b[0m\n\u001b[1;32m---> 72\u001b[1;33m         \u001b[1;32mreturn\u001b[0m \u001b[0mf\u001b[0m\u001b[1;33m(\u001b[0m\u001b[1;33m**\u001b[0m\u001b[0mkwargs\u001b[0m\u001b[1;33m)\u001b[0m\u001b[1;33m\u001b[0m\u001b[1;33m\u001b[0m\u001b[0m\n\u001b[0m\u001b[0;32m     73\u001b[0m     \u001b[1;32mreturn\u001b[0m \u001b[0minner_f\u001b[0m\u001b[1;33m\u001b[0m\u001b[1;33m\u001b[0m\u001b[0m\n\u001b[0;32m     74\u001b[0m \u001b[1;33m\u001b[0m\u001b[0m\n",
      "\u001b[1;32mE:\\Anaconda\\lib\\site-packages\\sklearn\\metrics\\_plot\\confusion_matrix.py\u001b[0m in \u001b[0;36mplot_confusion_matrix\u001b[1;34m(estimator, X, y_true, labels, sample_weight, normalize, display_labels, include_values, xticks_rotation, values_format, cmap, ax)\u001b[0m\n\u001b[0;32m    217\u001b[0m         \u001b[1;32mraise\u001b[0m \u001b[0mValueError\u001b[0m\u001b[1;33m(\u001b[0m\u001b[1;34m\"plot_confusion_matrix only supports classifiers\"\u001b[0m\u001b[1;33m)\u001b[0m\u001b[1;33m\u001b[0m\u001b[1;33m\u001b[0m\u001b[0m\n\u001b[0;32m    218\u001b[0m \u001b[1;33m\u001b[0m\u001b[0m\n\u001b[1;32m--> 219\u001b[1;33m     \u001b[0my_pred\u001b[0m \u001b[1;33m=\u001b[0m \u001b[0mestimator\u001b[0m\u001b[1;33m.\u001b[0m\u001b[0mpredict\u001b[0m\u001b[1;33m(\u001b[0m\u001b[0mX\u001b[0m\u001b[1;33m)\u001b[0m\u001b[1;33m\u001b[0m\u001b[1;33m\u001b[0m\u001b[0m\n\u001b[0m\u001b[0;32m    220\u001b[0m     cm = confusion_matrix(y_true, y_pred, sample_weight=sample_weight,\n\u001b[0;32m    221\u001b[0m                           labels=labels, normalize=normalize)\n",
      "\u001b[1;32mE:\\Anaconda\\lib\\site-packages\\sklearn\\ensemble\\_forest.py\u001b[0m in \u001b[0;36mpredict\u001b[1;34m(self, X)\u001b[0m\n\u001b[0;32m    627\u001b[0m             \u001b[0mThe\u001b[0m \u001b[0mpredicted\u001b[0m \u001b[0mclasses\u001b[0m\u001b[1;33m.\u001b[0m\u001b[1;33m\u001b[0m\u001b[1;33m\u001b[0m\u001b[0m\n\u001b[0;32m    628\u001b[0m         \"\"\"\n\u001b[1;32m--> 629\u001b[1;33m         \u001b[0mproba\u001b[0m \u001b[1;33m=\u001b[0m \u001b[0mself\u001b[0m\u001b[1;33m.\u001b[0m\u001b[0mpredict_proba\u001b[0m\u001b[1;33m(\u001b[0m\u001b[0mX\u001b[0m\u001b[1;33m)\u001b[0m\u001b[1;33m\u001b[0m\u001b[1;33m\u001b[0m\u001b[0m\n\u001b[0m\u001b[0;32m    630\u001b[0m \u001b[1;33m\u001b[0m\u001b[0m\n\u001b[0;32m    631\u001b[0m         \u001b[1;32mif\u001b[0m \u001b[0mself\u001b[0m\u001b[1;33m.\u001b[0m\u001b[0mn_outputs_\u001b[0m \u001b[1;33m==\u001b[0m \u001b[1;36m1\u001b[0m\u001b[1;33m:\u001b[0m\u001b[1;33m\u001b[0m\u001b[1;33m\u001b[0m\u001b[0m\n",
      "\u001b[1;32mE:\\Anaconda\\lib\\site-packages\\sklearn\\ensemble\\_forest.py\u001b[0m in \u001b[0;36mpredict_proba\u001b[1;34m(self, X)\u001b[0m\n\u001b[0;32m    669\u001b[0m             \u001b[0mclasses\u001b[0m \u001b[0mcorresponds\u001b[0m \u001b[0mto\u001b[0m \u001b[0mthat\u001b[0m \u001b[1;32min\u001b[0m \u001b[0mthe\u001b[0m \u001b[0mattribute\u001b[0m \u001b[1;33m:\u001b[0m\u001b[0mterm\u001b[0m\u001b[1;33m:\u001b[0m\u001b[0;31m`\u001b[0m\u001b[0mclasses_\u001b[0m\u001b[0;31m`\u001b[0m\u001b[1;33m.\u001b[0m\u001b[1;33m\u001b[0m\u001b[1;33m\u001b[0m\u001b[0m\n\u001b[0;32m    670\u001b[0m         \"\"\"\n\u001b[1;32m--> 671\u001b[1;33m         \u001b[0mcheck_is_fitted\u001b[0m\u001b[1;33m(\u001b[0m\u001b[0mself\u001b[0m\u001b[1;33m)\u001b[0m\u001b[1;33m\u001b[0m\u001b[1;33m\u001b[0m\u001b[0m\n\u001b[0m\u001b[0;32m    672\u001b[0m         \u001b[1;31m# Check data\u001b[0m\u001b[1;33m\u001b[0m\u001b[1;33m\u001b[0m\u001b[1;33m\u001b[0m\u001b[0m\n\u001b[0;32m    673\u001b[0m         \u001b[0mX\u001b[0m \u001b[1;33m=\u001b[0m \u001b[0mself\u001b[0m\u001b[1;33m.\u001b[0m\u001b[0m_validate_X_predict\u001b[0m\u001b[1;33m(\u001b[0m\u001b[0mX\u001b[0m\u001b[1;33m)\u001b[0m\u001b[1;33m\u001b[0m\u001b[1;33m\u001b[0m\u001b[0m\n",
      "\u001b[1;32mE:\\Anaconda\\lib\\site-packages\\sklearn\\utils\\validation.py\u001b[0m in \u001b[0;36minner_f\u001b[1;34m(*args, **kwargs)\u001b[0m\n\u001b[0;32m     70\u001b[0m                           FutureWarning)\n\u001b[0;32m     71\u001b[0m         \u001b[0mkwargs\u001b[0m\u001b[1;33m.\u001b[0m\u001b[0mupdate\u001b[0m\u001b[1;33m(\u001b[0m\u001b[1;33m{\u001b[0m\u001b[0mk\u001b[0m\u001b[1;33m:\u001b[0m \u001b[0marg\u001b[0m \u001b[1;32mfor\u001b[0m \u001b[0mk\u001b[0m\u001b[1;33m,\u001b[0m \u001b[0marg\u001b[0m \u001b[1;32min\u001b[0m \u001b[0mzip\u001b[0m\u001b[1;33m(\u001b[0m\u001b[0msig\u001b[0m\u001b[1;33m.\u001b[0m\u001b[0mparameters\u001b[0m\u001b[1;33m,\u001b[0m \u001b[0margs\u001b[0m\u001b[1;33m)\u001b[0m\u001b[1;33m}\u001b[0m\u001b[1;33m)\u001b[0m\u001b[1;33m\u001b[0m\u001b[1;33m\u001b[0m\u001b[0m\n\u001b[1;32m---> 72\u001b[1;33m         \u001b[1;32mreturn\u001b[0m \u001b[0mf\u001b[0m\u001b[1;33m(\u001b[0m\u001b[1;33m**\u001b[0m\u001b[0mkwargs\u001b[0m\u001b[1;33m)\u001b[0m\u001b[1;33m\u001b[0m\u001b[1;33m\u001b[0m\u001b[0m\n\u001b[0m\u001b[0;32m     73\u001b[0m     \u001b[1;32mreturn\u001b[0m \u001b[0minner_f\u001b[0m\u001b[1;33m\u001b[0m\u001b[1;33m\u001b[0m\u001b[0m\n\u001b[0;32m     74\u001b[0m \u001b[1;33m\u001b[0m\u001b[0m\n",
      "\u001b[1;32mE:\\Anaconda\\lib\\site-packages\\sklearn\\utils\\validation.py\u001b[0m in \u001b[0;36mcheck_is_fitted\u001b[1;34m(estimator, attributes, msg, all_or_any)\u001b[0m\n\u001b[0;32m   1017\u001b[0m \u001b[1;33m\u001b[0m\u001b[0m\n\u001b[0;32m   1018\u001b[0m     \u001b[1;32mif\u001b[0m \u001b[1;32mnot\u001b[0m \u001b[0mattrs\u001b[0m\u001b[1;33m:\u001b[0m\u001b[1;33m\u001b[0m\u001b[1;33m\u001b[0m\u001b[0m\n\u001b[1;32m-> 1019\u001b[1;33m         \u001b[1;32mraise\u001b[0m \u001b[0mNotFittedError\u001b[0m\u001b[1;33m(\u001b[0m\u001b[0mmsg\u001b[0m \u001b[1;33m%\u001b[0m \u001b[1;33m{\u001b[0m\u001b[1;34m'name'\u001b[0m\u001b[1;33m:\u001b[0m \u001b[0mtype\u001b[0m\u001b[1;33m(\u001b[0m\u001b[0mestimator\u001b[0m\u001b[1;33m)\u001b[0m\u001b[1;33m.\u001b[0m\u001b[0m__name__\u001b[0m\u001b[1;33m}\u001b[0m\u001b[1;33m)\u001b[0m\u001b[1;33m\u001b[0m\u001b[1;33m\u001b[0m\u001b[0m\n\u001b[0m\u001b[0;32m   1020\u001b[0m \u001b[1;33m\u001b[0m\u001b[0m\n\u001b[0;32m   1021\u001b[0m \u001b[1;33m\u001b[0m\u001b[0m\n",
      "\u001b[1;31mNotFittedError\u001b[0m: This RandomForestClassifier instance is not fitted yet. Call 'fit' with appropriate arguments before using this estimator."
     ]
    }
   ],
   "source": [
    "from sklearn.metrics import plot_confusion_matrix\n",
    "plot_confusion_matrix(rf, X_test, y_test)  \n",
    "plt.show() "
   ]
  },
  {
   "cell_type": "code",
   "execution_count": 367,
   "metadata": {},
   "outputs": [
    {
     "name": "stdout",
     "output_type": "stream",
     "text": [
      "Accuracy: 0.82\n"
     ]
    },
    {
     "data": {
      "image/png": "[encoded data removed]",
      "text/plain": [
       "<Figure size 432x288 with 2 Axes>"
      ]
     },
     "metadata": {
      "needs_background": "light"
     },
     "output_type": "display_data"
    }
   ],
   "source": [
    "from sklearn.svm import SVC\n",
    "from sklearn.metrics import plot_confusion_matrix\n",
    "\n",
    "\n",
    "\n",
    "clf = SVC(random_state=42)\n",
    "clf.fit(X_train, y_train)\n",
    "\n",
    "y_pred = clf.predict(X_test)\n",
    "accuracy = metrics.accuracy_score(y_test, y_pred)\n",
    "print('Accuracy: {:.2f}'.format(accuracy))\n",
    "\n",
    "SVC(random_state=42)\n",
    "plot_confusion_matrix(clf, X_test, y_test)  \n",
    "plt.show() "
   ]
  },
  {
   "cell_type": "code",
   "execution_count": null,
   "metadata": {},
   "outputs": [],
   "source": []
  },
  {
   "cell_type": "code",
   "execution_count": 368,
   "metadata": {},
   "outputs": [
    {
     "name": "stdout",
     "output_type": "stream",
     "text": [
      "Accuracy: 0.81\n",
      "Accuracy: 0.82\n",
      "Accuracy: 0.80\n"
     ]
    }
   ],
   "source": [
    "from sklearn import svm, datasets\n",
    "kernels = ['linear', 'rbf', 'poly']\n",
    "for kernel in kernels:\n",
    "    svc = svm.SVC(kernel=kernel).fit(X_train, y_train)\n",
    "    y_pred = svc.predict(X_test)\n",
    "    accuracy = metrics.accuracy_score(y_test, y_pred)\n",
    "    print('Accuracy: {:.2f}'.format(accuracy))\n",
    "\n"
   ]
  },
  {
   "cell_type": "code",
   "execution_count": 369,
   "metadata": {},
   "outputs": [
    {
     "name": "stdout",
     "output_type": "stream",
     "text": [
      "Accuracy: 0.82\n",
      "Accuracy: 0.83\n",
      "Accuracy: 0.58\n",
      "Accuracy: 0.57\n",
      "Accuracy: 0.57\n"
     ]
    }
   ],
   "source": [
    "gammas = [0.1, 1, 10, 100,1000]\n",
    "for gamma in gammas:\n",
    "    svc = svm.SVC(kernel='rbf', gamma=gamma).fit(X_train, y_train)\n",
    "    y_pred = svc.predict(X_test)\n",
    "    accuracy = metrics.accuracy_score(y_test, y_pred)\n",
    "    print('Accuracy: {:.2f}'.format(accuracy))\n"
   ]
  },
  {
   "cell_type": "code",
   "execution_count": 370,
   "metadata": {},
   "outputs": [
    {
     "name": "stdout",
     "output_type": "stream",
     "text": [
      "Accuracy: 0.83\n",
      "Accuracy: 0.82\n",
      "Accuracy: 0.83\n",
      "Accuracy: 0.79\n",
      "Accuracy: 0.75\n"
     ]
    }
   ],
   "source": [
    "cs = [0.1, 1, 10, 100, 1000]\n",
    "for c in cs:\n",
    "    svc = svm.SVC(kernel='rbf', C=c).fit(X_train, y_train)\n",
    "    y_pred = svc.predict(X_test)\n",
    "    accuracy = metrics.accuracy_score(y_test, y_pred)\n",
    "    print('Accuracy: {:.2f}'.format(accuracy))"
   ]
  },
  {
   "cell_type": "code",
   "execution_count": 371,
   "metadata": {},
   "outputs": [
    {
     "name": "stdout",
     "output_type": "stream",
     "text": [
      "Accuracy: 0.57\n",
      "Accuracy: 0.82\n",
      "Accuracy: 0.80\n",
      "Accuracy: 0.80\n",
      "Accuracy: 0.80\n",
      "Accuracy: 0.80\n",
      "Accuracy: 0.79\n"
     ]
    }
   ],
   "source": [
    "degrees = [0, 1, 2, 3, 4, 5, 6]\n",
    "for degree in degrees:\n",
    "    svc = svm.SVC(kernel='poly', degree=degree).fit(X_train, y_train)\n",
    "    y_pred = svc.predict(X_test)\n",
    "    accuracy = metrics.accuracy_score(y_test, y_pred)\n",
    "    print('Accuracy: {:.2f}'.format(accuracy))"
   ]
  },
  {
   "cell_type": "code",
   "execution_count": 372,
   "metadata": {},
   "outputs": [
    {
     "name": "stdout",
     "output_type": "stream",
     "text": [
      "Accuracy: 0.82\n"
     ]
    }
   ],
   "source": [
    "svc = svm.SVC(kernel='rbf',degree=2,gamma=.1,C=1,random_state=2021).fit(X_train, y_train)\n",
    "y_pred = svc.predict(X_test)\n",
    "accuracy = metrics.accuracy_score(y_test, y_pred)\n",
    "print('Accuracy: {:.2f}'.format(accuracy))"
   ]
  },
  {
   "cell_type": "code",
   "execution_count": null,
   "metadata": {},
   "outputs": [],
   "source": [
    "plot_confusion_matrix(svc, X_test, y_test)  \n",
    "plt.show() "
   ]
  },
  {
   "cell_type": "code",
   "execution_count": 373,
   "metadata": {},
   "outputs": [
    {
     "name": "stdout",
     "output_type": "stream",
     "text": [
      "0.8198757763975155\n"
     ]
    }
   ],
   "source": [
    "from sklearn.ensemble import GradientBoostingClassifier\n",
    "model = GradientBoostingClassifier()\n",
    "model.fit(X_train, y_train)\n",
    "\n",
    "y_pred = model.predict(X_test)\n",
    "\n",
    "print(accuracy_score(y_test, y_pred))"
   ]
  },
  {
   "cell_type": "code",
   "execution_count": 374,
   "metadata": {},
   "outputs": [
    {
     "name": "stdout",
     "output_type": "stream",
     "text": [
      "SGDClassifier(tol=0.01)\n",
      "Score:  0.6237458193979933\n",
      "[[ 37 103]\n",
      " [  6 176]]\n",
      "              precision    recall  f1-score   support\n",
      "\n",
      "         0.0       0.86      0.26      0.40       140\n",
      "         1.0       0.63      0.97      0.76       182\n",
      "\n",
      "    accuracy                           0.66       322\n",
      "   macro avg       0.75      0.62      0.58       322\n",
      "weighted avg       0.73      0.66      0.61       322\n",
      "\n"
     ]
    }
   ],
   "source": [
    "from sklearn.linear_model import SGDClassifier\n",
    "from sklearn.metrics import classification_report\n",
    "sgdc = SGDClassifier(max_iter=1000, tol=0.01)\n",
    "print(sgdc)\n",
    "\n",
    "sgdc.fit(X_train, y_train)\n",
    "score = sgdc.score(X_train, y_train)\n",
    "print(\"Score: \", score)\n",
    "\n",
    "ypred = sgdc.predict(X_test)\n",
    "\n",
    "cm = confusion_matrix(y_test, ypred)\n",
    "print(cm)\n",
    "\n",
    "cr = classification_report(y_test, ypred)\n",
    "print(cr) "
   ]
  },
  {
   "cell_type": "code",
   "execution_count": null,
   "metadata": {},
   "outputs": [],
   "source": [
    "import pickle\n"
   ]
  },
  {
   "cell_type": "code",
   "execution_count": null,
   "metadata": {},
   "outputs": [],
   "source": [
    "with open(\"model1_predictis\",'wb')as f:\n",
    "    pickle.dump(classifier,f)"
   ]
  },
  {
   "cell_type": "code",
   "execution_count": null,
   "metadata": {},
   "outputs": [],
   "source": [
    "GradientBoostingClassifier(criterion=’friedman_mse’, init=None,\n",
    " learning_rate=0.1, loss=’deviance’, max_depth=3,\n",
    " max_features=None, max_leaf_nodes=None,\n",
    " min_impurity_split=1e-07, min_samples_leaf=1,\n",
    " min_samples_split=2, min_weight_fraction_leaf=0.0,\n",
    " n_estimators=100, presort=’auto’, random_state=None,\n",
    " subsample=1.0, verbose=0, warm_start=False)"
   ]
  },
  {
   "cell_type": "code",
   "execution_count": null,
   "metadata": {},
   "outputs": [],
   "source": []
  }
 ],
 "metadata": {
  "kernelspec": {
   "display_name": "Python 3",
   "language": "python",
   "name": "python3"
  },
  "language_info": {
   "codemirror_mode": {
    "name": "ipython",
    "version": 3
   },
   "file_extension": ".py",
   "mimetype": "text/x-python",
   "name": "python",
   "nbconvert_exporter": "python",
   "pygments_lexer": "ipython3",
   "version": "3.8.5"
  }
 },
 "nbformat": 4,
 "nbformat_minor": 4
}
