{
 "cells": [
  {
   "cell_type": "code",
   "execution_count": 1,
   "metadata": {},
   "outputs": [],
   "source": [
    "import pandas as pd\n"
   ]
  },
  {
   "cell_type": "code",
   "execution_count": 4,
   "metadata": {},
   "outputs": [
    {
     "name": "stdout",
     "output_type": "stream",
     "text": [
      "    age  sex   cp trestbps chol fbs restecg thalach exang oldpeak slope   ca  \\\n",
      "0  63.0  1.0  1.0      145  233   1       2     150     0     2.3     3  0.0   \n",
      "1  67.0  1.0  4.0      160  286   0       2     108     1     1.5     2  3.0   \n",
      "2  67.0  1.0  4.0      120  229   0       2     129     1     2.6     2  2.0   \n",
      "3  37.0  1.0  3.0      130  250   0       0     187     0     3.5     3  0.0   \n",
      "4  41.0  0.0  2.0      130  204   0       2     172     0     1.4     1  0.0   \n",
      "\n",
      "  thal  num  \n",
      "0  6.0    0  \n",
      "1  3.0    2  \n",
      "2  7.0    1  \n",
      "3  3.0    0  \n",
      "4  3.0    0  \n"
     ]
    }
   ],
   "source": [
    "column_names = [\"age\", \"sex\", \"cp\",\"trestbps\",\"chol\",\"fbs\",\"restecg\",\"thalach\",\"exang\",\"oldpeak\",\"slope\",\"ca\",\"thal\",\"num\"]\n",
    "data_list =[]\n",
    "\n",
    "df1 = pd.read_csv(\"/Users/Asus/Desktop/IDP/IDP_3-2 finals/Algorithm/UCI original/processed.cleveland.data\", names = column_names)\n",
    "df2 = pd.read_csv(\"/Users/Asus/Desktop/IDP/IDP_3-2 finals/Algorithm/UCI original/processed.hungarian.data\", names = column_names)\n",
    "df3 = pd.read_csv(\"/Users/Asus/Desktop/IDP/IDP_3-2 finals/Algorithm/UCI original/processed.switzerland.data\", names = column_names)\n",
    "df4 = pd.read_csv(\"/Users/Asus/Desktop/IDP/IDP_3-2 finals/Algorithm/UCI original/processed.va.data\", names = column_names)\n",
    "\n",
    "\n",
    "df1_1= df1.append(df2)\n",
    "df2_2= df3.append(df4)\n",
    "\n",
    "df_final= df1_1.append(df2_2)\n",
    "\n",
    "\n",
    "print(df_final.head())"
   ]
  },
  {
   "cell_type": "code",
   "execution_count": 5,
   "metadata": {},
   "outputs": [
    {
     "name": "stdout",
     "output_type": "stream",
     "text": [
      "<class 'pandas.core.frame.DataFrame'>\n",
      "Int64Index: 920 entries, 0 to 199\n",
      "Data columns (total 14 columns):\n",
      " #   Column    Non-Null Count  Dtype  \n",
      "---  ------    --------------  -----  \n",
      " 0   age       920 non-null    float64\n",
      " 1   sex       920 non-null    float64\n",
      " 2   cp        920 non-null    float64\n",
      " 3   trestbps  920 non-null    object \n",
      " 4   chol      920 non-null    object \n",
      " 5   fbs       920 non-null    object \n",
      " 6   restecg   920 non-null    object \n",
      " 7   thalach   920 non-null    object \n",
      " 8   exang     920 non-null    object \n",
      " 9   oldpeak   920 non-null    object \n",
      " 10  slope     920 non-null    object \n",
      " 11  ca        920 non-null    object \n",
      " 12  thal      920 non-null    object \n",
      " 13  num       920 non-null    int64  \n",
      "dtypes: float64(3), int64(1), object(10)\n",
      "memory usage: 107.8+ KB\n",
      "None\n",
      "(920, 14)\n"
     ]
    }
   ],
   "source": [
    "print(df_final.info())\n",
    "print(df_final.shape)"
   ]
  },
  {
   "cell_type": "code",
   "execution_count": 6,
   "metadata": {},
   "outputs": [
    {
     "name": "stdout",
     "output_type": "stream",
     "text": [
      "              age         sex          cp         num\n",
      "count  920.000000  920.000000  920.000000  920.000000\n",
      "mean    53.510870    0.789130    3.250000    0.995652\n",
      "std      9.424685    0.408148    0.930969    1.142693\n",
      "min     28.000000    0.000000    1.000000    0.000000\n",
      "25%     47.000000    1.000000    3.000000    0.000000\n",
      "50%     54.000000    1.000000    4.000000    1.000000\n",
      "75%     60.000000    1.000000    4.000000    2.000000\n",
      "max     77.000000    1.000000    4.000000    4.000000\n"
     ]
    }
   ],
   "source": [
    "print(df_final.describe())"
   ]
  },
  {
   "cell_type": "code",
   "execution_count": 7,
   "metadata": {},
   "outputs": [],
   "source": [
    "import numpy as np\n",
    "import matplotlib.pyplot as plt \n",
    "import pandas as pd\n",
    "import seaborn as sns\n",
    "from sklearn.model_selection import train_test_split\n",
    "from sklearn.preprocessing import StandardScaler\n",
    "from sklearn.neighbors import KNeighborsClassifier\n",
    "from sklearn.metrics import confusion_matrix\n",
    "from sklearn import metrics"
   ]
  },
  {
   "cell_type": "code",
   "execution_count": 8,
   "metadata": {},
   "outputs": [],
   "source": [
    "#\"trestbps\",\"chol\",\"fbs\",\"restecg\",\"thalach\",\"exang\",\"oldpeak\",\"slope\",\"ca\",\"thal\"\n",
    "df_final=df_final.drop(['ca'],axis=1)\n",
    "df_final=df_final.drop(['thal'],axis=1)\n",
    "df_1=df_final[df_final.trestbps!= '?']\n",
    "df_2=df_1[df_1.chol!='?']\n",
    "df_2=df_2[df_2.fbs!='?']\n",
    "df_2=df_2[df_2.restecg!='?']\n",
    "df_2=df_2[df_2.thalach!='?']\n",
    "df_2=df_2[df_2.exang!='?']\n",
    "df_2=df_2[df_2.oldpeak!='?']\n",
    "df_2=df_2[df_2.slope!='?']\n",
    "\n",
    "\n"
   ]
  },
  {
   "cell_type": "code",
   "execution_count": 9,
   "metadata": {},
   "outputs": [
    {
     "name": "stdout",
     "output_type": "stream",
     "text": [
      "              age         sex          cp         num\n",
      "count  510.000000  510.000000  510.000000  510.000000\n",
      "mean    54.656863    0.754902    3.333333    1.011765\n",
      "std      8.796650    0.430568    0.916272    1.050708\n",
      "min     29.000000    0.000000    1.000000    0.000000\n",
      "25%     48.250000    1.000000    3.000000    0.000000\n",
      "50%     55.000000    1.000000    4.000000    1.000000\n",
      "75%     61.000000    1.000000    4.000000    2.000000\n",
      "max     77.000000    1.000000    4.000000    3.000000\n"
     ]
    },
    {
     "data": {
      "text/plain": [
       "0    207\n",
       "1    161\n",
       "3     71\n",
       "2     71\n",
       "Name: num, dtype: int64"
      ]
     },
     "execution_count": 9,
     "metadata": {},
     "output_type": "execute_result"
    }
   ],
   "source": [
    "data = df_2[df_2.num!=4]\n",
    "\n",
    "print(data.describe())\n",
    "data.num.value_counts()"
   ]
  },
  {
   "cell_type": "code",
   "execution_count": 11,
   "metadata": {},
   "outputs": [],
   "source": [
    "data.to_csv('pre2.csv', encoding='utf-8')"
   ]
  },
  {
   "cell_type": "code",
   "execution_count": 13,
   "metadata": {},
   "outputs": [],
   "source": [
    "from sklearn.preprocessing import StandardScaler\n",
    "from sklearn.preprocessing import MinMaxScaler\n",
    "from sklearn.preprocessing import RobustScaler"
   ]
  },
  {
   "cell_type": "code",
   "execution_count": 6,
   "metadata": {},
   "outputs": [],
   "source": [
    "d=pd.read_csv('/Users/Asus/Desktop/IDP/IDP_3-2 finals/Algorithm/Datasets/heart.csv')\n",
    "#Desktop/IDP/IDP_3-2 finals/Algorithm/Datasets/three.csv"
   ]
  },
  {
   "cell_type": "code",
   "execution_count": 7,
   "metadata": {},
   "outputs": [
    {
     "data": {
      "text/plain": [
       "1    165\n",
       "0    138\n",
       "Name: target, dtype: int64"
      ]
     },
     "execution_count": 7,
     "metadata": {},
     "output_type": "execute_result"
    }
   ],
   "source": [
    "d.target.value_counts()"
   ]
  },
  {
   "cell_type": "code",
   "execution_count": 8,
   "metadata": {},
   "outputs": [],
   "source": [
    "X = d.drop(['target'], axis=1)\n",
    "y = d['target']"
   ]
  },
  {
   "cell_type": "code",
   "execution_count": 9,
   "metadata": {},
   "outputs": [],
   "source": [
    "X_train, X_test, y_train, y_test =  train_test_split(X,y,test_size = 0.35, random_state=42)"
   ]
  },
  {
   "cell_type": "code",
   "execution_count": 10,
   "metadata": {},
   "outputs": [],
   "source": [
    "#X.to_csv('X_train.csv', encoding='utf-8')"
   ]
  },
  {
   "cell_type": "code",
   "execution_count": 52,
   "metadata": {},
   "outputs": [],
   "source": [
    "sc_X = StandardScaler()\n",
    "X_train = sc_X.fit_transform(X_train)\n",
    "X_test = sc_X.transform(X_test)"
   ]
  },
  {
   "cell_type": "code",
   "execution_count": 53,
   "metadata": {},
   "outputs": [
    {
     "name": "stdout",
     "output_type": "stream",
     "text": [
      "Accuracy: 0.87\n"
     ]
    }
   ],
   "source": [
    "classifier = KNeighborsClassifier(n_neighbors =17)\n",
    "classifier = classifier.fit(X_train,y_train)\n",
    "#prediction\n",
    "y_pred = classifier.predict(X_test)\n",
    "accuracy = metrics.accuracy_score(y_test, y_pred)\n",
    "print('Accuracy: {:.2f}'.format(accuracy))\n"
   ]
  },
  {
   "cell_type": "code",
   "execution_count": 129,
   "metadata": {},
   "outputs": [],
   "source": [
    "classifier_man = KNeighborsClassifier(n_neighbors =17, metric = 'minkowski', p = 1)\n",
    "classifier_man = classifier_man.fit(X_train,y_train)\n",
    "y_pred = classifier_man.predict(X_test)"
   ]
  },
  {
   "cell_type": "code",
   "execution_count": 130,
   "metadata": {},
   "outputs": [
    {
     "name": "stdout",
     "output_type": "stream",
     "text": [
      "Accuracy: 0.85\n"
     ]
    }
   ],
   "source": [
    "accuracy = metrics.accuracy_score(y_test, y_pred)\n",
    "print('Accuracy: {:.2f}'.format(accuracy))"
   ]
  },
  {
   "cell_type": "code",
   "execution_count": 56,
   "metadata": {},
   "outputs": [
    {
     "data": {
      "image/png": "[encoded data removed]",
      "text/plain": [
       "<Figure size 432x288 with 2 Axes>"
      ]
     },
     "metadata": {
      "needs_background": "light"
     },
     "output_type": "display_data"
    }
   ],
   "source": [
    "from sklearn.metrics import plot_confusion_matrix\n",
    "plot_confusion_matrix(classifier_man, X_test, y_test)  \n",
    "plt.show() "
   ]
  },
  {
   "cell_type": "code",
   "execution_count": 142,
   "metadata": {},
   "outputs": [],
   "source": [
    "from sklearn.preprocessing import StandardScaler\n",
    "from sklearn.preprocessing import MinMaxScaler\n",
    "from sklearn.preprocessing import RobustScaler\n",
    "from sklearn.metrics import accuracy_score\n",
    "from sklearn.model_selection import train_test_split\n",
    "from sklearn.metrics import roc_auc_score\n"
   ]
  },
  {
   "cell_type": "code",
   "execution_count": 143,
   "metadata": {},
   "outputs": [],
   "source": [
    "df_model = d.copy()#Rescaling features age, trestbps, chol, thalach, oldpeak.\n",
    "scaler =RobustScaler()\n",
    "features = [['age','trestbps', 'chol', 'thalach', 'oldpeak']]\n",
    "for feature in features:\n",
    "    df_model[feature] = scaler.fit_transform(df_model[feature])"
   ]
  },
  {
   "cell_type": "code",
   "execution_count": 144,
   "metadata": {},
   "outputs": [],
   "source": [
    "X = df_model.drop(['target'], axis=1)\n",
    "y = df_model['target']"
   ]
  },
  {
   "cell_type": "code",
   "execution_count": 145,
   "metadata": {},
   "outputs": [],
   "source": [
    "X_train, X_test, y_train, y_test =  train_test_split(X,y,test_size = 0.2, random_state=42)"
   ]
  },
  {
   "cell_type": "code",
   "execution_count": 154,
   "metadata": {},
   "outputs": [],
   "source": [
    "f_c = KNeighborsClassifier(n_neighbors =21, metric = 'manhattan', p = 1)\n",
    "f_c = f_c.fit(X_train,y_train)\n",
    "y_pred = f_c.predict(X_test)"
   ]
  },
  {
   "cell_type": "code",
   "execution_count": 155,
   "metadata": {},
   "outputs": [
    {
     "name": "stdout",
     "output_type": "stream",
     "text": [
      "0.8688524590163934\n"
     ]
    },
    {
     "data": {
      "text/plain": [
       "0.8701508620689655"
      ]
     },
     "execution_count": 155,
     "metadata": {},
     "output_type": "execute_result"
    }
   ],
   "source": [
    "print(accuracy_score(y_test, y_pred))\n",
    "roc_auc_score(y_test, y_pred)\n"
   ]
  },
  {
   "cell_type": "code",
   "execution_count": 156,
   "metadata": {},
   "outputs": [],
   "source": [
    "from sklearn.model_selection import cross_val_score\n",
    "knn_scores=[]\n",
    "for k in range(1,41):\n",
    "    f_c = KNeighborsClassifier(n_neighbors = k, metric = 'manhattan', p = 1)\n",
    "    score=cross_val_score(f_c,X,y,cv=10)\n",
    "    knn_scores.append(score.mean())"
   ]
  },
  {
   "cell_type": "code",
   "execution_count": 157,
   "metadata": {},
   "outputs": [
    {
     "data": {
      "text/plain": [
       "[0.712258064516129,\n",
       " 0.709247311827957,\n",
       " 0.775483870967742,\n",
       " 0.7491397849462366,\n",
       " 0.7850537634408602,\n",
       " 0.7651612903225807,\n",
       " 0.7782795698924732,\n",
       " 0.7520430107526882,\n",
       " 0.7850537634408603,\n",
       " 0.7651612903225806,\n",
       " 0.7786021505376344,\n",
       " 0.7620430107526881,\n",
       " 0.8017204301075269,\n",
       " 0.7621505376344085,\n",
       " 0.7853763440860215,\n",
       " 0.7689247311827957,\n",
       " 0.7853763440860215,\n",
       " 0.7819354838709678,\n",
       " 0.785483870967742,\n",
       " 0.7951612903225806,\n",
       " 0.7821505376344087,\n",
       " 0.7887096774193548,\n",
       " 0.7953763440860214,\n",
       " 0.7953763440860214,\n",
       " 0.7951612903225806,\n",
       " 0.7919354838709678,\n",
       " 0.7887096774193548,\n",
       " 0.7886021505376345,\n",
       " 0.7920430107526881,\n",
       " 0.7952688172043011,\n",
       " 0.785483870967742,\n",
       " 0.785483870967742,\n",
       " 0.7790322580645161,\n",
       " 0.7988172043010753,\n",
       " 0.7855913978494623,\n",
       " 0.7921505376344087,\n",
       " 0.792258064516129,\n",
       " 0.792258064516129,\n",
       " 0.7921505376344087,\n",
       " 0.7921505376344087]"
      ]
     },
     "execution_count": 157,
     "metadata": {},
     "output_type": "execute_result"
    }
   ],
   "source": [
    "knn_scores\n"
   ]
  },
  {
   "cell_type": "code",
   "execution_count": 93,
   "metadata": {},
   "outputs": [
    {
     "data": {
      "image/png": "[encoded data removed]",
      "text/plain": [
       "<Figure size 432x288 with 2 Axes>"
      ]
     },
     "metadata": {
      "needs_background": "light"
     },
     "output_type": "display_data"
    }
   ],
   "source": [
    "from sklearn.metrics import plot_confusion_matrix\n",
    "plot_confusion_matrix(f_c, X_test, y_test)  \n",
    "plt.show() "
   ]
  },
  {
   "cell_type": "code",
   "execution_count": 20,
   "metadata": {},
   "outputs": [],
   "source": [
    "#confusion matrix\n",
    "from sklearn.metrics import confusion_matrix\n",
    "cm = confusion_matrix(y_test, y_pred)"
   ]
  },
  {
   "cell_type": "code",
   "execution_count": 21,
   "metadata": {},
   "outputs": [
    {
     "data": {
      "text/plain": [
       "array([[79, 16,  4],\n",
       "       [23, 25,  7],\n",
       "       [15, 16, 17]], dtype=int64)"
      ]
     },
     "execution_count": 21,
     "metadata": {},
     "output_type": "execute_result"
    }
   ],
   "source": [
    "cm"
   ]
  },
  {
   "cell_type": "code",
   "execution_count": 45,
   "metadata": {},
   "outputs": [
    {
     "data": {
      "text/plain": [
       "0.7721505376344087"
      ]
     },
     "execution_count": 45,
     "metadata": {},
     "output_type": "execute_result"
    }
   ],
   "source": [
    "from sklearn.ensemble import RandomForestClassifier\n",
    "rf=RandomForestClassifier(n_estimators=21)\n",
    "rf = rf.fit(X_train,y_train)\n",
    "score=cross_val_score(rf,X,y,cv=10)\n",
    "score.mean()"
   ]
  },
  {
   "cell_type": "code",
   "execution_count": 34,
   "metadata": {},
   "outputs": [],
   "source": [
    "rf_scores=[]\n",
    "for k in range(1,30):\n",
    "    rf=RandomForestClassifier(n_estimators=k)\n",
    "    score=cross_val_score(rf,X,y,cv=10)\n",
    "    rf_scores.append(score.mean())"
   ]
  },
  {
   "cell_type": "code",
   "execution_count": 35,
   "metadata": {},
   "outputs": [
    {
     "data": {
      "text/plain": [
       "[0.6995698924731182,\n",
       " 0.6734408602150537,\n",
       " 0.738494623655914,\n",
       " 0.7329032258064517,\n",
       " 0.7090322580645161,\n",
       " 0.7491397849462367,\n",
       " 0.7529032258064516,\n",
       " 0.7389247311827957,\n",
       " 0.7658064516129033,\n",
       " 0.7888172043010753,\n",
       " 0.7589247311827958,\n",
       " 0.762258064516129,\n",
       " 0.749247311827957,\n",
       " 0.7852688172043012,\n",
       " 0.7917204301075269,\n",
       " 0.7690322580645162,\n",
       " 0.7787096774193548,\n",
       " 0.7823655913978496,\n",
       " 0.7523655913978494,\n",
       " 0.7721505376344087,\n",
       " 0.7687096774193549,\n",
       " 0.7618279569892473,\n",
       " 0.7820430107526881,\n",
       " 0.759247311827957,\n",
       " 0.7623655913978495,\n",
       " 0.7588172043010752,\n",
       " 0.785483870967742,\n",
       " 0.7886021505376344,\n",
       " 0.7654838709677418]"
      ]
     },
     "execution_count": 35,
     "metadata": {},
     "output_type": "execute_result"
    }
   ],
   "source": [
    "rf_scores"
   ]
  },
  {
   "cell_type": "code",
   "execution_count": 32,
   "metadata": {},
   "outputs": [
    {
     "data": {
      "image/png": "[encoded data removed]",
      "text/plain": [
       "<Figure size 432x288 with 2 Axes>"
      ]
     },
     "metadata": {
      "needs_background": "light"
     },
     "output_type": "display_data"
    }
   ],
   "source": [
    "from sklearn.metrics import plot_confusion_matrix\n",
    "plot_confusion_matrix(rf, X_test, y_test)  \n",
    "plt.show() "
   ]
  },
  {
   "cell_type": "code",
   "execution_count": 46,
   "metadata": {},
   "outputs": [
    {
     "name": "stdout",
     "output_type": "stream",
     "text": [
      "Accuracy: 0.84\n"
     ]
    },
    {
     "data": {
      "image/png": "[encoded data removed]",
      "text/plain": [
       "<Figure size 432x288 with 2 Axes>"
      ]
     },
     "metadata": {
      "needs_background": "light"
     },
     "output_type": "display_data"
    }
   ],
   "source": [
    "from sklearn.svm import SVC\n",
    "from sklearn.metrics import plot_confusion_matrix\n",
    "\n",
    "\n",
    "\n",
    "clf = SVC(random_state=0)\n",
    "clf.fit(X_train, y_train)\n",
    "\n",
    "y_pred = clf.predict(X_test)\n",
    "accuracy = metrics.accuracy_score(y_test, y_pred)\n",
    "print('Accuracy: {:.2f}'.format(accuracy))\n",
    "\n",
    "SVC(random_state=0)\n",
    "plot_confusion_matrix(clf, X_test, y_test)  \n",
    "plt.show() "
   ]
  },
  {
   "cell_type": "code",
   "execution_count": 87,
   "metadata": {},
   "outputs": [],
   "source": [
    "import pickle\n"
   ]
  },
  {
   "cell_type": "code",
   "execution_count": 88,
   "metadata": {},
   "outputs": [],
   "source": [
    "with open(\"model1_predictis\",'wb')as f:\n",
    "    pickle.dump(classifier,f)"
   ]
  },
  {
   "cell_type": "code",
   "execution_count": null,
   "metadata": {},
   "outputs": [],
   "source": []
  },
  {
   "cell_type": "code",
   "execution_count": null,
   "metadata": {},
   "outputs": [],
   "source": []
  }
 ],
 "metadata": {
  "kernelspec": {
   "display_name": "Python 3",
   "language": "python",
   "name": "python3"
  },
  "language_info": {
   "codemirror_mode": {
    "name": "ipython",
    "version": 3
   },
   "file_extension": ".py",
   "mimetype": "text/x-python",
   "name": "python",
   "nbconvert_exporter": "python",
   "pygments_lexer": "ipython3",
   "version": "3.8.5"
  }
 },
 "nbformat": 4,
 "nbformat_minor": 4
}
