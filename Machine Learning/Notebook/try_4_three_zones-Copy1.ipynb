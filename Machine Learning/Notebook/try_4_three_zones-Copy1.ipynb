{
 "cells": [
  {
   "cell_type": "code",
   "execution_count": 109,
   "metadata": {},
   "outputs": [],
   "source": [
    "import numpy as np\n",
    "import pandas as pd\n",
    "import matplotlib.pyplot as plt\n",
    "plt.rcParams[\"figure.figsize\"] = (12,6)\n",
    "import matplotlib as mpl\n",
    "import plotly.express as px\n",
    "import matplotlib.cm as cm\n",
    "import seaborn as sns\n",
    "sns.set_theme()\n",
    "import os"
   ]
  },
  {
   "cell_type": "code",
   "execution_count": 112,
   "metadata": {},
   "outputs": [],
   "source": [
    "from sklearn import preprocessing as pp\n",
    "from scipy.stats import pearsonr\n",
    "from sklearn.model_selection import train_test_split\n",
    "from sklearn.model_selection import StratifiedKFold\n",
    "from sklearn.metrics import log_loss\n",
    "from sklearn.metrics import precision_recall_curve, average_precision_score\n",
    "from sklearn.metrics import roc_curve, auc, roc_auc_score\n",
    "from sklearn.metrics import confusion_matrix, classification_report, accuracy_score\n",
    "from sklearn.model_selection import GridSearchCV\n",
    "from sklearn.metrics import mean_squared_error"
   ]
  },
  {
   "cell_type": "code",
   "execution_count": 3,
   "metadata": {},
   "outputs": [
    {
     "name": "stdout",
     "output_type": "stream",
     "text": [
      "    age  sex   cp trestbps chol fbs restecg thalach exang oldpeak slope   ca  \\\n",
      "0  63.0  1.0  1.0      145  233   1       2     150     0     2.3     3  0.0   \n",
      "1  67.0  1.0  4.0      160  286   0       2     108     1     1.5     2  3.0   \n",
      "2  67.0  1.0  4.0      120  229   0       2     129     1     2.6     2  2.0   \n",
      "3  37.0  1.0  3.0      130  250   0       0     187     0     3.5     3  0.0   \n",
      "4  41.0  0.0  2.0      130  204   0       2     172     0     1.4     1  0.0   \n",
      "\n",
      "  thal  num  \n",
      "0  6.0    0  \n",
      "1  3.0    2  \n",
      "2  7.0    1  \n",
      "3  3.0    0  \n",
      "4  3.0    0  \n"
     ]
    }
   ],
   "source": [
    "column_names = [\"age\", \"sex\", \"cp\",\"trestbps\",\"chol\",\"fbs\",\"restecg\",\"thalach\",\"exang\",\"oldpeak\",\"slope\",\"ca\",\"thal\",\"num\"]\n",
    "data_list =[]\n",
    "\n",
    "df1 = pd.read_csv(\"/Users/Asus/Desktop/IDP/IDP_3-2 finals/Algorithm/UCI original/processed.cleveland.data\", names = column_names)\n",
    "df2 = pd.read_csv(\"/Users/Asus/Desktop/IDP/IDP_3-2 finals/Algorithm/UCI original/processed.hungarian.data\", names = column_names)\n",
    "df3 = pd.read_csv(\"/Users/Asus/Desktop/IDP/IDP_3-2 finals/Algorithm/UCI original/processed.switzerland.data\", names = column_names)\n",
    "df4 = pd.read_csv(\"/Users/Asus/Desktop/IDP/IDP_3-2 finals/Algorithm/UCI original/processed.va.data\", names = column_names)\n",
    "\n",
    "\n",
    "df1_1= df1.append(df2)\n",
    "df2_2= df3.append(df4)\n",
    "\n",
    "df_final= df1_1.append(df2_2)\n",
    "\n",
    "\n",
    "print(df_final.head())"
   ]
  },
  {
   "cell_type": "code",
   "execution_count": null,
   "metadata": {},
   "outputs": [],
   "source": []
  },
  {
   "cell_type": "code",
   "execution_count": 4,
   "metadata": {},
   "outputs": [
    {
     "name": "stdout",
     "output_type": "stream",
     "text": [
      "<class 'pandas.core.frame.DataFrame'>\n",
      "Int64Index: 920 entries, 0 to 199\n",
      "Data columns (total 14 columns):\n",
      " #   Column    Non-Null Count  Dtype  \n",
      "---  ------    --------------  -----  \n",
      " 0   age       920 non-null    float64\n",
      " 1   sex       920 non-null    float64\n",
      " 2   cp        920 non-null    float64\n",
      " 3   trestbps  920 non-null    object \n",
      " 4   chol      920 non-null    object \n",
      " 5   fbs       920 non-null    object \n",
      " 6   restecg   920 non-null    object \n",
      " 7   thalach   920 non-null    object \n",
      " 8   exang     920 non-null    object \n",
      " 9   oldpeak   920 non-null    object \n",
      " 10  slope     920 non-null    object \n",
      " 11  ca        920 non-null    object \n",
      " 12  thal      920 non-null    object \n",
      " 13  num       920 non-null    int64  \n",
      "dtypes: float64(3), int64(1), object(10)\n",
      "memory usage: 107.8+ KB\n",
      "None\n",
      "(920, 14)\n"
     ]
    }
   ],
   "source": [
    "print(df_final.info())\n",
    "print(df_final.shape)"
   ]
  },
  {
   "cell_type": "code",
   "execution_count": 5,
   "metadata": {},
   "outputs": [
    {
     "name": "stdout",
     "output_type": "stream",
     "text": [
      "              age         sex          cp         num\n",
      "count  920.000000  920.000000  920.000000  920.000000\n",
      "mean    53.510870    0.789130    3.250000    0.995652\n",
      "std      9.424685    0.408148    0.930969    1.142693\n",
      "min     28.000000    0.000000    1.000000    0.000000\n",
      "25%     47.000000    1.000000    3.000000    0.000000\n",
      "50%     54.000000    1.000000    4.000000    1.000000\n",
      "75%     60.000000    1.000000    4.000000    2.000000\n",
      "max     77.000000    1.000000    4.000000    4.000000\n"
     ]
    }
   ],
   "source": [
    "print(df_final.describe())"
   ]
  },
  {
   "cell_type": "code",
   "execution_count": 7,
   "metadata": {},
   "outputs": [],
   "source": [
    "df_final.to_csv('multi2.csv', encoding='utf-8')"
   ]
  },
  {
   "cell_type": "code",
   "execution_count": 8,
   "metadata": {},
   "outputs": [],
   "source": [
    "import numpy as np\n",
    "import matplotlib.pyplot as plt \n",
    "import pandas as pd\n",
    "import seaborn as sns\n",
    "from sklearn.model_selection import train_test_split\n",
    "from sklearn.preprocessing import StandardScaler\n",
    "from sklearn.neighbors import KNeighborsClassifier\n",
    "from sklearn.metrics import confusion_matrix\n",
    "from sklearn import metrics"
   ]
  },
  {
   "cell_type": "code",
   "execution_count": 19,
   "metadata": {},
   "outputs": [],
   "source": [
    "#\"trestbps\",\"chol\",\"fbs\",\"restecg\",\"thalach\",\"exang\",\"oldpeak\",\"slope\",\"ca\",\"thal\"\n",
    "\n",
    "\n",
    "dataframe=pd.read_csv('multi2.csv')\n",
    "index_invalid_ca = dataframe[dataframe.ca == '?'].index\n",
    "dataframe.drop(index_invalid_ca, inplace = True)\n",
    "dataframe.ca = pd.to_numeric(dataframe.ca, downcast = 'float')\n",
    "\n",
    "index_invalid_thal = dataframe[dataframe.thal == '?'].index\n",
    "dataframe.drop(index_invalid_thal, inplace = True)\n",
    "dataframe.thal = pd.to_numeric(dataframe.thal, downcast = 'float')\n"
   ]
  },
  {
   "cell_type": "code",
   "execution_count": 20,
   "metadata": {},
   "outputs": [
    {
     "name": "stdout",
     "output_type": "stream",
     "text": [
      "<class 'pandas.core.frame.DataFrame'>\n",
      "Int64Index: 299 entries, 0 to 748\n",
      "Data columns (total 14 columns):\n",
      " #   Column    Non-Null Count  Dtype  \n",
      "---  ------    --------------  -----  \n",
      " 0   age       299 non-null    int64  \n",
      " 1   sex       299 non-null    int64  \n",
      " 2   cp        299 non-null    int64  \n",
      " 3   trestbps  299 non-null    object \n",
      " 4   chol      299 non-null    object \n",
      " 5   fbs       299 non-null    object \n",
      " 6   restecg   299 non-null    object \n",
      " 7   thalach   299 non-null    object \n",
      " 8   exang     299 non-null    object \n",
      " 9   oldpeak   299 non-null    object \n",
      " 10  slope     299 non-null    object \n",
      " 11  ca        299 non-null    float32\n",
      " 12  thal      299 non-null    float32\n",
      " 13  num       299 non-null    int64  \n",
      "dtypes: float32(2), int64(4), object(8)\n",
      "memory usage: 32.7+ KB\n"
     ]
    }
   ],
   "source": [
    "dataframe.info()"
   ]
  },
  {
   "cell_type": "code",
   "execution_count": 23,
   "metadata": {},
   "outputs": [],
   "source": [
    "dataframe.to_csv('pre10.csv', encoding='utf-8')"
   ]
  },
  {
   "cell_type": "code",
   "execution_count": 73,
   "metadata": {},
   "outputs": [
    {
     "name": "stdout",
     "output_type": "stream",
     "text": [
      "              age        sex          cp    trestbps        chol         fbs  \\\n",
      "count  299.000000  299.00000  299.000000  299.000000  299.000000  299.000000   \n",
      "mean    54.521739    0.67893    3.163880  131.715719  246.785953    0.143813   \n",
      "std      9.030264    0.46767    0.964069   17.747751   52.532582    0.351488   \n",
      "min     29.000000    0.00000    1.000000   94.000000  100.000000    0.000000   \n",
      "25%     48.000000    0.00000    3.000000  120.000000  211.000000    0.000000   \n",
      "50%     56.000000    1.00000    3.000000  130.000000  242.000000    0.000000   \n",
      "75%     61.000000    1.00000    4.000000  140.000000  275.500000    0.000000   \n",
      "max     77.000000    1.00000    4.000000  200.000000  564.000000    1.000000   \n",
      "\n",
      "          restecg     thalach       exang     oldpeak       slope         num  \n",
      "count  299.000000  299.000000  299.000000  299.000000  299.000000  299.000000  \n",
      "mean     0.989967  149.327759    0.331104    1.058528    1.605351    0.946488  \n",
      "std      0.994903   23.121062    0.471399    1.162769    0.616962    1.230409  \n",
      "min      0.000000   71.000000    0.000000    0.000000    1.000000    0.000000  \n",
      "25%      0.000000  132.500000    0.000000    0.000000    1.000000    0.000000  \n",
      "50%      1.000000  152.000000    0.000000    0.800000    2.000000    0.000000  \n",
      "75%      2.000000  165.500000    1.000000    1.600000    2.000000    2.000000  \n",
      "max      2.000000  202.000000    1.000000    6.200000    3.000000    4.000000  \n",
      "<class 'pandas.core.frame.DataFrame'>\n",
      "Int64Index: 299 entries, 0 to 748\n",
      "Data columns (total 12 columns):\n",
      " #   Column    Non-Null Count  Dtype  \n",
      "---  ------    --------------  -----  \n",
      " 0   age       299 non-null    int64  \n",
      " 1   sex       299 non-null    int64  \n",
      " 2   cp        299 non-null    int64  \n",
      " 3   trestbps  299 non-null    int64  \n",
      " 4   chol      299 non-null    int64  \n",
      " 5   fbs       299 non-null    int64  \n",
      " 6   restecg   299 non-null    int64  \n",
      " 7   thalach   299 non-null    int64  \n",
      " 8   exang     299 non-null    int64  \n",
      " 9   oldpeak   299 non-null    float64\n",
      " 10  slope     299 non-null    int64  \n",
      " 11  num       299 non-null    int64  \n",
      "dtypes: float64(1), int64(11)\n",
      "memory usage: 30.4 KB\n"
     ]
    }
   ],
   "source": [
    "\n",
    "dataframe=pd.read_csv('pre10.csv',index_col=0)\n",
    "print(dataframe.describe())\n",
    "dataframe.num.value_counts()\n",
    "dataframe.info()"
   ]
  },
  {
   "cell_type": "code",
   "execution_count": 74,
   "metadata": {},
   "outputs": [],
   "source": [
    "#data.to_csv('three.csv', encoding='utf-8')"
   ]
  },
  {
   "cell_type": "code",
   "execution_count": 75,
   "metadata": {},
   "outputs": [
    {
     "data": {
      "image/png": "[encoded data removed]",
      "text/plain": [
       "<Figure size 864x576 with 2 Axes>"
      ]
     },
     "metadata": {
      "needs_background": "light"
     },
     "output_type": "display_data"
    }
   ],
   "source": [
    "correlationMatrix = dataframe.corr() \n",
    "\n",
    "f = plt.figure(figsize=(12, 8))\n",
    "plt.matshow(correlationMatrix, fignum=f.number, cmap='viridis')\n",
    "plt.xticks(range(dataframe.shape[1]), dataframe.columns, fontsize=15, rotation=65)\n",
    "plt.yticks(range(dataframe.shape[1]), dataframe.columns, fontsize=15)\n",
    "cb = plt.colorbar()\n",
    "cb.ax.tick_params(labelsize=15)\n",
    "plt.show()"
   ]
  },
  {
   "cell_type": "code",
   "execution_count": 76,
   "metadata": {},
   "outputs": [
    {
     "data": {
      "text/html": [
       "<style  type=\"text/css\" >\n",
       "#T_3630d243_a84b_11eb_a1de_93dea7a75026row0_col0,#T_3630d243_a84b_11eb_a1de_93dea7a75026row1_col1,#T_3630d243_a84b_11eb_a1de_93dea7a75026row2_col2,#T_3630d243_a84b_11eb_a1de_93dea7a75026row3_col3,#T_3630d243_a84b_11eb_a1de_93dea7a75026row4_col4,#T_3630d243_a84b_11eb_a1de_93dea7a75026row5_col5,#T_3630d243_a84b_11eb_a1de_93dea7a75026row6_col6,#T_3630d243_a84b_11eb_a1de_93dea7a75026row7_col7,#T_3630d243_a84b_11eb_a1de_93dea7a75026row8_col8,#T_3630d243_a84b_11eb_a1de_93dea7a75026row9_col9,#T_3630d243_a84b_11eb_a1de_93dea7a75026row10_col10,#T_3630d243_a84b_11eb_a1de_93dea7a75026row11_col11{\n",
       "            background-color:  #fde725;\n",
       "            color:  #000000;\n",
       "        }#T_3630d243_a84b_11eb_a1de_93dea7a75026row0_col1,#T_3630d243_a84b_11eb_a1de_93dea7a75026row1_col5{\n",
       "            background-color:  #482173;\n",
       "            color:  #f1f1f1;\n",
       "        }#T_3630d243_a84b_11eb_a1de_93dea7a75026row0_col2,#T_3630d243_a84b_11eb_a1de_93dea7a75026row1_col9{\n",
       "            background-color:  #30698e;\n",
       "            color:  #f1f1f1;\n",
       "        }#T_3630d243_a84b_11eb_a1de_93dea7a75026row0_col3,#T_3630d243_a84b_11eb_a1de_93dea7a75026row3_col8,#T_3630d243_a84b_11eb_a1de_93dea7a75026row5_col11{\n",
       "            background-color:  #31678e;\n",
       "            color:  #f1f1f1;\n",
       "        }#T_3630d243_a84b_11eb_a1de_93dea7a75026row0_col4,#T_3630d243_a84b_11eb_a1de_93dea7a75026row6_col8{\n",
       "            background-color:  #31688e;\n",
       "            color:  #f1f1f1;\n",
       "        }#T_3630d243_a84b_11eb_a1de_93dea7a75026row0_col5,#T_3630d243_a84b_11eb_a1de_93dea7a75026row5_col4,#T_3630d243_a84b_11eb_a1de_93dea7a75026row7_col4{\n",
       "            background-color:  #433e85;\n",
       "            color:  #f1f1f1;\n",
       "        }#T_3630d243_a84b_11eb_a1de_93dea7a75026row0_col6,#T_3630d243_a84b_11eb_a1de_93dea7a75026row5_col1,#T_3630d243_a84b_11eb_a1de_93dea7a75026row9_col4,#T_3630d243_a84b_11eb_a1de_93dea7a75026row10_col1{\n",
       "            background-color:  #414287;\n",
       "            color:  #f1f1f1;\n",
       "        }#T_3630d243_a84b_11eb_a1de_93dea7a75026row0_col7{\n",
       "            background-color:  #46085c;\n",
       "            color:  #f1f1f1;\n",
       "        }#T_3630d243_a84b_11eb_a1de_93dea7a75026row0_col8{\n",
       "            background-color:  #2f6c8e;\n",
       "            color:  #f1f1f1;\n",
       "        }#T_3630d243_a84b_11eb_a1de_93dea7a75026row0_col9{\n",
       "            background-color:  #29798e;\n",
       "            color:  #000000;\n",
       "        }#T_3630d243_a84b_11eb_a1de_93dea7a75026row0_col10{\n",
       "            background-color:  #2a778e;\n",
       "            color:  #000000;\n",
       "        }#T_3630d243_a84b_11eb_a1de_93dea7a75026row0_col11{\n",
       "            background-color:  #25848e;\n",
       "            color:  #000000;\n",
       "        }#T_3630d243_a84b_11eb_a1de_93dea7a75026row1_col0,#T_3630d243_a84b_11eb_a1de_93dea7a75026row11_col3{\n",
       "            background-color:  #404688;\n",
       "            color:  #f1f1f1;\n",
       "        }#T_3630d243_a84b_11eb_a1de_93dea7a75026row1_col2{\n",
       "            background-color:  #39568c;\n",
       "            color:  #f1f1f1;\n",
       "        }#T_3630d243_a84b_11eb_a1de_93dea7a75026row1_col3,#T_3630d243_a84b_11eb_a1de_93dea7a75026row1_col4,#T_3630d243_a84b_11eb_a1de_93dea7a75026row2_col5,#T_3630d243_a84b_11eb_a1de_93dea7a75026row4_col1,#T_3630d243_a84b_11eb_a1de_93dea7a75026row7_col0,#T_3630d243_a84b_11eb_a1de_93dea7a75026row7_col2,#T_3630d243_a84b_11eb_a1de_93dea7a75026row7_col6,#T_3630d243_a84b_11eb_a1de_93dea7a75026row7_col8,#T_3630d243_a84b_11eb_a1de_93dea7a75026row7_col9,#T_3630d243_a84b_11eb_a1de_93dea7a75026row7_col10,#T_3630d243_a84b_11eb_a1de_93dea7a75026row7_col11,#T_3630d243_a84b_11eb_a1de_93dea7a75026row11_col7{\n",
       "            background-color:  #440154;\n",
       "            color:  #f1f1f1;\n",
       "        }#T_3630d243_a84b_11eb_a1de_93dea7a75026row1_col6{\n",
       "            background-color:  #481f70;\n",
       "            color:  #f1f1f1;\n",
       "        }#T_3630d243_a84b_11eb_a1de_93dea7a75026row1_col7{\n",
       "            background-color:  #3b518b;\n",
       "            color:  #f1f1f1;\n",
       "        }#T_3630d243_a84b_11eb_a1de_93dea7a75026row1_col8,#T_3630d243_a84b_11eb_a1de_93dea7a75026row6_col0{\n",
       "            background-color:  #2b758e;\n",
       "            color:  #f1f1f1;\n",
       "        }#T_3630d243_a84b_11eb_a1de_93dea7a75026row1_col10{\n",
       "            background-color:  #34618d;\n",
       "            color:  #f1f1f1;\n",
       "        }#T_3630d243_a84b_11eb_a1de_93dea7a75026row1_col11{\n",
       "            background-color:  #25858e;\n",
       "            color:  #000000;\n",
       "        }#T_3630d243_a84b_11eb_a1de_93dea7a75026row2_col0,#T_3630d243_a84b_11eb_a1de_93dea7a75026row11_col1{\n",
       "            background-color:  #2e6e8e;\n",
       "            color:  #f1f1f1;\n",
       "        }#T_3630d243_a84b_11eb_a1de_93dea7a75026row2_col1,#T_3630d243_a84b_11eb_a1de_93dea7a75026row10_col6{\n",
       "            background-color:  #433d84;\n",
       "            color:  #f1f1f1;\n",
       "        }#T_3630d243_a84b_11eb_a1de_93dea7a75026row2_col3{\n",
       "            background-color:  #460b5e;\n",
       "            color:  #f1f1f1;\n",
       "        }#T_3630d243_a84b_11eb_a1de_93dea7a75026row2_col4,#T_3630d243_a84b_11eb_a1de_93dea7a75026row4_col6,#T_3630d243_a84b_11eb_a1de_93dea7a75026row11_col4{\n",
       "            background-color:  #3e4989;\n",
       "            color:  #f1f1f1;\n",
       "        }#T_3630d243_a84b_11eb_a1de_93dea7a75026row2_col6,#T_3630d243_a84b_11eb_a1de_93dea7a75026row7_col1{\n",
       "            background-color:  #482878;\n",
       "            color:  #f1f1f1;\n",
       "        }#T_3630d243_a84b_11eb_a1de_93dea7a75026row2_col7,#T_3630d243_a84b_11eb_a1de_93dea7a75026row9_col7{\n",
       "            background-color:  #471365;\n",
       "            color:  #f1f1f1;\n",
       "        }#T_3630d243_a84b_11eb_a1de_93dea7a75026row2_col8,#T_3630d243_a84b_11eb_a1de_93dea7a75026row10_col11,#T_3630d243_a84b_11eb_a1de_93dea7a75026row11_col2{\n",
       "            background-color:  #1f9e89;\n",
       "            color:  #000000;\n",
       "        }#T_3630d243_a84b_11eb_a1de_93dea7a75026row2_col9{\n",
       "            background-color:  #297b8e;\n",
       "            color:  #000000;\n",
       "        }#T_3630d243_a84b_11eb_a1de_93dea7a75026row2_col10,#T_3630d243_a84b_11eb_a1de_93dea7a75026row10_col0{\n",
       "            background-color:  #2a768e;\n",
       "            color:  #f1f1f1;\n",
       "        }#T_3630d243_a84b_11eb_a1de_93dea7a75026row2_col11{\n",
       "            background-color:  #20a386;\n",
       "            color:  #000000;\n",
       "        }#T_3630d243_a84b_11eb_a1de_93dea7a75026row3_col0{\n",
       "            background-color:  #228c8d;\n",
       "            color:  #000000;\n",
       "        }#T_3630d243_a84b_11eb_a1de_93dea7a75026row3_col1{\n",
       "            background-color:  #482979;\n",
       "            color:  #f1f1f1;\n",
       "        }#T_3630d243_a84b_11eb_a1de_93dea7a75026row3_col2,#T_3630d243_a84b_11eb_a1de_93dea7a75026row5_col3,#T_3630d243_a84b_11eb_a1de_93dea7a75026row11_col6{\n",
       "            background-color:  #3e4c8a;\n",
       "            color:  #f1f1f1;\n",
       "        }#T_3630d243_a84b_11eb_a1de_93dea7a75026row3_col4,#T_3630d243_a84b_11eb_a1de_93dea7a75026row5_col8{\n",
       "            background-color:  #375a8c;\n",
       "            color:  #f1f1f1;\n",
       "        }#T_3630d243_a84b_11eb_a1de_93dea7a75026row3_col5{\n",
       "            background-color:  #3e4a89;\n",
       "            color:  #f1f1f1;\n",
       "        }#T_3630d243_a84b_11eb_a1de_93dea7a75026row3_col6,#T_3630d243_a84b_11eb_a1de_93dea7a75026row6_col1{\n",
       "            background-color:  #424186;\n",
       "            color:  #f1f1f1;\n",
       "        }#T_3630d243_a84b_11eb_a1de_93dea7a75026row3_col7{\n",
       "            background-color:  #3a538b;\n",
       "            color:  #f1f1f1;\n",
       "        }#T_3630d243_a84b_11eb_a1de_93dea7a75026row3_col9{\n",
       "            background-color:  #2a788e;\n",
       "            color:  #000000;\n",
       "        }#T_3630d243_a84b_11eb_a1de_93dea7a75026row3_col10{\n",
       "            background-color:  #2d718e;\n",
       "            color:  #f1f1f1;\n",
       "        }#T_3630d243_a84b_11eb_a1de_93dea7a75026row3_col11,#T_3630d243_a84b_11eb_a1de_93dea7a75026row9_col2{\n",
       "            background-color:  #297a8e;\n",
       "            color:  #000000;\n",
       "        }#T_3630d243_a84b_11eb_a1de_93dea7a75026row4_col0,#T_3630d243_a84b_11eb_a1de_93dea7a75026row9_col0{\n",
       "            background-color:  #287d8e;\n",
       "            color:  #000000;\n",
       "        }#T_3630d243_a84b_11eb_a1de_93dea7a75026row4_col2,#T_3630d243_a84b_11eb_a1de_93dea7a75026row4_col7{\n",
       "            background-color:  #34608d;\n",
       "            color:  #f1f1f1;\n",
       "        }#T_3630d243_a84b_11eb_a1de_93dea7a75026row4_col3{\n",
       "            background-color:  #423f85;\n",
       "            color:  #f1f1f1;\n",
       "        }#T_3630d243_a84b_11eb_a1de_93dea7a75026row4_col5{\n",
       "            background-color:  #481b6d;\n",
       "            color:  #f1f1f1;\n",
       "        }#T_3630d243_a84b_11eb_a1de_93dea7a75026row4_col8,#T_3630d243_a84b_11eb_a1de_93dea7a75026row5_col10{\n",
       "            background-color:  #33638d;\n",
       "            color:  #f1f1f1;\n",
       "        }#T_3630d243_a84b_11eb_a1de_93dea7a75026row4_col9{\n",
       "            background-color:  #375b8d;\n",
       "            color:  #f1f1f1;\n",
       "        }#T_3630d243_a84b_11eb_a1de_93dea7a75026row4_col10{\n",
       "            background-color:  #38588c;\n",
       "            color:  #f1f1f1;\n",
       "        }#T_3630d243_a84b_11eb_a1de_93dea7a75026row4_col11,#T_3630d243_a84b_11eb_a1de_93dea7a75026row6_col9{\n",
       "            background-color:  #306a8e;\n",
       "            color:  #f1f1f1;\n",
       "        }#T_3630d243_a84b_11eb_a1de_93dea7a75026row5_col0,#T_3630d243_a84b_11eb_a1de_93dea7a75026row10_col2{\n",
       "            background-color:  #2c718e;\n",
       "            color:  #f1f1f1;\n",
       "        }#T_3630d243_a84b_11eb_a1de_93dea7a75026row5_col2{\n",
       "            background-color:  #3f4788;\n",
       "            color:  #f1f1f1;\n",
       "        }#T_3630d243_a84b_11eb_a1de_93dea7a75026row5_col6,#T_3630d243_a84b_11eb_a1de_93dea7a75026row6_col5,#T_3630d243_a84b_11eb_a1de_93dea7a75026row8_col3,#T_3630d243_a84b_11eb_a1de_93dea7a75026row8_col6{\n",
       "            background-color:  #472c7a;\n",
       "            color:  #f1f1f1;\n",
       "        }#T_3630d243_a84b_11eb_a1de_93dea7a75026row5_col7,#T_3630d243_a84b_11eb_a1de_93dea7a75026row8_col1{\n",
       "            background-color:  #365d8d;\n",
       "            color:  #f1f1f1;\n",
       "        }#T_3630d243_a84b_11eb_a1de_93dea7a75026row5_col9{\n",
       "            background-color:  #39558c;\n",
       "            color:  #f1f1f1;\n",
       "        }#T_3630d243_a84b_11eb_a1de_93dea7a75026row6_col2{\n",
       "            background-color:  #355f8d;\n",
       "            color:  #f1f1f1;\n",
       "        }#T_3630d243_a84b_11eb_a1de_93dea7a75026row6_col3{\n",
       "            background-color:  #414487;\n",
       "            color:  #f1f1f1;\n",
       "        }#T_3630d243_a84b_11eb_a1de_93dea7a75026row6_col4{\n",
       "            background-color:  #33628d;\n",
       "            color:  #f1f1f1;\n",
       "        }#T_3630d243_a84b_11eb_a1de_93dea7a75026row6_col7{\n",
       "            background-color:  #3b528b;\n",
       "            color:  #f1f1f1;\n",
       "        }#T_3630d243_a84b_11eb_a1de_93dea7a75026row6_col10{\n",
       "            background-color:  #2c728e;\n",
       "            color:  #f1f1f1;\n",
       "        }#T_3630d243_a84b_11eb_a1de_93dea7a75026row6_col11{\n",
       "            background-color:  #277e8e;\n",
       "            color:  #000000;\n",
       "        }#T_3630d243_a84b_11eb_a1de_93dea7a75026row7_col3{\n",
       "            background-color:  #450457;\n",
       "            color:  #f1f1f1;\n",
       "        }#T_3630d243_a84b_11eb_a1de_93dea7a75026row7_col5,#T_3630d243_a84b_11eb_a1de_93dea7a75026row8_col5{\n",
       "            background-color:  #481467;\n",
       "            color:  #f1f1f1;\n",
       "        }#T_3630d243_a84b_11eb_a1de_93dea7a75026row8_col0{\n",
       "            background-color:  #2f6b8e;\n",
       "            color:  #f1f1f1;\n",
       "        }#T_3630d243_a84b_11eb_a1de_93dea7a75026row8_col2{\n",
       "            background-color:  #1f9a8a;\n",
       "            color:  #000000;\n",
       "        }#T_3630d243_a84b_11eb_a1de_93dea7a75026row8_col4{\n",
       "            background-color:  #404588;\n",
       "            color:  #f1f1f1;\n",
       "        }#T_3630d243_a84b_11eb_a1de_93dea7a75026row8_col7,#T_3630d243_a84b_11eb_a1de_93dea7a75026row10_col7{\n",
       "            background-color:  #46075a;\n",
       "            color:  #f1f1f1;\n",
       "        }#T_3630d243_a84b_11eb_a1de_93dea7a75026row8_col9{\n",
       "            background-color:  #238a8d;\n",
       "            color:  #000000;\n",
       "        }#T_3630d243_a84b_11eb_a1de_93dea7a75026row8_col10{\n",
       "            background-color:  #24878e;\n",
       "            color:  #000000;\n",
       "        }#T_3630d243_a84b_11eb_a1de_93dea7a75026row8_col11{\n",
       "            background-color:  #1fa188;\n",
       "            color:  #000000;\n",
       "        }#T_3630d243_a84b_11eb_a1de_93dea7a75026row9_col1{\n",
       "            background-color:  #3a548c;\n",
       "            color:  #f1f1f1;\n",
       "        }#T_3630d243_a84b_11eb_a1de_93dea7a75026row9_col3{\n",
       "            background-color:  #3c4f8a;\n",
       "            color:  #f1f1f1;\n",
       "        }#T_3630d243_a84b_11eb_a1de_93dea7a75026row9_col5{\n",
       "            background-color:  #48186a;\n",
       "            color:  #f1f1f1;\n",
       "        }#T_3630d243_a84b_11eb_a1de_93dea7a75026row9_col6{\n",
       "            background-color:  #453882;\n",
       "            color:  #f1f1f1;\n",
       "        }#T_3630d243_a84b_11eb_a1de_93dea7a75026row9_col8{\n",
       "            background-color:  #218e8d;\n",
       "            color:  #000000;\n",
       "        }#T_3630d243_a84b_11eb_a1de_93dea7a75026row9_col10{\n",
       "            background-color:  #42be71;\n",
       "            color:  #000000;\n",
       "        }#T_3630d243_a84b_11eb_a1de_93dea7a75026row9_col11{\n",
       "            background-color:  #2eb37c;\n",
       "            color:  #000000;\n",
       "        }#T_3630d243_a84b_11eb_a1de_93dea7a75026row10_col3{\n",
       "            background-color:  #443b84;\n",
       "            color:  #f1f1f1;\n",
       "        }#T_3630d243_a84b_11eb_a1de_93dea7a75026row10_col4{\n",
       "            background-color:  #453581;\n",
       "            color:  #f1f1f1;\n",
       "        }#T_3630d243_a84b_11eb_a1de_93dea7a75026row10_col5{\n",
       "            background-color:  #482475;\n",
       "            color:  #f1f1f1;\n",
       "        }#T_3630d243_a84b_11eb_a1de_93dea7a75026row10_col8{\n",
       "            background-color:  #23888e;\n",
       "            color:  #000000;\n",
       "        }#T_3630d243_a84b_11eb_a1de_93dea7a75026row10_col9{\n",
       "            background-color:  #3fbc73;\n",
       "            color:  #000000;\n",
       "        }#T_3630d243_a84b_11eb_a1de_93dea7a75026row11_col0{\n",
       "            background-color:  #26828e;\n",
       "            color:  #000000;\n",
       "        }#T_3630d243_a84b_11eb_a1de_93dea7a75026row11_col5{\n",
       "            background-color:  #482576;\n",
       "            color:  #f1f1f1;\n",
       "        }#T_3630d243_a84b_11eb_a1de_93dea7a75026row11_col8{\n",
       "            background-color:  #1f9f88;\n",
       "            color:  #000000;\n",
       "        }#T_3630d243_a84b_11eb_a1de_93dea7a75026row11_col9{\n",
       "            background-color:  #29af7f;\n",
       "            color:  #000000;\n",
       "        }#T_3630d243_a84b_11eb_a1de_93dea7a75026row11_col10{\n",
       "            background-color:  #1e9c89;\n",
       "            color:  #000000;\n",
       "        }</style><table id=\"T_3630d243_a84b_11eb_a1de_93dea7a75026\" ><thead>    <tr>        <th class=\"blank level0\" ></th>        <th class=\"col_heading level0 col0\" >age</th>        <th class=\"col_heading level0 col1\" >sex</th>        <th class=\"col_heading level0 col2\" >cp</th>        <th class=\"col_heading level0 col3\" >trestbps</th>        <th class=\"col_heading level0 col4\" >chol</th>        <th class=\"col_heading level0 col5\" >fbs</th>        <th class=\"col_heading level0 col6\" >restecg</th>        <th class=\"col_heading level0 col7\" >thalach</th>        <th class=\"col_heading level0 col8\" >exang</th>        <th class=\"col_heading level0 col9\" >oldpeak</th>        <th class=\"col_heading level0 col10\" >slope</th>        <th class=\"col_heading level0 col11\" >num</th>    </tr></thead><tbody>\n",
       "                <tr>\n",
       "                        <th id=\"T_3630d243_a84b_11eb_a1de_93dea7a75026level0_row0\" class=\"row_heading level0 row0\" >age</th>\n",
       "                        <td id=\"T_3630d243_a84b_11eb_a1de_93dea7a75026row0_col0\" class=\"data row0 col0\" >1.00</td>\n",
       "                        <td id=\"T_3630d243_a84b_11eb_a1de_93dea7a75026row0_col1\" class=\"data row0 col1\" >-0.09</td>\n",
       "                        <td id=\"T_3630d243_a84b_11eb_a1de_93dea7a75026row0_col2\" class=\"data row0 col2\" >0.11</td>\n",
       "                        <td id=\"T_3630d243_a84b_11eb_a1de_93dea7a75026row0_col3\" class=\"data row0 col3\" >0.29</td>\n",
       "                        <td id=\"T_3630d243_a84b_11eb_a1de_93dea7a75026row0_col4\" class=\"data row0 col4\" >0.20</td>\n",
       "                        <td id=\"T_3630d243_a84b_11eb_a1de_93dea7a75026row0_col5\" class=\"data row0 col5\" >0.13</td>\n",
       "                        <td id=\"T_3630d243_a84b_11eb_a1de_93dea7a75026row0_col6\" class=\"data row0 col6\" >0.15</td>\n",
       "                        <td id=\"T_3630d243_a84b_11eb_a1de_93dea7a75026row0_col7\" class=\"data row0 col7\" >-0.38</td>\n",
       "                        <td id=\"T_3630d243_a84b_11eb_a1de_93dea7a75026row0_col8\" class=\"data row0 col8\" >0.09</td>\n",
       "                        <td id=\"T_3630d243_a84b_11eb_a1de_93dea7a75026row0_col9\" class=\"data row0 col9\" >0.20</td>\n",
       "                        <td id=\"T_3630d243_a84b_11eb_a1de_93dea7a75026row0_col10\" class=\"data row0 col10\" >0.16</td>\n",
       "                        <td id=\"T_3630d243_a84b_11eb_a1de_93dea7a75026row0_col11\" class=\"data row0 col11\" >0.22</td>\n",
       "            </tr>\n",
       "            <tr>\n",
       "                        <th id=\"T_3630d243_a84b_11eb_a1de_93dea7a75026level0_row1\" class=\"row_heading level0 row1\" >sex</th>\n",
       "                        <td id=\"T_3630d243_a84b_11eb_a1de_93dea7a75026row1_col0\" class=\"data row1 col0\" >-0.09</td>\n",
       "                        <td id=\"T_3630d243_a84b_11eb_a1de_93dea7a75026row1_col1\" class=\"data row1 col1\" >1.00</td>\n",
       "                        <td id=\"T_3630d243_a84b_11eb_a1de_93dea7a75026row1_col2\" class=\"data row1 col2\" >0.01</td>\n",
       "                        <td id=\"T_3630d243_a84b_11eb_a1de_93dea7a75026row1_col3\" class=\"data row1 col3\" >-0.07</td>\n",
       "                        <td id=\"T_3630d243_a84b_11eb_a1de_93dea7a75026row1_col4\" class=\"data row1 col4\" >-0.20</td>\n",
       "                        <td id=\"T_3630d243_a84b_11eb_a1de_93dea7a75026row1_col5\" class=\"data row1 col5\" >0.04</td>\n",
       "                        <td id=\"T_3630d243_a84b_11eb_a1de_93dea7a75026row1_col6\" class=\"data row1 col6\" >0.03</td>\n",
       "                        <td id=\"T_3630d243_a84b_11eb_a1de_93dea7a75026row1_col7\" class=\"data row1 col7\" >-0.07</td>\n",
       "                        <td id=\"T_3630d243_a84b_11eb_a1de_93dea7a75026row1_col8\" class=\"data row1 col8\" >0.15</td>\n",
       "                        <td id=\"T_3630d243_a84b_11eb_a1de_93dea7a75026row1_col9\" class=\"data row1 col9\" >0.11</td>\n",
       "                        <td id=\"T_3630d243_a84b_11eb_a1de_93dea7a75026row1_col10\" class=\"data row1 col10\" >0.04</td>\n",
       "                        <td id=\"T_3630d243_a84b_11eb_a1de_93dea7a75026row1_col11\" class=\"data row1 col11\" >0.23</td>\n",
       "            </tr>\n",
       "            <tr>\n",
       "                        <th id=\"T_3630d243_a84b_11eb_a1de_93dea7a75026level0_row2\" class=\"row_heading level0 row2\" >cp</th>\n",
       "                        <td id=\"T_3630d243_a84b_11eb_a1de_93dea7a75026row2_col0\" class=\"data row2 col0\" >0.11</td>\n",
       "                        <td id=\"T_3630d243_a84b_11eb_a1de_93dea7a75026row2_col1\" class=\"data row2 col1\" >0.01</td>\n",
       "                        <td id=\"T_3630d243_a84b_11eb_a1de_93dea7a75026row2_col2\" class=\"data row2 col2\" >1.00</td>\n",
       "                        <td id=\"T_3630d243_a84b_11eb_a1de_93dea7a75026row2_col3\" class=\"data row2 col3\" >-0.04</td>\n",
       "                        <td id=\"T_3630d243_a84b_11eb_a1de_93dea7a75026row2_col4\" class=\"data row2 col4\" >0.06</td>\n",
       "                        <td id=\"T_3630d243_a84b_11eb_a1de_93dea7a75026row2_col5\" class=\"data row2 col5\" >-0.06</td>\n",
       "                        <td id=\"T_3630d243_a84b_11eb_a1de_93dea7a75026row2_col6\" class=\"data row2 col6\" >0.06</td>\n",
       "                        <td id=\"T_3630d243_a84b_11eb_a1de_93dea7a75026row2_col7\" class=\"data row2 col7\" >-0.34</td>\n",
       "                        <td id=\"T_3630d243_a84b_11eb_a1de_93dea7a75026row2_col8\" class=\"data row2 col8\" >0.38</td>\n",
       "                        <td id=\"T_3630d243_a84b_11eb_a1de_93dea7a75026row2_col9\" class=\"data row2 col9\" >0.20</td>\n",
       "                        <td id=\"T_3630d243_a84b_11eb_a1de_93dea7a75026row2_col10\" class=\"data row2 col10\" >0.15</td>\n",
       "                        <td id=\"T_3630d243_a84b_11eb_a1de_93dea7a75026row2_col11\" class=\"data row2 col11\" >0.40</td>\n",
       "            </tr>\n",
       "            <tr>\n",
       "                        <th id=\"T_3630d243_a84b_11eb_a1de_93dea7a75026level0_row3\" class=\"row_heading level0 row3\" >trestbps</th>\n",
       "                        <td id=\"T_3630d243_a84b_11eb_a1de_93dea7a75026row3_col0\" class=\"data row3 col0\" >0.29</td>\n",
       "                        <td id=\"T_3630d243_a84b_11eb_a1de_93dea7a75026row3_col1\" class=\"data row3 col1\" >-0.07</td>\n",
       "                        <td id=\"T_3630d243_a84b_11eb_a1de_93dea7a75026row3_col2\" class=\"data row3 col2\" >-0.04</td>\n",
       "                        <td id=\"T_3630d243_a84b_11eb_a1de_93dea7a75026row3_col3\" class=\"data row3 col3\" >1.00</td>\n",
       "                        <td id=\"T_3630d243_a84b_11eb_a1de_93dea7a75026row3_col4\" class=\"data row3 col4\" >0.13</td>\n",
       "                        <td id=\"T_3630d243_a84b_11eb_a1de_93dea7a75026row3_col5\" class=\"data row3 col5\" >0.18</td>\n",
       "                        <td id=\"T_3630d243_a84b_11eb_a1de_93dea7a75026row3_col6\" class=\"data row3 col6\" >0.15</td>\n",
       "                        <td id=\"T_3630d243_a84b_11eb_a1de_93dea7a75026row3_col7\" class=\"data row3 col7\" >-0.05</td>\n",
       "                        <td id=\"T_3630d243_a84b_11eb_a1de_93dea7a75026row3_col8\" class=\"data row3 col8\" >0.07</td>\n",
       "                        <td id=\"T_3630d243_a84b_11eb_a1de_93dea7a75026row3_col9\" class=\"data row3 col9\" >0.19</td>\n",
       "                        <td id=\"T_3630d243_a84b_11eb_a1de_93dea7a75026row3_col10\" class=\"data row3 col10\" >0.12</td>\n",
       "                        <td id=\"T_3630d243_a84b_11eb_a1de_93dea7a75026row3_col11\" class=\"data row3 col11\" >0.16</td>\n",
       "            </tr>\n",
       "            <tr>\n",
       "                        <th id=\"T_3630d243_a84b_11eb_a1de_93dea7a75026level0_row4\" class=\"row_heading level0 row4\" >chol</th>\n",
       "                        <td id=\"T_3630d243_a84b_11eb_a1de_93dea7a75026row4_col0\" class=\"data row4 col0\" >0.20</td>\n",
       "                        <td id=\"T_3630d243_a84b_11eb_a1de_93dea7a75026row4_col1\" class=\"data row4 col1\" >-0.20</td>\n",
       "                        <td id=\"T_3630d243_a84b_11eb_a1de_93dea7a75026row4_col2\" class=\"data row4 col2\" >0.06</td>\n",
       "                        <td id=\"T_3630d243_a84b_11eb_a1de_93dea7a75026row4_col3\" class=\"data row4 col3\" >0.13</td>\n",
       "                        <td id=\"T_3630d243_a84b_11eb_a1de_93dea7a75026row4_col4\" class=\"data row4 col4\" >1.00</td>\n",
       "                        <td id=\"T_3630d243_a84b_11eb_a1de_93dea7a75026row4_col5\" class=\"data row4 col5\" >0.02</td>\n",
       "                        <td id=\"T_3630d243_a84b_11eb_a1de_93dea7a75026row4_col6\" class=\"data row4 col6\" >0.17</td>\n",
       "                        <td id=\"T_3630d243_a84b_11eb_a1de_93dea7a75026row4_col7\" class=\"data row4 col7\" >0.01</td>\n",
       "                        <td id=\"T_3630d243_a84b_11eb_a1de_93dea7a75026row4_col8\" class=\"data row4 col8\" >0.04</td>\n",
       "                        <td id=\"T_3630d243_a84b_11eb_a1de_93dea7a75026row4_col9\" class=\"data row4 col9\" >0.03</td>\n",
       "                        <td id=\"T_3630d243_a84b_11eb_a1de_93dea7a75026row4_col10\" class=\"data row4 col10\" >-0.02</td>\n",
       "                        <td id=\"T_3630d243_a84b_11eb_a1de_93dea7a75026row4_col11\" class=\"data row4 col11\" >0.07</td>\n",
       "            </tr>\n",
       "            <tr>\n",
       "                        <th id=\"T_3630d243_a84b_11eb_a1de_93dea7a75026level0_row5\" class=\"row_heading level0 row5\" >fbs</th>\n",
       "                        <td id=\"T_3630d243_a84b_11eb_a1de_93dea7a75026row5_col0\" class=\"data row5 col0\" >0.13</td>\n",
       "                        <td id=\"T_3630d243_a84b_11eb_a1de_93dea7a75026row5_col1\" class=\"data row5 col1\" >0.04</td>\n",
       "                        <td id=\"T_3630d243_a84b_11eb_a1de_93dea7a75026row5_col2\" class=\"data row5 col2\" >-0.06</td>\n",
       "                        <td id=\"T_3630d243_a84b_11eb_a1de_93dea7a75026row5_col3\" class=\"data row5 col3\" >0.18</td>\n",
       "                        <td id=\"T_3630d243_a84b_11eb_a1de_93dea7a75026row5_col4\" class=\"data row5 col4\" >0.02</td>\n",
       "                        <td id=\"T_3630d243_a84b_11eb_a1de_93dea7a75026row5_col5\" class=\"data row5 col5\" >1.00</td>\n",
       "                        <td id=\"T_3630d243_a84b_11eb_a1de_93dea7a75026row5_col6\" class=\"data row5 col6\" >0.07</td>\n",
       "                        <td id=\"T_3630d243_a84b_11eb_a1de_93dea7a75026row5_col7\" class=\"data row5 col7\" >-0.00</td>\n",
       "                        <td id=\"T_3630d243_a84b_11eb_a1de_93dea7a75026row5_col8\" class=\"data row5 col8\" >-0.00</td>\n",
       "                        <td id=\"T_3630d243_a84b_11eb_a1de_93dea7a75026row5_col9\" class=\"data row5 col9\" >0.01</td>\n",
       "                        <td id=\"T_3630d243_a84b_11eb_a1de_93dea7a75026row5_col10\" class=\"data row5 col10\" >0.05</td>\n",
       "                        <td id=\"T_3630d243_a84b_11eb_a1de_93dea7a75026row5_col11\" class=\"data row5 col11\" >0.05</td>\n",
       "            </tr>\n",
       "            <tr>\n",
       "                        <th id=\"T_3630d243_a84b_11eb_a1de_93dea7a75026level0_row6\" class=\"row_heading level0 row6\" >restecg</th>\n",
       "                        <td id=\"T_3630d243_a84b_11eb_a1de_93dea7a75026row6_col0\" class=\"data row6 col0\" >0.15</td>\n",
       "                        <td id=\"T_3630d243_a84b_11eb_a1de_93dea7a75026row6_col1\" class=\"data row6 col1\" >0.03</td>\n",
       "                        <td id=\"T_3630d243_a84b_11eb_a1de_93dea7a75026row6_col2\" class=\"data row6 col2\" >0.06</td>\n",
       "                        <td id=\"T_3630d243_a84b_11eb_a1de_93dea7a75026row6_col3\" class=\"data row6 col3\" >0.15</td>\n",
       "                        <td id=\"T_3630d243_a84b_11eb_a1de_93dea7a75026row6_col4\" class=\"data row6 col4\" >0.17</td>\n",
       "                        <td id=\"T_3630d243_a84b_11eb_a1de_93dea7a75026row6_col5\" class=\"data row6 col5\" >0.07</td>\n",
       "                        <td id=\"T_3630d243_a84b_11eb_a1de_93dea7a75026row6_col6\" class=\"data row6 col6\" >1.00</td>\n",
       "                        <td id=\"T_3630d243_a84b_11eb_a1de_93dea7a75026row6_col7\" class=\"data row6 col7\" >-0.06</td>\n",
       "                        <td id=\"T_3630d243_a84b_11eb_a1de_93dea7a75026row6_col8\" class=\"data row6 col8\" >0.07</td>\n",
       "                        <td id=\"T_3630d243_a84b_11eb_a1de_93dea7a75026row6_col9\" class=\"data row6 col9\" >0.11</td>\n",
       "                        <td id=\"T_3630d243_a84b_11eb_a1de_93dea7a75026row6_col10\" class=\"data row6 col10\" >0.13</td>\n",
       "                        <td id=\"T_3630d243_a84b_11eb_a1de_93dea7a75026row6_col11\" class=\"data row6 col11\" >0.18</td>\n",
       "            </tr>\n",
       "            <tr>\n",
       "                        <th id=\"T_3630d243_a84b_11eb_a1de_93dea7a75026level0_row7\" class=\"row_heading level0 row7\" >thalach</th>\n",
       "                        <td id=\"T_3630d243_a84b_11eb_a1de_93dea7a75026row7_col0\" class=\"data row7 col0\" >-0.38</td>\n",
       "                        <td id=\"T_3630d243_a84b_11eb_a1de_93dea7a75026row7_col1\" class=\"data row7 col1\" >-0.07</td>\n",
       "                        <td id=\"T_3630d243_a84b_11eb_a1de_93dea7a75026row7_col2\" class=\"data row7 col2\" >-0.34</td>\n",
       "                        <td id=\"T_3630d243_a84b_11eb_a1de_93dea7a75026row7_col3\" class=\"data row7 col3\" >-0.05</td>\n",
       "                        <td id=\"T_3630d243_a84b_11eb_a1de_93dea7a75026row7_col4\" class=\"data row7 col4\" >0.01</td>\n",
       "                        <td id=\"T_3630d243_a84b_11eb_a1de_93dea7a75026row7_col5\" class=\"data row7 col5\" >-0.00</td>\n",
       "                        <td id=\"T_3630d243_a84b_11eb_a1de_93dea7a75026row7_col6\" class=\"data row7 col6\" >-0.06</td>\n",
       "                        <td id=\"T_3630d243_a84b_11eb_a1de_93dea7a75026row7_col7\" class=\"data row7 col7\" >1.00</td>\n",
       "                        <td id=\"T_3630d243_a84b_11eb_a1de_93dea7a75026row7_col8\" class=\"data row7 col8\" >-0.39</td>\n",
       "                        <td id=\"T_3630d243_a84b_11eb_a1de_93dea7a75026row7_col9\" class=\"data row7 col9\" >-0.35</td>\n",
       "                        <td id=\"T_3630d243_a84b_11eb_a1de_93dea7a75026row7_col10\" class=\"data row7 col10\" >-0.39</td>\n",
       "                        <td id=\"T_3630d243_a84b_11eb_a1de_93dea7a75026row7_col11\" class=\"data row7 col11\" >-0.42</td>\n",
       "            </tr>\n",
       "            <tr>\n",
       "                        <th id=\"T_3630d243_a84b_11eb_a1de_93dea7a75026level0_row8\" class=\"row_heading level0 row8\" >exang</th>\n",
       "                        <td id=\"T_3630d243_a84b_11eb_a1de_93dea7a75026row8_col0\" class=\"data row8 col0\" >0.09</td>\n",
       "                        <td id=\"T_3630d243_a84b_11eb_a1de_93dea7a75026row8_col1\" class=\"data row8 col1\" >0.15</td>\n",
       "                        <td id=\"T_3630d243_a84b_11eb_a1de_93dea7a75026row8_col2\" class=\"data row8 col2\" >0.38</td>\n",
       "                        <td id=\"T_3630d243_a84b_11eb_a1de_93dea7a75026row8_col3\" class=\"data row8 col3\" >0.07</td>\n",
       "                        <td id=\"T_3630d243_a84b_11eb_a1de_93dea7a75026row8_col4\" class=\"data row8 col4\" >0.04</td>\n",
       "                        <td id=\"T_3630d243_a84b_11eb_a1de_93dea7a75026row8_col5\" class=\"data row8 col5\" >-0.00</td>\n",
       "                        <td id=\"T_3630d243_a84b_11eb_a1de_93dea7a75026row8_col6\" class=\"data row8 col6\" >0.07</td>\n",
       "                        <td id=\"T_3630d243_a84b_11eb_a1de_93dea7a75026row8_col7\" class=\"data row8 col7\" >-0.39</td>\n",
       "                        <td id=\"T_3630d243_a84b_11eb_a1de_93dea7a75026row8_col8\" class=\"data row8 col8\" >1.00</td>\n",
       "                        <td id=\"T_3630d243_a84b_11eb_a1de_93dea7a75026row8_col9\" class=\"data row8 col9\" >0.29</td>\n",
       "                        <td id=\"T_3630d243_a84b_11eb_a1de_93dea7a75026row8_col10\" class=\"data row8 col10\" >0.25</td>\n",
       "                        <td id=\"T_3630d243_a84b_11eb_a1de_93dea7a75026row8_col11\" class=\"data row8 col11\" >0.39</td>\n",
       "            </tr>\n",
       "            <tr>\n",
       "                        <th id=\"T_3630d243_a84b_11eb_a1de_93dea7a75026level0_row9\" class=\"row_heading level0 row9\" >oldpeak</th>\n",
       "                        <td id=\"T_3630d243_a84b_11eb_a1de_93dea7a75026row9_col0\" class=\"data row9 col0\" >0.20</td>\n",
       "                        <td id=\"T_3630d243_a84b_11eb_a1de_93dea7a75026row9_col1\" class=\"data row9 col1\" >0.11</td>\n",
       "                        <td id=\"T_3630d243_a84b_11eb_a1de_93dea7a75026row9_col2\" class=\"data row9 col2\" >0.20</td>\n",
       "                        <td id=\"T_3630d243_a84b_11eb_a1de_93dea7a75026row9_col3\" class=\"data row9 col3\" >0.19</td>\n",
       "                        <td id=\"T_3630d243_a84b_11eb_a1de_93dea7a75026row9_col4\" class=\"data row9 col4\" >0.03</td>\n",
       "                        <td id=\"T_3630d243_a84b_11eb_a1de_93dea7a75026row9_col5\" class=\"data row9 col5\" >0.01</td>\n",
       "                        <td id=\"T_3630d243_a84b_11eb_a1de_93dea7a75026row9_col6\" class=\"data row9 col6\" >0.11</td>\n",
       "                        <td id=\"T_3630d243_a84b_11eb_a1de_93dea7a75026row9_col7\" class=\"data row9 col7\" >-0.35</td>\n",
       "                        <td id=\"T_3630d243_a84b_11eb_a1de_93dea7a75026row9_col8\" class=\"data row9 col8\" >0.29</td>\n",
       "                        <td id=\"T_3630d243_a84b_11eb_a1de_93dea7a75026row9_col9\" class=\"data row9 col9\" >1.00</td>\n",
       "                        <td id=\"T_3630d243_a84b_11eb_a1de_93dea7a75026row9_col10\" class=\"data row9 col10\" >0.58</td>\n",
       "                        <td id=\"T_3630d243_a84b_11eb_a1de_93dea7a75026row9_col11\" class=\"data row9 col11\" >0.50</td>\n",
       "            </tr>\n",
       "            <tr>\n",
       "                        <th id=\"T_3630d243_a84b_11eb_a1de_93dea7a75026level0_row10\" class=\"row_heading level0 row10\" >slope</th>\n",
       "                        <td id=\"T_3630d243_a84b_11eb_a1de_93dea7a75026row10_col0\" class=\"data row10 col0\" >0.16</td>\n",
       "                        <td id=\"T_3630d243_a84b_11eb_a1de_93dea7a75026row10_col1\" class=\"data row10 col1\" >0.04</td>\n",
       "                        <td id=\"T_3630d243_a84b_11eb_a1de_93dea7a75026row10_col2\" class=\"data row10 col2\" >0.15</td>\n",
       "                        <td id=\"T_3630d243_a84b_11eb_a1de_93dea7a75026row10_col3\" class=\"data row10 col3\" >0.12</td>\n",
       "                        <td id=\"T_3630d243_a84b_11eb_a1de_93dea7a75026row10_col4\" class=\"data row10 col4\" >-0.02</td>\n",
       "                        <td id=\"T_3630d243_a84b_11eb_a1de_93dea7a75026row10_col5\" class=\"data row10 col5\" >0.05</td>\n",
       "                        <td id=\"T_3630d243_a84b_11eb_a1de_93dea7a75026row10_col6\" class=\"data row10 col6\" >0.13</td>\n",
       "                        <td id=\"T_3630d243_a84b_11eb_a1de_93dea7a75026row10_col7\" class=\"data row10 col7\" >-0.39</td>\n",
       "                        <td id=\"T_3630d243_a84b_11eb_a1de_93dea7a75026row10_col8\" class=\"data row10 col8\" >0.25</td>\n",
       "                        <td id=\"T_3630d243_a84b_11eb_a1de_93dea7a75026row10_col9\" class=\"data row10 col9\" >0.58</td>\n",
       "                        <td id=\"T_3630d243_a84b_11eb_a1de_93dea7a75026row10_col10\" class=\"data row10 col10\" >1.00</td>\n",
       "                        <td id=\"T_3630d243_a84b_11eb_a1de_93dea7a75026row10_col11\" class=\"data row10 col11\" >0.37</td>\n",
       "            </tr>\n",
       "            <tr>\n",
       "                        <th id=\"T_3630d243_a84b_11eb_a1de_93dea7a75026level0_row11\" class=\"row_heading level0 row11\" >num</th>\n",
       "                        <td id=\"T_3630d243_a84b_11eb_a1de_93dea7a75026row11_col0\" class=\"data row11 col0\" >0.22</td>\n",
       "                        <td id=\"T_3630d243_a84b_11eb_a1de_93dea7a75026row11_col1\" class=\"data row11 col1\" >0.23</td>\n",
       "                        <td id=\"T_3630d243_a84b_11eb_a1de_93dea7a75026row11_col2\" class=\"data row11 col2\" >0.40</td>\n",
       "                        <td id=\"T_3630d243_a84b_11eb_a1de_93dea7a75026row11_col3\" class=\"data row11 col3\" >0.16</td>\n",
       "                        <td id=\"T_3630d243_a84b_11eb_a1de_93dea7a75026row11_col4\" class=\"data row11 col4\" >0.07</td>\n",
       "                        <td id=\"T_3630d243_a84b_11eb_a1de_93dea7a75026row11_col5\" class=\"data row11 col5\" >0.05</td>\n",
       "                        <td id=\"T_3630d243_a84b_11eb_a1de_93dea7a75026row11_col6\" class=\"data row11 col6\" >0.18</td>\n",
       "                        <td id=\"T_3630d243_a84b_11eb_a1de_93dea7a75026row11_col7\" class=\"data row11 col7\" >-0.42</td>\n",
       "                        <td id=\"T_3630d243_a84b_11eb_a1de_93dea7a75026row11_col8\" class=\"data row11 col8\" >0.39</td>\n",
       "                        <td id=\"T_3630d243_a84b_11eb_a1de_93dea7a75026row11_col9\" class=\"data row11 col9\" >0.50</td>\n",
       "                        <td id=\"T_3630d243_a84b_11eb_a1de_93dea7a75026row11_col10\" class=\"data row11 col10\" >0.37</td>\n",
       "                        <td id=\"T_3630d243_a84b_11eb_a1de_93dea7a75026row11_col11\" class=\"data row11 col11\" >1.00</td>\n",
       "            </tr>\n",
       "    </tbody></table>"
      ],
      "text/plain": [
       "<pandas.io.formats.style.Styler at 0x1c2b4972490>"
      ]
     },
     "execution_count": 76,
     "metadata": {},
     "output_type": "execute_result"
    }
   ],
   "source": [
    "correlationMatrix.style.background_gradient(cmap='viridis').set_precision(2)"
   ]
  },
  {
   "cell_type": "code",
   "execution_count": 81,
   "metadata": {},
   "outputs": [],
   "source": [
    "# ML Algorithms to be used\n",
    "from sklearn.decomposition import PCA\n",
    "from sklearn.linear_model import LogisticRegression\n",
    "from sklearn.linear_model import SGDClassifier\n",
    "from sklearn.ensemble import RandomForestClassifier\n",
    "import lightgbm as LGBMClassifier\n",
    "from sklearn.svm import SVR\n",
    "from sklearn.metrics import log_loss\n",
    "from sklearn.linear_model import SGDClassifier\n",
    "from sklearn.metrics import confusion_matrix, plot_confusion_matrix\n",
    "from sklearn.model_selection import learning_curve\n",
    "from sklearn.neighbors import KNeighborsClassifier\n"
   ]
  },
  {
   "cell_type": "code",
   "execution_count": 84,
   "metadata": {},
   "outputs": [],
   "source": [
    "dataframe.num = dataframe.num.where(dataframe.num < 2, 2)\n",
    "\n",
    "#update index\n",
    "dataframe = dataframe.reset_index()"
   ]
  },
  {
   "cell_type": "code",
   "execution_count": 85,
   "metadata": {},
   "outputs": [],
   "source": [
    "dataX = dataframe.copy().drop(['num'],axis=1)\n",
    "dataY = dataframe['num'].astype(int).copy()"
   ]
  },
  {
   "cell_type": "code",
   "execution_count": 86,
   "metadata": {},
   "outputs": [
    {
     "data": {
      "text/plain": [
       "0    160\n",
       "2     83\n",
       "1     56\n",
       "Name: num, dtype: int64"
      ]
     },
     "execution_count": 86,
     "metadata": {},
     "output_type": "execute_result"
    }
   ],
   "source": [
    "dataY.value_counts()"
   ]
  },
  {
   "cell_type": "code",
   "execution_count": 28,
   "metadata": {},
   "outputs": [],
   "source": [
    "from sklearn.preprocessing import StandardScaler\n",
    "from sklearn.preprocessing import MinMaxScaler\n",
    "from sklearn.preprocessing import RobustScaler"
   ]
  },
  {
   "cell_type": "code",
   "execution_count": 29,
   "metadata": {},
   "outputs": [],
   "source": [
    "#d=pd.read_csv('/Users/Asus/Desktop/IDP/IDP_3-2 finals/Algorithm/Datasets/pre2.csv',index_col=0)\n",
    "#Desktop/IDP/IDP_3-2 finals/Algorithm/Datasets/three.csv"
   ]
  },
  {
   "cell_type": "code",
   "execution_count": 88,
   "metadata": {},
   "outputs": [],
   "source": [
    "featuresToScale = dataX.columns\n",
    "sX = StandardScaler(copy=True)\n",
    "dataX.loc[:,featuresToScale] = sX.fit_transform(dataX[featuresToScale])"
   ]
  },
  {
   "cell_type": "code",
   "execution_count": 92,
   "metadata": {},
   "outputs": [
    {
     "data": {
      "text/plain": [
       "0    48\n",
       "2    25\n",
       "1    17\n",
       "Name: num, dtype: int64"
      ]
     },
     "execution_count": 92,
     "metadata": {},
     "output_type": "execute_result"
    }
   ],
   "source": [
    "X_train, X_test, y_train, y_test = train_test_split(dataX,\n",
    "dataY, test_size=0.3,\n",
    "random_state=2021, stratify=dataY)\n",
    "\n",
    "y_test.value_counts()"
   ]
  },
  {
   "cell_type": "code",
   "execution_count": 97,
   "metadata": {},
   "outputs": [],
   "source": [
    "def anomalyScore (originalDF, reducedDF):\n",
    "  loss = np.sum((np.array(originalDF)-np.array(reducedDF))**2, axis=1)\n",
    "  loss = pd.Series(data=loss,index=originalDF.index)\n",
    "  loss = (loss-np.min(loss))/(np.max(loss)-np.min(loss))\n",
    "  return loss"
   ]
  },
  {
   "cell_type": "code",
   "execution_count": 100,
   "metadata": {},
   "outputs": [],
   "source": [
    "\n",
    "\n",
    "def plotResults(trueLabels, anomalyScore, returnPreds = False, plotting = True):\n",
    "  preds = pd.concat([trueLabels, anomalyScore], axis=1)\n",
    "  preds.columns = ['trueLabel', 'anomalyScore']\n",
    "  \n",
    "  precision, recall, thresholds = \\\n",
    "  precision_recall_curve(preds['trueLabel'],preds['anomalyScore'])\n",
    "  \n",
    "\n",
    "  average_precision = average_precision_score(preds['trueLabel'],preds['anomalyScore'])\n",
    "  if plotting:\n",
    "    plt.step(recall, precision, color='b', alpha=0.7, where='post')\n",
    "    plt.fill_between(recall, precision, step='post', alpha=0.3, color='b')\n",
    "    plt.xlabel('Recall')\n",
    "    plt.ylabel('Precision')\n",
    "    plt.ylim([0.0, 1.1])\n",
    "    plt.xlim([0.0, 1.0])\n",
    "    plt.title('Average Precision = {0:0.2f}'.format(average_precision))\n",
    "\n",
    "  if returnPreds==True:\n",
    "    return preds, average_precision\n",
    "\n"
   ]
  },
  {
   "cell_type": "code",
   "execution_count": 101,
   "metadata": {},
   "outputs": [],
   "source": [
    "n_components =11\n",
    "svd_solver = 'auto'\n",
    "random_state = 2021"
   ]
  },
  {
   "cell_type": "code",
   "execution_count": 114,
   "metadata": {},
   "outputs": [],
   "source": [
    "from sklearn.decomposition import KernelPCA\n",
    "pca = KernelPCA(n_components=n_components,kernel = 'linear', fit_inverse_transform = True ,random_state= 2021)"
   ]
  },
  {
   "cell_type": "code",
   "execution_count": 115,
   "metadata": {},
   "outputs": [],
   "source": [
    "X_train_PCA = pca.fit_transform(X_train)\n",
    "X_test_PCA = pca.fit_transform(X_test)"
   ]
  },
  {
   "cell_type": "code",
   "execution_count": 116,
   "metadata": {},
   "outputs": [],
   "source": [
    "X_train_PCA = pd.DataFrame(data=X_train_PCA, index=X_train.index)\n",
    "X_test_PCA = pd.DataFrame(data=X_test_PCA, index=X_test.index)"
   ]
  },
  {
   "cell_type": "code",
   "execution_count": 117,
   "metadata": {},
   "outputs": [],
   "source": [
    "X_train_PCA_inverse = pca.inverse_transform(X_train_PCA)\n",
    "X_train_PCA_inverse = pd.DataFrame(data=X_train_PCA_inverse, index=X_train.index)"
   ]
  },
  {
   "cell_type": "code",
   "execution_count": 119,
   "metadata": {},
   "outputs": [],
   "source": [
    "anomalyScorePCA = anomalyScore(X_train, X_train_PCA_inverse)\n"
   ]
  },
  {
   "cell_type": "code",
   "execution_count": 120,
   "metadata": {},
   "outputs": [],
   "source": [
    "trigger_PCA = True\n",
    "if trigger_PCA == True:\n",
    "  X_train = X_train_PCA\n",
    "  X_test = X_test_PCA"
   ]
  },
  {
   "cell_type": "code",
   "execution_count": 121,
   "metadata": {},
   "outputs": [],
   "source": [
    "k_fold = StratifiedKFold(n_splits=4, shuffle=True, random_state=2021)\n"
   ]
  },
  {
   "cell_type": "code",
   "execution_count": 122,
   "metadata": {},
   "outputs": [],
   "source": [
    "penalty = 'l2' \n",
    "C = 0.1\n",
    "random_state = 2021\n",
    "solver = 'liblinear'\n",
    "logReg = LogisticRegression(penalty=penalty, C=C,random_state=random_state, solver=solver)"
   ]
  },
  {
   "cell_type": "code",
   "execution_count": 127,
   "metadata": {},
   "outputs": [
    {
     "name": "stdout",
     "output_type": "stream",
     "text": [
      "Best accuracy obtained: 0.6890420899854861\n",
      "C value for the best case: 0.01\n",
      "Penalty value for the best case: l2\n",
      "Solver value for the best case: liblinear\n"
     ]
    }
   ],
   "source": [
    "penalty = ['l2']\n",
    "C = np.arange(0.01, 1, 0.1 )\n",
    "random_state = 2021\n",
    "solver = ['lbfgs', 'liblinear', 'saga']\n",
    "grid = {'penalty': penalty,'C':C, 'solver': solver}\n",
    "\n",
    "gridSearch = GridSearchCV(logReg, grid, scoring='accuracy', cv=k_fold, refit=True)\n",
    "gridSearch.fit(X_train, y_train)\n",
    "results = gridSearch.cv_results_\n",
    "\n",
    "print('Best accuracy obtained:', gridSearch.best_score_)\n",
    "print('C value for the best case:', gridSearch.best_estimator_.C)\n",
    "print('Penalty value for the best case:', gridSearch.best_estimator_.penalty)\n",
    "print('Solver value for the best case:', gridSearch.best_estimator_.solver)"
   ]
  },
  {
   "cell_type": "code",
   "execution_count": 126,
   "metadata": {},
   "outputs": [
    {
     "data": {
      "text/plain": [
       "LogisticRegression(C=0.01, random_state=2021, solver='liblinear')"
      ]
     },
     "execution_count": 126,
     "metadata": {},
     "output_type": "execute_result"
    }
   ],
   "source": [
    "logReg.set_params(C = gridSearch.best_estimator_.C, solver = gridSearch.best_estimator_.solver )"
   ]
  },
  {
   "cell_type": "code",
   "execution_count": 128,
   "metadata": {},
   "outputs": [
    {
     "name": "stdout",
     "output_type": "stream",
     "text": [
      "--------------------------------------------------------\n",
      "Training accuracy_score:  0.7435897435897436\n",
      "CV accuracy_score:  0.6792452830188679\n",
      "--------------------------------------------------------\n",
      "Training accuracy_score:  0.7197452229299363\n",
      "CV accuracy_score:  0.6538461538461539\n",
      "--------------------------------------------------------\n",
      "Training accuracy_score:  0.7133757961783439\n",
      "CV accuracy_score:  0.7307692307692307\n",
      "--------------------------------------------------------\n",
      "Training accuracy_score:  0.6942675159235668\n",
      "CV accuracy_score:  0.6923076923076923\n",
      "--------------------------------------------------------\n",
      "--------------------------------------------------------\n",
      "mean Accuracy_score Training: 0.7177445696553977\n",
      "--------------------------------------------------------\n",
      "mean Accuracy_score cv: 0.6890420899854861\n"
     ]
    }
   ],
   "source": [
    "#Lists for storing scores\n",
    "trainingScores = []\n",
    "cvScores = []\n",
    "\n",
    "for train_index, cv_index in k_fold.split(X_train,y_train):\n",
    "\n",
    "  #Filtering data based on indices\n",
    "  X_train_fold, X_cv_fold = X_train.iloc[train_index,:], X_train.iloc[cv_index,:]\n",
    "  Y_train_fold, Y_cv_fold = y_train.iloc[train_index], y_train.iloc[cv_index]\n",
    "\n",
    "  #Fitting Model\n",
    "  logReg.fit(X_train_fold, Y_train_fold)\n",
    "\n",
    "  #Checking how good the model is on trainingsdata\n",
    "  accuracy_score_Training = accuracy_score(Y_train_fold,logReg.predict(X_train_fold))\n",
    "  print('--------------------------------------------------------')\n",
    "  print('Training accuracy_score: ', accuracy_score_Training)\n",
    "  #Checking how good the model is on cv data\n",
    "  accuracy_score_cv = accuracy_score(Y_cv_fold,logReg.predict(X_cv_fold))\n",
    "  print('CV accuracy_score: ', accuracy_score_cv)\n",
    "\n",
    "  trainingScores.append(accuracy_score_Training)\n",
    "  cvScores.append(accuracy_score_cv)\n",
    "\n",
    "print('--------------------------------------------------------')\n",
    "print('--------------------------------------------------------')\n",
    "mean_accuracy_score_training = np.array(trainingScores).mean()\n",
    "print('mean Accuracy_score Training:', mean_accuracy_score_training )\n",
    "print('--------------------------------------------------------')\n",
    "mean_accuracy_score_cv = np.array(cvScores).mean()\n",
    "print('mean Accuracy_score cv:', mean_accuracy_score_cv )"
   ]
  },
  {
   "cell_type": "code",
   "execution_count": 129,
   "metadata": {},
   "outputs": [
    {
     "data": {
      "text/plain": [
       "LogisticRegression(C=0.01, random_state=2021, solver='liblinear')"
      ]
     },
     "execution_count": 129,
     "metadata": {},
     "output_type": "execute_result"
    }
   ],
   "source": [
    "logReg.fit(X_train, y_train)"
   ]
  },
  {
   "cell_type": "code",
   "execution_count": 130,
   "metadata": {},
   "outputs": [],
   "source": [
    "# Prediction and accuracy on trainings data\n",
    "y_pred_train_proba_lg = logReg.predict_proba(X_train)\n",
    "y_pred_train_proba_lg = pd.DataFrame(data = y_pred_train_proba_lg, index = X_train.index)\n",
    "\n",
    "y_train_preds_lg = logReg.predict(X_train)\n",
    "accuracy_training_ges_lg = accuracy_score(y_train,y_train_preds_lg)"
   ]
  },
  {
   "cell_type": "code",
   "execution_count": 131,
   "metadata": {},
   "outputs": [],
   "source": [
    "# Prediction and accuracy on test data\n",
    "y_pred_proba_lg = logReg.predict_proba(X_test)\n",
    "y_pred_proba_lg = pd.DataFrame(data = y_pred_proba_lg, index = X_test.index)\n",
    "\n",
    "y_preds_lg = logReg.predict(X_test)\n",
    "accuracy_test_ges_lg = accuracy_score(y_test,y_preds_lg)"
   ]
  },
  {
   "cell_type": "code",
   "execution_count": 132,
   "metadata": {},
   "outputs": [
    {
     "name": "stdout",
     "output_type": "stream",
     "text": [
      "--------------------------------------------------------\n",
      "accuracy_score whole trainings set 0.722488038277512\n",
      "--------------------------------------------------------\n",
      "accuracy_score whole test set 0.5888888888888889\n",
      "--------------------------------------------------------\n"
     ]
    }
   ],
   "source": [
    "print('--------------------------------------------------------')\n",
    "print('accuracy_score whole trainings set', accuracy_training_ges_lg )\n",
    "print('--------------------------------------------------------')\n",
    "print('accuracy_score whole test set', accuracy_test_ges_lg )\n",
    "print('--------------------------------------------------------')"
   ]
  },
  {
   "cell_type": "code",
   "execution_count": null,
   "metadata": {},
   "outputs": [],
   "source": [
    "\n"
   ]
  },
  {
   "cell_type": "code",
   "execution_count": 135,
   "metadata": {},
   "outputs": [],
   "source": [
    "n_estimators = 200\n",
    "random_state = 2021\n",
    "criterion = 'gini'\n",
    "\n",
    "max_depth = 3\n",
    "max_leaf_nodes = None\n",
    "min_samples_split = 2\n",
    "\n",
    "max_features = 'sqrt'\n",
    "\n",
    "RFC = RandomForestClassifier(n_estimators= n_estimators,  random_state= random_state, criterion=criterion, max_features = max_features, max_depth = max_depth, max_leaf_nodes=max_leaf_nodes, min_samples_split=min_samples_split)"
   ]
  },
  {
   "cell_type": "code",
   "execution_count": 136,
   "metadata": {},
   "outputs": [
    {
     "name": "stdout",
     "output_type": "stream",
     "text": [
      "Best accuracy obtained: 0.6986574746008709\n",
      "n_estimators value for the best case: 200\n",
      "criterion value for the best case: gini\n",
      "max_depth value for the best case: 4\n",
      "max_features value for the best case: sqrt\n"
     ]
    }
   ],
   "source": [
    "n_estimators = [ 100, 150, 200]\n",
    "criterion = ['gini', 'entropy']\n",
    "random_state = 2021\n",
    "max_depth = range(1, 5)\n",
    "max_features = ['sqrt', 'log2']\n",
    "grid = {'n_estimators': n_estimators,'criterion':criterion, 'max_depth': max_depth, 'max_features':max_features}\n",
    "\n",
    "gridSearch = GridSearchCV(RFC, grid, scoring='accuracy', cv=k_fold, refit=True)\n",
    "gridSearch.fit(X_train, y_train)\n",
    "results = gridSearch.cv_results_\n",
    "\n",
    "print('Best accuracy obtained:', gridSearch.best_score_)\n",
    "print('n_estimators value for the best case:', gridSearch.best_estimator_.n_estimators)\n",
    "print('criterion value for the best case:', gridSearch.best_estimator_.criterion)\n",
    "print('max_depth value for the best case:', gridSearch.best_estimator_.max_depth)\n",
    "print('max_features value for the best case:', gridSearch.best_estimator_.max_features)"
   ]
  },
  {
   "cell_type": "code",
   "execution_count": 137,
   "metadata": {},
   "outputs": [
    {
     "data": {
      "text/plain": [
       "RandomForestClassifier(max_depth=4, max_features='sqrt', n_estimators=200,\n",
       "                       random_state=2021)"
      ]
     },
     "execution_count": 137,
     "metadata": {},
     "output_type": "execute_result"
    }
   ],
   "source": [
    "#Set Parameters to the values from GridSearch\n",
    "RFC.set_params(n_estimators = gridSearch.best_estimator_.n_estimators, criterion = gridSearch.best_estimator_.criterion, max_depth = gridSearch.best_estimator_.max_depth, max_features  =  gridSearch.best_estimator_.max_features)"
   ]
  },
  {
   "cell_type": "code",
   "execution_count": 138,
   "metadata": {},
   "outputs": [],
   "source": [
    "n_neighbors = 13\n",
    "weights = 'uniform'\n",
    "algorithm = 'auto'\n",
    "knn = KNeighborsClassifier(n_neighbors =  n_neighbors, algorithm = algorithm, weights = weights)"
   ]
  },
  {
   "cell_type": "code",
   "execution_count": 139,
   "metadata": {},
   "outputs": [
    {
     "name": "stdout",
     "output_type": "stream",
     "text": [
      "Best accuracy obtained: 0.7223330914368651\n",
      "n_neighbors value for the best case: 9\n",
      "weights value for the best case: distance\n",
      "algorithm for the best case: auto\n"
     ]
    }
   ],
   "source": [
    "n_neighbors = np.arange(1,30, 2)\n",
    "weights = ['uniform', 'distance']\n",
    "algorithm = ['auto', 'ball_tree', 'kd_tree', 'brute']\n",
    "grid = {'n_neighbors': n_neighbors,'weights':weights, 'algorithm': algorithm}\n",
    "\n",
    "gridSearch = GridSearchCV(knn, grid, scoring='accuracy', cv=k_fold, refit=True)\n",
    "gridSearch.fit(X_train, y_train)\n",
    "results = gridSearch.cv_results_\n",
    "\n",
    "print('Best accuracy obtained:', gridSearch.best_score_)\n",
    "print('n_neighbors value for the best case:', gridSearch.best_estimator_.n_neighbors)\n",
    "print('weights value for the best case:', gridSearch.best_estimator_.weights)\n",
    "print('algorithm for the best case:', gridSearch.best_estimator_.algorithm)"
   ]
  },
  {
   "cell_type": "code",
   "execution_count": 140,
   "metadata": {},
   "outputs": [
    {
     "data": {
      "text/plain": [
       "KNeighborsClassifier(n_neighbors=9, weights='distance')"
      ]
     },
     "execution_count": 140,
     "metadata": {},
     "output_type": "execute_result"
    }
   ],
   "source": [
    "#Set Parameters to the values from GridSearch\n",
    "knn.set_params(n_neighbors = gridSearch.best_estimator_.n_neighbors,  weights = gridSearch.best_estimator_.weights , algorithm = gridSearch.best_estimator_.algorithm )"
   ]
  },
  {
   "cell_type": "code",
   "execution_count": 141,
   "metadata": {},
   "outputs": [
    {
     "name": "stdout",
     "output_type": "stream",
     "text": [
      "--------------------------------------------------------\n",
      "Training accuracy_score:  1.0\n",
      "CV accuracy_score:  0.7547169811320755\n",
      "--------------------------------------------------------\n",
      "Training accuracy_score:  1.0\n",
      "CV accuracy_score:  0.6730769230769231\n",
      "--------------------------------------------------------\n",
      "Training accuracy_score:  1.0\n",
      "CV accuracy_score:  0.75\n",
      "--------------------------------------------------------\n",
      "Training accuracy_score:  1.0\n",
      "CV accuracy_score:  0.7115384615384616\n",
      "--------------------------------------------------------\n",
      "--------------------------------------------------------\n",
      "Mean accuracy_score Training: 1.0\n",
      "--------------------------------------------------------\n",
      "Mean accuracy_score CV: 0.7223330914368651\n"
     ]
    }
   ],
   "source": [
    "trainingScores = []\n",
    "cvScores = []\n",
    "\n",
    "\n",
    "for train_index, cv_index in k_fold.split(X_train,y_train):\n",
    "\n",
    "  #Filtering data based on indices\n",
    "  X_train_fold, X_cv_fold = X_train.iloc[train_index,:], X_train.iloc[cv_index,:]\n",
    "  Y_train_fold, Y_cv_fold = y_train.iloc[train_index], y_train.iloc[cv_index]\n",
    "\n",
    "  #Fitting Model\n",
    "  knn.fit(X_train_fold, Y_train_fold)\n",
    "\n",
    "  #Checking how good the model is on trainingsdata\n",
    "  accuracy_score_Training = accuracy_score(Y_train_fold,knn.predict(X_train_fold))\n",
    "  print('--------------------------------------------------------')\n",
    "  print('Training accuracy_score: ', accuracy_score_Training)\n",
    "  #Checking how good the model is on cv data\n",
    "  accuracy_score_cv = accuracy_score(Y_cv_fold,knn.predict(X_cv_fold))\n",
    "  print('CV accuracy_score: ', accuracy_score_cv)\n",
    "  trainingScores.append(accuracy_score_Training)\n",
    "  cvScores.append(accuracy_score_cv)\n",
    "\n",
    "print('--------------------------------------------------------')\n",
    "print('--------------------------------------------------------')\n",
    "gesamt_accuracy_score_training = np.array(trainingScores).mean()\n",
    "print('Mean accuracy_score Training:', gesamt_accuracy_score_training )\n",
    "print('--------------------------------------------------------')\n",
    "mean_accuracy_score_cv = np.array(cvScores).mean()\n",
    "print('Mean accuracy_score CV:', mean_accuracy_score_cv )"
   ]
  },
  {
   "cell_type": "code",
   "execution_count": 142,
   "metadata": {},
   "outputs": [
    {
     "data": {
      "text/plain": [
       "KNeighborsClassifier(n_neighbors=9, weights='distance')"
      ]
     },
     "execution_count": 142,
     "metadata": {},
     "output_type": "execute_result"
    }
   ],
   "source": [
    "knn.fit(X_train, y_train)"
   ]
  },
  {
   "cell_type": "code",
   "execution_count": 143,
   "metadata": {},
   "outputs": [],
   "source": [
    "#Prediction and Accuracy on trainings data\n",
    "y_pred_train_proba_knn = knn.predict_proba(X_train)\n",
    "y_pred_train_proba_knn = pd.DataFrame(data = y_pred_train_proba_knn, index = X_train.index)\n",
    "#print(y_preds)\n",
    "\n",
    "y_train_preds_knn = knn.predict(X_train)\n",
    "accuracy_training_ges_knn = accuracy_score(y_train,y_train_preds_knn)"
   ]
  },
  {
   "cell_type": "code",
   "execution_count": 144,
   "metadata": {},
   "outputs": [],
   "source": [
    "#Prediction and Accuracy on test data\n",
    "y_pred_proba_knn = knn.predict_proba(X_test)\n",
    "y_pred_proba_knn = pd.DataFrame(data = y_pred_proba_knn, index = X_test.index)\n",
    "#print(y_preds)\n",
    "\n",
    "y_preds_knn = knn.predict(X_test)\n",
    "accuracy_test_ges_knn = accuracy_score(y_test,y_preds_knn)"
   ]
  },
  {
   "cell_type": "code",
   "execution_count": 145,
   "metadata": {},
   "outputs": [
    {
     "name": "stdout",
     "output_type": "stream",
     "text": [
      "--------------------------------------------------------\n",
      "accuracy_score whole trainings set 1.0\n",
      "--------------------------------------------------------\n",
      "accuracy_score whole test set 0.5333333333333333\n",
      "--------------------------------------------------------\n"
     ]
    }
   ],
   "source": [
    "print('--------------------------------------------------------')\n",
    "print('accuracy_score whole trainings set', accuracy_training_ges_knn )\n",
    "print('--------------------------------------------------------')\n",
    "print('accuracy_score whole test set', accuracy_test_ges_knn )\n",
    "print('--------------------------------------------------------')"
   ]
  },
  {
   "cell_type": "code",
   "execution_count": 146,
   "metadata": {},
   "outputs": [],
   "source": [
    "cm3 = confusion_matrix(y_test,y_preds_knn)\n",
    "#storing false negatives\n",
    "fn_knn = cm3[1,0]"
   ]
  },
  {
   "cell_type": "code",
   "execution_count": 225,
   "metadata": {},
   "outputs": [
    {
     "name": "stdout",
     "output_type": "stream",
     "text": [
      "Accuracy: 0.66\n"
     ]
    },
    {
     "data": {
      "image/png": "[encoded data removed]",
      "text/plain": [
       "<Figure size 432x288 with 2 Axes>"
      ]
     },
     "metadata": {
      "needs_background": "light"
     },
     "output_type": "display_data"
    }
   ],
   "source": [
    "from sklearn.svm import SVC\n",
    "from sklearn.metrics import plot_confusion_matrix\n",
    "\n",
    "\n",
    "\n",
    "clf = SVC(random_state=42)\n",
    "clf.fit(X_train, y_train)\n",
    "\n",
    "y_pred = clf.predict(X_test)\n",
    "accuracy = metrics.accuracy_score(y_test, y_pred)\n",
    "print('Accuracy: {:.2f}'.format(accuracy))\n",
    "\n",
    "SVC(random_state=42)\n",
    "plot_confusion_matrix(clf, X_test, y_test)  \n",
    "plt.show() "
   ]
  },
  {
   "cell_type": "code",
   "execution_count": 226,
   "metadata": {},
   "outputs": [
    {
     "name": "stdout",
     "output_type": "stream",
     "text": [
      "0.6274509803921569\n"
     ]
    }
   ],
   "source": [
    "from sklearn.ensemble import GradientBoostingClassifier\n",
    "model = GradientBoostingClassifier()\n",
    "model.fit(X_train, y_train)\n",
    "\n",
    "y_pred = model.predict(X_test)\n",
    "\n",
    "print(accuracy_score(y_test, y_pred))"
   ]
  },
  {
   "cell_type": "code",
   "execution_count": 87,
   "metadata": {},
   "outputs": [],
   "source": [
    "import pickle\n"
   ]
  },
  {
   "cell_type": "code",
   "execution_count": 88,
   "metadata": {},
   "outputs": [],
   "source": [
    "with open(\"model1_predictis\",'wb')as f:\n",
    "    pickle.dump(classifier,f)"
   ]
  },
  {
   "cell_type": "code",
   "execution_count": null,
   "metadata": {},
   "outputs": [],
   "source": [
    "GradientBoostingClassifier(criterion=’friedman_mse’, init=None,\n",
    " learning_rate=0.1, loss=’deviance’, max_depth=3,\n",
    " max_features=None, max_leaf_nodes=None,\n",
    " min_impurity_split=1e-07, min_samples_leaf=1,\n",
    " min_samples_split=2, min_weight_fraction_leaf=0.0,\n",
    " n_estimators=100, presort=’auto’, random_state=None,\n",
    " subsample=1.0, verbose=0, warm_start=False)"
   ]
  },
  {
   "cell_type": "code",
   "execution_count": null,
   "metadata": {},
   "outputs": [],
   "source": []
  }
 ],
 "metadata": {
  "kernelspec": {
   "display_name": "Python 3",
   "language": "python",
   "name": "python3"
  },
  "language_info": {
   "codemirror_mode": {
    "name": "ipython",
    "version": 3
   },
   "file_extension": ".py",
   "mimetype": "text/x-python",
   "name": "python",
   "nbconvert_exporter": "python",
   "pygments_lexer": "ipython3",
   "version": "3.8.5"
  }
 },
 "nbformat": 4,
 "nbformat_minor": 4
}
