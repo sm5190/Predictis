{
 "cells": [
  {
   "cell_type": "code",
   "execution_count": 1,
   "metadata": {},
   "outputs": [],
   "source": [
    "import pandas as pd\n"
   ]
  },
  {
   "cell_type": "code",
   "execution_count": 2,
   "metadata": {},
   "outputs": [
    {
     "name": "stdout",
     "output_type": "stream",
     "text": [
      "    age  sex   cp trestbps chol fbs restecg thalach exang oldpeak slope   ca  \\\n",
      "0  63.0  1.0  1.0      145  233   1       2     150     0     2.3     3  0.0   \n",
      "1  67.0  1.0  4.0      160  286   0       2     108     1     1.5     2  3.0   \n",
      "2  67.0  1.0  4.0      120  229   0       2     129     1     2.6     2  2.0   \n",
      "3  37.0  1.0  3.0      130  250   0       0     187     0     3.5     3  0.0   \n",
      "4  41.0  0.0  2.0      130  204   0       2     172     0     1.4     1  0.0   \n",
      "\n",
      "  thal  num  \n",
      "0  6.0    0  \n",
      "1  3.0    2  \n",
      "2  7.0    1  \n",
      "3  3.0    0  \n",
      "4  3.0    0  \n"
     ]
    }
   ],
   "source": [
    "column_names = [\"age\", \"sex\", \"cp\",\"trestbps\",\"chol\",\"fbs\",\"restecg\",\"thalach\",\"exang\",\"oldpeak\",\"slope\",\"ca\",\"thal\",\"num\"]\n",
    "data_list =[]\n",
    "\n",
    "df1 = pd.read_csv(\"/Users/Asus/Desktop/IDP/IDP_3-2 finals/Algorithm/processed.cleveland.data\", names = column_names)\n",
    "df2 = pd.read_csv(\"/Users/Asus/Desktop/IDP/IDP_3-2 finals/Algorithm/processed.hungarian.data\", names = column_names)\n",
    "df3 = pd.read_csv(\"/Users/Asus/Desktop/IDP/IDP_3-2 finals/Algorithm/processed.switzerland.data\", names = column_names)\n",
    "df4 = pd.read_csv(\"/Users/Asus/Desktop/IDP/IDP_3-2 finals/Algorithm/processed.va.data\", names = column_names)\n",
    "df5=pd.read_csv(\"/Users/Asus/Desktop/IDP/IDP_3-2 finals/Algorithm/heart.csv\")\n",
    "\n",
    "df1_1= df1.append(df2)\n",
    "df2_2= df3.append(df4)\n",
    "\n",
    "df_final= df1_1.append(df2_2)\n",
    "df_final=df_final.append(df5)\n",
    "\n",
    "print(df_final.head())"
   ]
  },
  {
   "cell_type": "code",
   "execution_count": 3,
   "metadata": {},
   "outputs": [
    {
     "name": "stdout",
     "output_type": "stream",
     "text": [
      "<class 'pandas.core.frame.DataFrame'>\n",
      "Int64Index: 1223 entries, 0 to 302\n",
      "Data columns (total 14 columns):\n",
      " #   Column    Non-Null Count  Dtype  \n",
      "---  ------    --------------  -----  \n",
      " 0   age       1223 non-null   float64\n",
      " 1   sex       1223 non-null   float64\n",
      " 2   cp        1223 non-null   float64\n",
      " 3   trestbps  1223 non-null   object \n",
      " 4   chol      1223 non-null   object \n",
      " 5   fbs       1223 non-null   object \n",
      " 6   restecg   1223 non-null   object \n",
      " 7   thalach   1223 non-null   object \n",
      " 8   exang     1223 non-null   object \n",
      " 9   oldpeak   1223 non-null   object \n",
      " 10  slope     1223 non-null   object \n",
      " 11  ca        920 non-null    object \n",
      " 12  thal      920 non-null    object \n",
      " 13  num       1223 non-null   int64  \n",
      "dtypes: float64(3), int64(1), object(10)\n",
      "memory usage: 143.3+ KB\n",
      "None\n",
      "(1223, 14)\n"
     ]
    }
   ],
   "source": [
    "print(df_final.info())\n",
    "print(df_final.shape)"
   ]
  },
  {
   "cell_type": "code",
   "execution_count": 4,
   "metadata": {},
   "outputs": [
    {
     "name": "stdout",
     "output_type": "stream",
     "text": [
      "               age          sex           cp          num\n",
      "count  1223.000000  1223.000000  1223.000000  1223.000000\n",
      "mean     53.722813     0.762878     2.684383     0.929681\n",
      "std       9.344604     0.425492     1.373758     1.119662\n",
      "min      28.000000     0.000000     0.000000     0.000000\n",
      "25%      47.000000     1.000000     2.000000     0.000000\n",
      "50%      54.000000     1.000000     3.000000     1.000000\n",
      "75%      60.000000     1.000000     4.000000     2.000000\n",
      "max      77.000000     1.000000     4.000000     4.000000\n"
     ]
    }
   ],
   "source": [
    "print(df_final.describe())"
   ]
  },
  {
   "cell_type": "code",
   "execution_count": 2,
   "metadata": {},
   "outputs": [],
   "source": [
    "import numpy as np\n",
    "import matplotlib.pyplot as plt \n",
    "import pandas as pd\n",
    "import seaborn as sns\n",
    "from sklearn.model_selection import train_test_split\n",
    "from sklearn.preprocessing import StandardScaler\n",
    "from sklearn.neighbors import KNeighborsClassifier\n",
    "from sklearn.metrics import confusion_matrix\n",
    "from sklearn import metrics"
   ]
  },
  {
   "cell_type": "code",
   "execution_count": 6,
   "metadata": {},
   "outputs": [],
   "source": [
    "#\"trestbps\",\"chol\",\"fbs\",\"restecg\",\"thalach\",\"exang\",\"oldpeak\",\"slope\",\"ca\",\"thal\"\n",
    "df_final=df_final.drop(['ca'],axis=1)\n",
    "df_final=df_final.drop(['thal'],axis=1)\n",
    "df_1=df_final[df_final.trestbps!= '?']\n",
    "df_2=df_1[df_1.chol!='?']\n",
    "df_2=df_2[df_2.fbs!='?']\n",
    "df_2=df_2[df_2.restecg!='?']\n",
    "df_2=df_2[df_2.thalach!='?']\n",
    "df_2=df_2[df_2.exang!='?']\n",
    "df_2=df_2[df_2.oldpeak!='?']\n",
    "df_2=df_2[df_2.slope!='?']\n",
    "\n",
    "\n"
   ]
  },
  {
   "cell_type": "code",
   "execution_count": 7,
   "metadata": {},
   "outputs": [
    {
     "name": "stdout",
     "output_type": "stream",
     "text": [
      "              age         sex          cp         num\n",
      "count  808.000000  808.000000  808.000000  808.000000\n",
      "mean    54.602723    0.726485    2.457921    0.887376\n",
      "std      8.878323    0.446039    1.495375    1.023123\n",
      "min     29.000000    0.000000    0.000000    0.000000\n",
      "25%     48.000000    0.000000    1.000000    0.000000\n",
      "50%     55.000000    1.000000    3.000000    1.000000\n",
      "75%     61.000000    1.000000    4.000000    1.000000\n",
      "max     77.000000    1.000000    4.000000    3.000000\n"
     ]
    },
    {
     "data": {
      "text/plain": [
       "0    382\n",
       "1    226\n",
       "2    109\n",
       "3     91\n",
       "Name: num, dtype: int64"
      ]
     },
     "execution_count": 7,
     "metadata": {},
     "output_type": "execute_result"
    }
   ],
   "source": [
    "data = df_2[df_2.num!=4]\n",
    "\n",
    "print(data.describe())\n",
    "data.num.value_counts()"
   ]
  },
  {
   "cell_type": "code",
   "execution_count": 144,
   "metadata": {},
   "outputs": [],
   "source": [
    "#data.to_csv('three.csv', encoding='utf-8')"
   ]
  },
  {
   "cell_type": "code",
   "execution_count": 3,
   "metadata": {},
   "outputs": [],
   "source": [
    "from sklearn.preprocessing import StandardScaler\n",
    "from sklearn.preprocessing import MinMaxScaler\n",
    "from sklearn.preprocessing import RobustScaler"
   ]
  },
  {
   "cell_type": "code",
   "execution_count": 291,
   "metadata": {},
   "outputs": [],
   "source": [
    "d=pd.read_csv('/Users/Asus/Desktop/IDP/IDP_3-2 finals/Algorithm/Datasets/pre2.csv',index_col=0)\n",
    "#Desktop/IDP/IDP_3-2 finals/Algorithm/Datasets/three.csv"
   ]
  },
  {
   "cell_type": "code",
   "execution_count": 292,
   "metadata": {},
   "outputs": [
    {
     "name": "stdout",
     "output_type": "stream",
     "text": [
      "<class 'pandas.core.frame.DataFrame'>\n",
      "Int64Index: 510 entries, 0 to 192\n",
      "Data columns (total 12 columns):\n",
      " #   Column    Non-Null Count  Dtype  \n",
      "---  ------    --------------  -----  \n",
      " 0   age       510 non-null    int64  \n",
      " 1   sex       510 non-null    int64  \n",
      " 2   cp        510 non-null    int64  \n",
      " 3   trestbps  510 non-null    int64  \n",
      " 4   chol      510 non-null    int64  \n",
      " 5   fbs       510 non-null    int64  \n",
      " 6   restecg   510 non-null    int64  \n",
      " 7   thalach   510 non-null    int64  \n",
      " 8   exang     510 non-null    int64  \n",
      " 9   oldpeak   510 non-null    float64\n",
      " 10  slope     510 non-null    int64  \n",
      " 11  num       510 non-null    int64  \n",
      "dtypes: float64(1), int64(11)\n",
      "memory usage: 51.8 KB\n"
     ]
    }
   ],
   "source": [
    "d.head()\n",
    "d.info()"
   ]
  },
  {
   "cell_type": "code",
   "execution_count": 293,
   "metadata": {},
   "outputs": [
    {
     "data": {
      "text/plain": [
       "0    207\n",
       "1    161\n",
       "2    142\n",
       "Name: num, dtype: int64"
      ]
     },
     "execution_count": 293,
     "metadata": {},
     "output_type": "execute_result"
    }
   ],
   "source": [
    "d.num.value_counts()"
   ]
  },
  {
   "cell_type": "code",
   "execution_count": 294,
   "metadata": {},
   "outputs": [],
   "source": [
    "X = d.drop(['num'], axis=1).values\n",
    "y = d['num'].values"
   ]
  },
  {
   "cell_type": "code",
   "execution_count": 295,
   "metadata": {},
   "outputs": [],
   "source": [
    "X_train, X_test, y_train, y_test =  train_test_split(X,y,test_size = 0.2, random_state=42)"
   ]
  },
  {
   "cell_type": "code",
   "execution_count": 296,
   "metadata": {},
   "outputs": [],
   "source": [
    "#X.to_csv('X_train.csv', encoding='utf-8')"
   ]
  },
  {
   "cell_type": "code",
   "execution_count": 297,
   "metadata": {},
   "outputs": [],
   "source": [
    "sc_X = RobustScaler()\n",
    "X_train = sc_X.fit_transform(X_train)\n",
    "X_test = sc_X.transform(X_test)"
   ]
  },
  {
   "cell_type": "code",
   "execution_count": 298,
   "metadata": {},
   "outputs": [
    {
     "name": "stdout",
     "output_type": "stream",
     "text": [
      "Accuracy: 0.66\n"
     ]
    }
   ],
   "source": [
    "classifier = KNeighborsClassifier(n_neighbors =7)\n",
    "classifier = classifier.fit(X_train,y_train)\n",
    "#prediction\n",
    "y_pred = classifier.predict(X_test)\n",
    "accuracy = metrics.accuracy_score(y_test, y_pred)\n",
    "print('Accuracy: {:.2f}'.format(accuracy))\n"
   ]
  },
  {
   "cell_type": "code",
   "execution_count": 299,
   "metadata": {},
   "outputs": [],
   "source": [
    "classifier_man = KNeighborsClassifier(n_neighbors =7, metric = 'manhattan', p = 1)\n",
    "classifier_man = classifier_man.fit(X_train,y_train)\n",
    "y_pred = classifier_man.predict(X_test)"
   ]
  },
  {
   "cell_type": "code",
   "execution_count": 300,
   "metadata": {},
   "outputs": [
    {
     "name": "stdout",
     "output_type": "stream",
     "text": [
      "Accuracy: 0.71\n"
     ]
    }
   ],
   "source": [
    "accuracy = metrics.accuracy_score(y_test, y_pred)\n",
    "print('Accuracy: {:.2f}'.format(accuracy))"
   ]
  },
  {
   "cell_type": "code",
   "execution_count": 275,
   "metadata": {},
   "outputs": [
    {
     "data": {
      "image/png": "[encoded data removed]",
      "text/plain": [
       "<Figure size 432x288 with 2 Axes>"
      ]
     },
     "metadata": {
      "needs_background": "light"
     },
     "output_type": "display_data"
    }
   ],
   "source": [
    "from sklearn.metrics import plot_confusion_matrix\n",
    "plot_confusion_matrix(classifier_man, X_test, y_test)  \n",
    "plt.show() "
   ]
  },
  {
   "cell_type": "code",
   "execution_count": 309,
   "metadata": {},
   "outputs": [
    {
     "name": "stdout",
     "output_type": "stream",
     "text": [
      "Accuracy Score:\n",
      "0.6568627450980392\n"
     ]
    }
   ],
   "source": [
    "from sklearn.naive_bayes import GaussianNB\n",
    "from sklearn import metrics\n",
    "classifier = GaussianNB()\n",
    "classifier.fit(X_train, y_train)\n",
    "y_pred = classifier.predict(X_test)\n",
    "\n",
    "\n",
    "print('Accuracy Score:')\n",
    "print(metrics.accuracy_score(y_test,y_pred))\n",
    "\n"
   ]
  },
  {
   "cell_type": "code",
   "execution_count": null,
   "metadata": {},
   "outputs": [],
   "source": []
  },
  {
   "cell_type": "code",
   "execution_count": 153,
   "metadata": {},
   "outputs": [],
   "source": [
    "from sklearn.preprocessing import StandardScaler\n",
    "from sklearn.preprocessing import MinMaxScaler\n",
    "from sklearn.preprocessing import RobustScaler\n",
    "from sklearn.metrics import accuracy_score\n",
    "from sklearn.model_selection import train_test_split\n",
    "from sklearn.metrics import roc_auc_score\n"
   ]
  },
  {
   "cell_type": "code",
   "execution_count": 276,
   "metadata": {},
   "outputs": [],
   "source": [
    "df_model = d.copy()#Rescaling features age, trestbps, chol, thalach, oldpeak.\n",
    "scaler =RobustScaler()\n",
    "features = [['age','trestbps', 'chol', 'thalach', 'oldpeak']]\n",
    "for feature in features:\n",
    "    df_model[feature] = scaler.fit_transform(df_model[feature])"
   ]
  },
  {
   "cell_type": "code",
   "execution_count": 277,
   "metadata": {},
   "outputs": [],
   "source": [
    "X = df_model.drop(['num'], axis=1).values\n",
    "y = df_model['num'].values"
   ]
  },
  {
   "cell_type": "code",
   "execution_count": 278,
   "metadata": {},
   "outputs": [],
   "source": [
    "X_train, X_test, y_train, y_test =  train_test_split(X,y,test_size = 0.2, random_state=42)"
   ]
  },
  {
   "cell_type": "code",
   "execution_count": 287,
   "metadata": {},
   "outputs": [],
   "source": [
    "f_c = KNeighborsClassifier(n_neighbors =14, metric = 'manhattan', p = 1)\n",
    "f_c = f_c.fit(X_train,y_train)\n",
    "y_pred = f_c.predict(X_test)"
   ]
  },
  {
   "cell_type": "code",
   "execution_count": 288,
   "metadata": {},
   "outputs": [
    {
     "name": "stdout",
     "output_type": "stream",
     "text": [
      "0.6862745098039216\n"
     ]
    }
   ],
   "source": [
    "print(accuracy_score(y_test, y_pred))\n"
   ]
  },
  {
   "cell_type": "code",
   "execution_count": 286,
   "metadata": {},
   "outputs": [],
   "source": [
    "from sklearn.model_selection import cross_val_score\n",
    "knn_scores=[]\n",
    "for k in range(1,41):\n",
    "    f_c = KNeighborsClassifier(n_neighbors = k, metric = 'manhattan', p = 2)\n",
    "    score=cross_val_score(f_c,X,y,cv=10)\n",
    "    knn_scores.append(score.mean())"
   ]
  },
  {
   "cell_type": "code",
   "execution_count": 117,
   "metadata": {},
   "outputs": [
    {
     "data": {
      "text/plain": [
       "[0.4882352941176471,\n",
       " 0.5078431372549019,\n",
       " 0.5352941176470588,\n",
       " 0.5627450980392157,\n",
       " 0.5509803921568628,\n",
       " 0.5529411764705883,\n",
       " 0.5509803921568627,\n",
       " 0.5529411764705882,\n",
       " 0.5686274509803921,\n",
       " 0.5686274509803921,\n",
       " 0.5705882352941176,\n",
       " 0.5784313725490196,\n",
       " 0.5941176470588234,\n",
       " 0.588235294117647,\n",
       " 0.5784313725490196,\n",
       " 0.5921568627450979,\n",
       " 0.5843137254901961,\n",
       " 0.5921568627450979,\n",
       " 0.5882352941176471,\n",
       " 0.5941176470588235,\n",
       " 0.5941176470588235,\n",
       " 0.6,\n",
       " 0.6039215686274509,\n",
       " 0.5980392156862745,\n",
       " 0.592156862745098,\n",
       " 0.596078431372549,\n",
       " 0.6039215686274509,\n",
       " 0.6137254901960785,\n",
       " 0.6078431372549019,\n",
       " 0.6078431372549019,\n",
       " 0.6137254901960785,\n",
       " 0.6058823529411764,\n",
       " 0.6098039215686274,\n",
       " 0.6137254901960784,\n",
       " 0.6098039215686274,\n",
       " 0.6078431372549019,\n",
       " 0.6039215686274509,\n",
       " 0.6019607843137255,\n",
       " 0.6078431372549019,\n",
       " 0.6058823529411764]"
      ]
     },
     "execution_count": 117,
     "metadata": {},
     "output_type": "execute_result"
    }
   ],
   "source": [
    "knn_scores\n"
   ]
  },
  {
   "cell_type": "code",
   "execution_count": 207,
   "metadata": {},
   "outputs": [
    {
     "data": {
      "image/png": "[encoded data removed]",
      "text/plain": [
       "<Figure size 432x288 with 2 Axes>"
      ]
     },
     "metadata": {
      "needs_background": "light"
     },
     "output_type": "display_data"
    }
   ],
   "source": [
    "from sklearn.metrics import plot_confusion_matrix\n",
    "plot_confusion_matrix(f_c, X_test, y_test)  \n",
    "plt.show() "
   ]
  },
  {
   "cell_type": "code",
   "execution_count": 212,
   "metadata": {},
   "outputs": [],
   "source": [
    "from sklearn.neighbors import KNeighborsClassifier\n",
    "model = KNeighborsClassifier(algorithm='auto', leaf_size=1, metric='manhattan',\n",
    " metric_params=None, n_jobs=1, n_neighbors=14, p=1,\n",
    " weights='uniform')\n",
    "model.fit(X_train, y_train)\n",
    "y_pred = model.predict(X_test)"
   ]
  },
  {
   "cell_type": "code",
   "execution_count": 213,
   "metadata": {},
   "outputs": [
    {
     "name": "stdout",
     "output_type": "stream",
     "text": [
      "0.6862745098039216\n"
     ]
    }
   ],
   "source": [
    "print(accuracy_score(y_test, y_pred))"
   ]
  },
  {
   "cell_type": "code",
   "execution_count": 214,
   "metadata": {},
   "outputs": [
    {
     "data": {
      "image/png": "[encoded data removed]",
      "text/plain": [
       "<Figure size 432x288 with 2 Axes>"
      ]
     },
     "metadata": {
      "needs_background": "light"
     },
     "output_type": "display_data"
    }
   ],
   "source": [
    "from sklearn.metrics import plot_confusion_matrix\n",
    "plot_confusion_matrix(model, X_test, y_test)  \n",
    "plt.show() "
   ]
  },
  {
   "cell_type": "code",
   "execution_count": 302,
   "metadata": {},
   "outputs": [
    {
     "name": "stdout",
     "output_type": "stream",
     "text": [
      "Best leaf_size: 1\n",
      "Best p: 1\n",
      "Best n_neighbors: 15\n",
      "0.6372549019607843\n"
     ]
    }
   ],
   "source": [
    "#List Hyperparameters to tune\n",
    "from sklearn.model_selection import GridSearchCV\n",
    "leaf_size = list(range(1,50))\n",
    "n_neighbors = list(range(1,20))\n",
    "p=[1,2]#convert to dictionary\n",
    "hyperparameters = dict(leaf_size=leaf_size, n_neighbors=n_neighbors, p=p)#Making model\n",
    "clf = GridSearchCV(classifier_man, hyperparameters, cv=10)\n",
    "best_model = clf.fit(X_train,y_train)#Best Hyperparameters Value\n",
    "print('Best leaf_size:', best_model.best_estimator_.get_params()['leaf_size'])\n",
    "print('Best p:', best_model.best_estimator_.get_params()['p'])\n",
    "print('Best n_neighbors:', best_model.best_estimator_.get_params()['n_neighbors'])#Predict testing set\n",
    "y_pred = best_model.predict(X_test)#Check performance using accuracy\n",
    "print(accuracy_score(y_test, y_pred))"
   ]
  },
  {
   "cell_type": "code",
   "execution_count": null,
   "metadata": {},
   "outputs": [],
   "source": [
    "cm"
   ]
  },
  {
   "cell_type": "code",
   "execution_count": 222,
   "metadata": {},
   "outputs": [
    {
     "data": {
      "text/plain": [
       "0.5568627450980392"
      ]
     },
     "execution_count": 222,
     "metadata": {},
     "output_type": "execute_result"
    }
   ],
   "source": [
    "from sklearn.ensemble import RandomForestClassifier\n",
    "rf=RandomForestClassifier(n_estimators=21)\n",
    "rf = rf.fit(X_train,y_train)\n",
    "score=cross_val_score(rf,X,y,cv=10)\n",
    "score.mean()"
   ]
  },
  {
   "cell_type": "code",
   "execution_count": 613,
   "metadata": {},
   "outputs": [],
   "source": [
    "rf_scores=[]\n",
    "for k in range(1,30):\n",
    "    rf=RandomForestClassifier(n_estimators=k)\n",
    "    score=cross_val_score(rf,X,y,cv=10)\n",
    "    rf_scores.append(score.mean())"
   ]
  },
  {
   "cell_type": "code",
   "execution_count": 614,
   "metadata": {},
   "outputs": [
    {
     "data": {
      "text/plain": [
       "[0.5109567901234568,\n",
       " 0.5208179012345678,\n",
       " 0.5382407407407407,\n",
       " 0.5369598765432099,\n",
       " 0.5159567901234567,\n",
       " 0.5914043209876543,\n",
       " 0.5220061728395062,\n",
       " 0.5616975308641975,\n",
       " 0.5642283950617284,\n",
       " 0.5641666666666667,\n",
       " 0.5654475308641975,\n",
       " 0.5628858024691358,\n",
       " 0.5714969135802468,\n",
       " 0.5567746913580247,\n",
       " 0.5493364197530864,\n",
       " 0.5480864197530864,\n",
       " 0.5629012345679012,\n",
       " 0.5580092592592591,\n",
       " 0.5578549382716049,\n",
       " 0.5826234567901234,\n",
       " 0.5777932098765431,\n",
       " 0.5665432098765433,\n",
       " 0.5690895061728396,\n",
       " 0.5739351851851852,\n",
       " 0.559212962962963,\n",
       " 0.5716203703703704,\n",
       " 0.5653086419753086,\n",
       " 0.5741203703703703,\n",
       " 0.5851234567901235]"
      ]
     },
     "execution_count": 614,
     "metadata": {},
     "output_type": "execute_result"
    }
   ],
   "source": [
    "rf_scores"
   ]
  },
  {
   "cell_type": "code",
   "execution_count": 223,
   "metadata": {},
   "outputs": [
    {
     "data": {
      "image/png": "[encoded data removed]",
      "text/plain": [
       "<Figure size 432x288 with 2 Axes>"
      ]
     },
     "metadata": {
      "needs_background": "light"
     },
     "output_type": "display_data"
    }
   ],
   "source": [
    "from sklearn.metrics import plot_confusion_matrix\n",
    "plot_confusion_matrix(rf, X_test, y_test)  \n",
    "plt.show() "
   ]
  },
  {
   "cell_type": "code",
   "execution_count": 225,
   "metadata": {},
   "outputs": [
    {
     "name": "stdout",
     "output_type": "stream",
     "text": [
      "Accuracy: 0.66\n"
     ]
    },
    {
     "data": {
      "image/png": "[encoded data removed]",
      "text/plain": [
       "<Figure size 432x288 with 2 Axes>"
      ]
     },
     "metadata": {
      "needs_background": "light"
     },
     "output_type": "display_data"
    }
   ],
   "source": [
    "from sklearn.svm import SVC\n",
    "from sklearn.metrics import plot_confusion_matrix\n",
    "\n",
    "\n",
    "\n",
    "clf = SVC(random_state=42)\n",
    "clf.fit(X_train, y_train)\n",
    "\n",
    "y_pred = clf.predict(X_test)\n",
    "accuracy = metrics.accuracy_score(y_test, y_pred)\n",
    "print('Accuracy: {:.2f}'.format(accuracy))\n",
    "\n",
    "SVC(random_state=42)\n",
    "plot_confusion_matrix(clf, X_test, y_test)  \n",
    "plt.show() "
   ]
  },
  {
   "cell_type": "code",
   "execution_count": 226,
   "metadata": {},
   "outputs": [
    {
     "name": "stdout",
     "output_type": "stream",
     "text": [
      "0.6274509803921569\n"
     ]
    }
   ],
   "source": [
    "from sklearn.ensemble import GradientBoostingClassifier\n",
    "model = GradientBoostingClassifier()\n",
    "model.fit(X_train, y_train)\n",
    "\n",
    "y_pred = model.predict(X_test)\n",
    "\n",
    "print(accuracy_score(y_test, y_pred))"
   ]
  },
  {
   "cell_type": "code",
   "execution_count": 87,
   "metadata": {},
   "outputs": [],
   "source": [
    "import pickle\n"
   ]
  },
  {
   "cell_type": "code",
   "execution_count": 88,
   "metadata": {},
   "outputs": [],
   "source": [
    "with open(\"model1_predictis\",'wb')as f:\n",
    "    pickle.dump(classifier,f)"
   ]
  },
  {
   "cell_type": "code",
   "execution_count": null,
   "metadata": {},
   "outputs": [],
   "source": [
    "GradientBoostingClassifier(criterion=’friedman_mse’, init=None,\n",
    " learning_rate=0.1, loss=’deviance’, max_depth=3,\n",
    " max_features=None, max_leaf_nodes=None,\n",
    " min_impurity_split=1e-07, min_samples_leaf=1,\n",
    " min_samples_split=2, min_weight_fraction_leaf=0.0,\n",
    " n_estimators=100, presort=’auto’, random_state=None,\n",
    " subsample=1.0, verbose=0, warm_start=False)"
   ]
  },
  {
   "cell_type": "code",
   "execution_count": null,
   "metadata": {},
   "outputs": [],
   "source": []
  }
 ],
 "metadata": {
  "kernelspec": {
   "display_name": "Python 3",
   "language": "python",
   "name": "python3"
  },
  "language_info": {
   "codemirror_mode": {
    "name": "ipython",
    "version": 3
   },
   "file_extension": ".py",
   "mimetype": "text/x-python",
   "name": "python",
   "nbconvert_exporter": "python",
   "pygments_lexer": "ipython3",
   "version": "3.8.5"
  }
 },
 "nbformat": 4,
 "nbformat_minor": 4
}
